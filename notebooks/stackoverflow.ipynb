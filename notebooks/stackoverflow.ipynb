{
 "cells": [
  {
   "cell_type": "markdown",
   "metadata": {},
   "source": [
    "### import packages and configure"
   ]
  },
  {
   "cell_type": "code",
   "execution_count": 1,
   "metadata": {},
   "outputs": [],
   "source": [
    "import os\n",
    "import sys"
   ]
  },
  {
   "cell_type": "code",
   "execution_count": 2,
   "metadata": {},
   "outputs": [],
   "source": [
    "import numpy as np\n",
    "import pandas as pd"
   ]
  },
  {
   "cell_type": "code",
   "execution_count": 3,
   "metadata": {},
   "outputs": [],
   "source": [
    "%load_ext autoreload\n",
    "%autoreload 2"
   ]
  },
  {
   "cell_type": "code",
   "execution_count": 4,
   "metadata": {},
   "outputs": [
    {
     "name": "stdout",
     "output_type": "stream",
     "text": [
      "/Users/lcx/Documents/courses/udacity_DS/2-Intro_to_DS/project_medium_post/notebooks\n"
     ]
    }
   ],
   "source": [
    "!pwd"
   ]
  },
  {
   "cell_type": "code",
   "execution_count": 5,
   "metadata": {},
   "outputs": [],
   "source": [
    "import matplotlib.pyplot as plt\n",
    "\n",
    "SMALL_SIZE = 12\n",
    "MEDIUM_SIZE = 14\n",
    "BIGGER_SIZE = 16\n",
    "\n",
    "plt.rc('font', size=SMALL_SIZE)          # controls default text sizes\n",
    "plt.rc('axes', titlesize=SMALL_SIZE)     # fontsize of the axes title\n",
    "plt.rc('axes', labelsize=MEDIUM_SIZE)    # fontsize of the x and y labels\n",
    "plt.rc('xtick', labelsize=SMALL_SIZE)    # fontsize of the tick labels\n",
    "plt.rc('ytick', labelsize=SMALL_SIZE)    # fontsize of the tick labels\n",
    "plt.rc('legend', fontsize=MEDIUM_SIZE)    # legend fontsize\n",
    "plt.rc('figure', titlesize=BIGGER_SIZE)  # fontsize of the figure title\n",
    "\n",
    "import seaborn as sns"
   ]
  },
  {
   "cell_type": "code",
   "execution_count": 6,
   "metadata": {},
   "outputs": [],
   "source": [
    "sys.path.insert(1, '/Users/lcx/Documents/courses/udacity_DS/2-Intro_to_DS/project_medium_post/code')"
   ]
  },
  {
   "cell_type": "code",
   "execution_count": 7,
   "metadata": {},
   "outputs": [],
   "source": [
    "from data_process import extract_data_related"
   ]
  },
  {
   "cell_type": "code",
   "execution_count": 8,
   "metadata": {},
   "outputs": [],
   "source": [
    "root_dir = '/Users/lcx/Documents/courses/udacity_DS/2-Intro_to_DS/project_medium_post'"
   ]
  },
  {
   "cell_type": "code",
   "execution_count": 9,
   "metadata": {},
   "outputs": [
    {
     "name": "stdout",
     "output_type": "stream",
     "text": [
      "/Users/lcx/Documents/courses/udacity_DS/2-Intro_to_DS/project_medium_post/notebooks\n"
     ]
    }
   ],
   "source": [
    "!pwd"
   ]
  },
  {
   "cell_type": "code",
   "execution_count": 10,
   "metadata": {},
   "outputs": [],
   "source": [
    "df_survey = pd.read_csv(os.path.join(root_dir, 'data/developer_survey_2020/survey_results_public.csv'))"
   ]
  },
  {
   "cell_type": "code",
   "execution_count": 11,
   "metadata": {},
   "outputs": [
    {
     "data": {
      "text/plain": [
       "(64461, 61)"
      ]
     },
     "execution_count": 11,
     "metadata": {},
     "output_type": "execute_result"
    }
   ],
   "source": [
    "df_survey.shape"
   ]
  },
  {
   "cell_type": "code",
   "execution_count": 12,
   "metadata": {},
   "outputs": [
    {
     "data": {
      "text/plain": [
       "15091"
      ]
     },
     "execution_count": 12,
     "metadata": {},
     "output_type": "execute_result"
    }
   ],
   "source": [
    "# how many missing DevType\n",
    "\n",
    "df_survey['DevType'].isnull().sum()"
   ]
  },
  {
   "cell_type": "markdown",
   "metadata": {},
   "source": [
    "Questions:\n",
    "\n",
    "1. Among the data-related roles (data scientist, data analyst, data engineer), what makes the most?\n",
    "2. What are the trends of data-related role in last three year?\n",
    "    * Payment;\n",
    "    * numbers of data roles;\n",
    "    * Job satisfaction.\n",
    "3. How to predict job satisfaction for data-related roles?"
   ]
  },
  {
   "cell_type": "markdown",
   "metadata": {},
   "source": [
    "## 1. Exploratory analysis of data-related developers"
   ]
  },
  {
   "cell_type": "code",
   "execution_count": 13,
   "metadata": {},
   "outputs": [],
   "source": [
    "from collections import defaultdict"
   ]
  },
  {
   "cell_type": "code",
   "execution_count": 14,
   "metadata": {},
   "outputs": [],
   "source": [
    "# get the counts of different developer types\n",
    "\n",
    "df_DevType = df_survey['DevType'].value_counts().to_frame().reset_index().rename(columns={'DevType':'count', 'index': 'DevType'})"
   ]
  },
  {
   "cell_type": "code",
   "execution_count": 15,
   "metadata": {},
   "outputs": [
    {
     "data": {
      "text/html": [
       "<div>\n",
       "<style scoped>\n",
       "    .dataframe tbody tr th:only-of-type {\n",
       "        vertical-align: middle;\n",
       "    }\n",
       "\n",
       "    .dataframe tbody tr th {\n",
       "        vertical-align: top;\n",
       "    }\n",
       "\n",
       "    .dataframe thead th {\n",
       "        text-align: right;\n",
       "    }\n",
       "</style>\n",
       "<table border=\"1\" class=\"dataframe\">\n",
       "  <thead>\n",
       "    <tr style=\"text-align: right;\">\n",
       "      <th></th>\n",
       "      <th>DevType</th>\n",
       "      <th>count</th>\n",
       "      <th>DevType_list</th>\n",
       "    </tr>\n",
       "  </thead>\n",
       "  <tbody>\n",
       "    <tr>\n",
       "      <th>0</th>\n",
       "      <td>Developer, full-stack</td>\n",
       "      <td>4424</td>\n",
       "      <td>{Developer_full-stack}</td>\n",
       "    </tr>\n",
       "    <tr>\n",
       "      <th>1</th>\n",
       "      <td>Developer, back-end</td>\n",
       "      <td>3086</td>\n",
       "      <td>{Developer_back-end}</td>\n",
       "    </tr>\n",
       "    <tr>\n",
       "      <th>2</th>\n",
       "      <td>Developer, back-end;Developer, front-end;Devel...</td>\n",
       "      <td>2227</td>\n",
       "      <td>{Developer_back-end, Developer_full-stack, Dev...</td>\n",
       "    </tr>\n",
       "    <tr>\n",
       "      <th>3</th>\n",
       "      <td>Developer, back-end;Developer, full-stack</td>\n",
       "      <td>1476</td>\n",
       "      <td>{Developer_back-end, Developer_full-stack}</td>\n",
       "    </tr>\n",
       "    <tr>\n",
       "      <th>4</th>\n",
       "      <td>Developer, front-end</td>\n",
       "      <td>1401</td>\n",
       "      <td>{Developer_front-end}</td>\n",
       "    </tr>\n",
       "    <tr>\n",
       "      <th>...</th>\n",
       "      <td>...</td>\n",
       "      <td>...</td>\n",
       "      <td>...</td>\n",
       "    </tr>\n",
       "    <tr>\n",
       "      <th>8264</th>\n",
       "      <td>Data or business analyst;Data scientist or mac...</td>\n",
       "      <td>1</td>\n",
       "      <td>{Engineer_data, Developer_desktop or enterpris...</td>\n",
       "    </tr>\n",
       "    <tr>\n",
       "      <th>8265</th>\n",
       "      <td>Designer;Developer, back-end;Developer, front-...</td>\n",
       "      <td>1</td>\n",
       "      <td>{Developer_front-end, Educator, Designer, Prod...</td>\n",
       "    </tr>\n",
       "    <tr>\n",
       "      <th>8266</th>\n",
       "      <td>Developer, desktop or enterprise applications;...</td>\n",
       "      <td>1</td>\n",
       "      <td>{System administrator, Developer_desktop or en...</td>\n",
       "    </tr>\n",
       "    <tr>\n",
       "      <th>8267</th>\n",
       "      <td>Developer, back-end;Developer, desktop or ente...</td>\n",
       "      <td>1</td>\n",
       "      <td>{Developer_front-end, Developer_mobile, Develo...</td>\n",
       "    </tr>\n",
       "    <tr>\n",
       "      <th>8268</th>\n",
       "      <td>Data or business analyst;Designer;Developer, d...</td>\n",
       "      <td>1</td>\n",
       "      <td>{Data or business analyst, Developer_desktop o...</td>\n",
       "    </tr>\n",
       "  </tbody>\n",
       "</table>\n",
       "<p>8269 rows × 3 columns</p>\n",
       "</div>"
      ],
      "text/plain": [
       "                                                DevType  count  \\\n",
       "0                                 Developer, full-stack   4424   \n",
       "1                                   Developer, back-end   3086   \n",
       "2     Developer, back-end;Developer, front-end;Devel...   2227   \n",
       "3             Developer, back-end;Developer, full-stack   1476   \n",
       "4                                  Developer, front-end   1401   \n",
       "...                                                 ...    ...   \n",
       "8264  Data or business analyst;Data scientist or mac...      1   \n",
       "8265  Designer;Developer, back-end;Developer, front-...      1   \n",
       "8266  Developer, desktop or enterprise applications;...      1   \n",
       "8267  Developer, back-end;Developer, desktop or ente...      1   \n",
       "8268  Data or business analyst;Designer;Developer, d...      1   \n",
       "\n",
       "                                           DevType_list  \n",
       "0                                {Developer_full-stack}  \n",
       "1                                  {Developer_back-end}  \n",
       "2     {Developer_back-end, Developer_full-stack, Dev...  \n",
       "3            {Developer_back-end, Developer_full-stack}  \n",
       "4                                 {Developer_front-end}  \n",
       "...                                                 ...  \n",
       "8264  {Engineer_data, Developer_desktop or enterpris...  \n",
       "8265  {Developer_front-end, Educator, Designer, Prod...  \n",
       "8266  {System administrator, Developer_desktop or en...  \n",
       "8267  {Developer_front-end, Developer_mobile, Develo...  \n",
       "8268  {Data or business analyst, Developer_desktop o...  \n",
       "\n",
       "[8269 rows x 3 columns]"
      ]
     },
     "execution_count": 15,
     "metadata": {},
     "output_type": "execute_result"
    }
   ],
   "source": [
    "# replace ',' by '_' so we can split the string of DevType into a list later\n",
    "\n",
    "df_DevType['DevType_list'] = df_DevType['DevType'].str.replace(', ', '_').str.split(';')\n",
    "\n",
    "df_DevType['DevType_list'] = df_DevType['DevType_list'].apply(lambda x: set(x))  # convert list to dictionary for efficiency\n",
    "\n",
    "df_DevType"
   ]
  },
  {
   "cell_type": "code",
   "execution_count": null,
   "metadata": {},
   "outputs": [],
   "source": []
  },
  {
   "cell_type": "markdown",
   "metadata": {},
   "source": [
    "### 1.1. filter rows to focus on data-related roles:\n",
    "* Data scientist or machine learning specialist\n",
    "* Data or business analyst\n",
    "* Engineer, data\n",
    "    "
   ]
  },
  {
   "cell_type": "code",
   "execution_count": 16,
   "metadata": {},
   "outputs": [
    {
     "data": {
      "text/plain": [
       "(3889, 4)"
      ]
     },
     "execution_count": 16,
     "metadata": {},
     "output_type": "execute_result"
    }
   ],
   "source": [
    "df_DevType['data_related'] = df_DevType['DevType'].\\\n",
    "    str.contains('data(?![a-z])', case=False, regex=True)\n",
    "\n",
    "df_DevType_data = df_DevType[df_DevType['data_related']==True].copy()\n",
    "\n",
    "df_DevType_data.shape"
   ]
  },
  {
   "cell_type": "code",
   "execution_count": 17,
   "metadata": {},
   "outputs": [
    {
     "data": {
      "text/html": [
       "<div>\n",
       "<style scoped>\n",
       "    .dataframe tbody tr th:only-of-type {\n",
       "        vertical-align: middle;\n",
       "    }\n",
       "\n",
       "    .dataframe tbody tr th {\n",
       "        vertical-align: top;\n",
       "    }\n",
       "\n",
       "    .dataframe thead th {\n",
       "        text-align: right;\n",
       "    }\n",
       "</style>\n",
       "<table border=\"1\" class=\"dataframe\">\n",
       "  <thead>\n",
       "    <tr style=\"text-align: right;\">\n",
       "      <th></th>\n",
       "      <th>DevType</th>\n",
       "      <th>count</th>\n",
       "      <th>DevType_list</th>\n",
       "      <th>data_related</th>\n",
       "    </tr>\n",
       "  </thead>\n",
       "  <tbody>\n",
       "    <tr>\n",
       "      <th>13</th>\n",
       "      <td>Data scientist or machine learning specialist</td>\n",
       "      <td>369</td>\n",
       "      <td>{Data scientist or machine learning specialist}</td>\n",
       "      <td>True</td>\n",
       "    </tr>\n",
       "    <tr>\n",
       "      <th>17</th>\n",
       "      <td>Data or business analyst</td>\n",
       "      <td>285</td>\n",
       "      <td>{Data or business analyst}</td>\n",
       "      <td>True</td>\n",
       "    </tr>\n",
       "    <tr>\n",
       "      <th>24</th>\n",
       "      <td>Developer, back-end;Engineer, data</td>\n",
       "      <td>227</td>\n",
       "      <td>{Developer_back-end, Engineer_data}</td>\n",
       "      <td>True</td>\n",
       "    </tr>\n",
       "    <tr>\n",
       "      <th>30</th>\n",
       "      <td>Engineer, data</td>\n",
       "      <td>189</td>\n",
       "      <td>{Engineer_data}</td>\n",
       "      <td>True</td>\n",
       "    </tr>\n",
       "    <tr>\n",
       "      <th>32</th>\n",
       "      <td>Data or business analyst;Data scientist or mac...</td>\n",
       "      <td>186</td>\n",
       "      <td>{Data or business analyst, Data scientist or m...</td>\n",
       "      <td>True</td>\n",
       "    </tr>\n",
       "  </tbody>\n",
       "</table>\n",
       "</div>"
      ],
      "text/plain": [
       "                                              DevType  count  \\\n",
       "13      Data scientist or machine learning specialist    369   \n",
       "17                           Data or business analyst    285   \n",
       "24                 Developer, back-end;Engineer, data    227   \n",
       "30                                     Engineer, data    189   \n",
       "32  Data or business analyst;Data scientist or mac...    186   \n",
       "\n",
       "                                         DevType_list  data_related  \n",
       "13    {Data scientist or machine learning specialist}          True  \n",
       "17                         {Data or business analyst}          True  \n",
       "24                {Developer_back-end, Engineer_data}          True  \n",
       "30                                    {Engineer_data}          True  \n",
       "32  {Data or business analyst, Data scientist or m...          True  "
      ]
     },
     "execution_count": 17,
     "metadata": {},
     "output_type": "execute_result"
    }
   ],
   "source": [
    "df_DevType_data.head(5)"
   ]
  },
  {
   "cell_type": "code",
   "execution_count": 18,
   "metadata": {},
   "outputs": [
    {
     "name": "stdout",
     "output_type": "stream",
     "text": [
      "Percentage of data-related roles from survey:  13.54%\n"
     ]
    }
   ],
   "source": [
    "print(f\"Percentage of data-related roles from survey: {sum(df_DevType_data['count']) / len(df_survey)*100: 5.2f}%\")"
   ]
  },
  {
   "cell_type": "code",
   "execution_count": 19,
   "metadata": {},
   "outputs": [
    {
     "data": {
      "text/plain": [
       "8726"
      ]
     },
     "execution_count": 19,
     "metadata": {},
     "output_type": "execute_result"
    }
   ],
   "source": [
    "sum(df_DevType_data['count'])"
   ]
  },
  {
   "cell_type": "markdown",
   "metadata": {},
   "source": [
    "### 1.2. count number of different roles (associated with data-related)"
   ]
  },
  {
   "cell_type": "code",
   "execution_count": 20,
   "metadata": {},
   "outputs": [],
   "source": [
    "data_role_count = defaultdict(int)\n",
    "\n",
    "for idx, row in df_DevType_data.iterrows():\n",
    "    for role in row['DevType_list']:\n",
    "        data_role_count[role] = data_role_count[role] + row['count']"
   ]
  },
  {
   "cell_type": "code",
   "execution_count": 22,
   "metadata": {},
   "outputs": [
    {
     "data": {
      "text/plain": [
       "defaultdict(int,\n",
       "            {'Data scientist or machine learning specialist': 3988,\n",
       "             'Data or business analyst': 4024,\n",
       "             'Developer_back-end': 4843,\n",
       "             'Engineer_data': 3738,\n",
       "             'Academic researcher': 1585,\n",
       "             'Scientist': 1140,\n",
       "             'Developer_full-stack': 3814,\n",
       "             'Developer_mobile': 1339,\n",
       "             'Developer_desktop or enterprise applications': 2184,\n",
       "             'Engineer_site reliability': 631,\n",
       "             'Engineering manager': 771,\n",
       "             'Developer_embedded applications or devices': 1024,\n",
       "             'Marketing or sales professional': 295,\n",
       "             'System administrator': 1504,\n",
       "             'DevOps specialist': 1359,\n",
       "             'Developer_front-end': 2578,\n",
       "             'Database administrator': 2220,\n",
       "             'Educator': 891,\n",
       "             'Developer_QA or test': 987,\n",
       "             'Designer': 1344,\n",
       "             'Product manager': 876,\n",
       "             'Developer_game or graphics': 563,\n",
       "             'Senior executive/VP': 446})"
      ]
     },
     "execution_count": 22,
     "metadata": {},
     "output_type": "execute_result"
    }
   ],
   "source": [
    "data_role_count"
   ]
  },
  {
   "cell_type": "code",
   "execution_count": 23,
   "metadata": {},
   "outputs": [
    {
     "data": {
      "text/plain": [
       "Text(0.5, 1.0, 'data-related roles count')"
      ]
     },
     "execution_count": 23,
     "metadata": {},
     "output_type": "execute_result"
    },
    {
     "data": {
      "image/png": "[encoded data removed]",
      "text/plain": [
       "<Figure size 576x432 with 1 Axes>"
      ]
     },
     "metadata": {
      "needs_background": "light"
     },
     "output_type": "display_data"
    }
   ],
   "source": [
    "fig, ax = plt.subplots(figsize=(8, 6))\n",
    "pd.Series(data_role_count).sort_values().plot.barh(ax=ax)\n",
    "\n",
    "ax.set_xlabel('counts')\n",
    "ax.set_title('data-related roles count')"
   ]
  },
  {
   "cell_type": "code",
   "execution_count": 70,
   "metadata": {},
   "outputs": [
    {
     "data": {
      "text/plain": [
       "Text(0.5, 1.0, 'data roles (DS, DA, DE) count')"
      ]
     },
     "execution_count": 70,
     "metadata": {},
     "output_type": "execute_result"
    },
    {
     "data": {
      "image/png": "[encoded data removed]",
      "text/plain": [
       "<Figure size 576x432 with 1 Axes>"
      ]
     },
     "metadata": {
      "needs_background": "light"
     },
     "output_type": "display_data"
    }
   ],
   "source": [
    "fig, ax = plt.subplots(figsize=(8, 6))\n",
    "\n",
    "data_role_count_1 = {'DS': 3988, 'DA': 4024, 'DE': 3738}\n",
    "\n",
    "pd.Series(data_role_count_1).plot(kind='bar', color=['C0', 'orange', 'green'], ax=ax, rot=0)\n",
    "\n",
    "ax.set_xlabel('data role') \n",
    "# ax.set_xticklabels(ax.get_xticks(), rotation=90)\n",
    "ax.set_ylabel('counts')\n",
    "ax.set_title('data roles (DS, DA, DE) count')"
   ]
  },
  {
   "cell_type": "markdown",
   "metadata": {},
   "source": [
    "### 1.3. count roles associated with each data role (Data Scientist, Data Analysis, Data Engineer)"
   ]
  },
  {
   "cell_type": "code",
   "execution_count": 27,
   "metadata": {},
   "outputs": [],
   "source": [
    "DS_multiple_roles = defaultdict(int)\n",
    "DA_multiple_roles = defaultdict(int)\n",
    "DE_multiple_roles = defaultdict(int)\n",
    "\n",
    "DS_counts, DA_counts, DE_counts = 0, 0, 0\n",
    "DS_only_counts, DA_only_counts, DE_only_counts = 0, 0, 0\n",
    "\n",
    "for idx, row in df_DevType_data.iterrows(): \n",
    "            \n",
    "    if 'Data scientist or machine learning specialist' in row['DevType_list']:\n",
    "        DS_counts += row['count']\n",
    "        if len(row['DevType_list']) == 1:\n",
    "            DS_only_counts += row['count']\n",
    "        for role in row['DevType_list']:\n",
    "            DS_multiple_roles[role] = DS_multiple_roles[role] + row['count']\n",
    "    \n",
    "    if 'Data or business analyst' in row['DevType_list']:\n",
    "        DA_counts += row['count']\n",
    "        if len(row['DevType_list']) == 1:\n",
    "            DA_only_counts += row['count']\n",
    "        for role in row['DevType_list']:\n",
    "            DA_multiple_roles[role] = DA_multiple_roles[role] + row['count']\n",
    "            \n",
    "    if 'Engineer_data' in row['DevType_list']:\n",
    "        DE_counts += row['count']\n",
    "        if len(row['DevType_list']) == 1:\n",
    "            DE_only_counts += row['count']\n",
    "        for role in row['DevType_list']:\n",
    "            DE_multiple_roles[role] = DE_multiple_roles[role] + row['count']\n",
    "\n"
   ]
  },
  {
   "cell_type": "code",
   "execution_count": 28,
   "metadata": {},
   "outputs": [],
   "source": [
    "index = ['DS', 'DA', 'DE']\n",
    "total_count = [DS_counts, DA_counts, DE_counts]\n",
    "only_count = [DS_only_counts, DA_only_counts, DE_only_counts]\n",
    "\n",
    "df_counts = pd.DataFrame({'total_count': total_count, 'only_count': only_count}, index=index)"
   ]
  },
  {
   "cell_type": "code",
   "execution_count": 29,
   "metadata": {},
   "outputs": [
    {
     "data": {
      "text/html": [
       "<div>\n",
       "<style scoped>\n",
       "    .dataframe tbody tr th:only-of-type {\n",
       "        vertical-align: middle;\n",
       "    }\n",
       "\n",
       "    .dataframe tbody tr th {\n",
       "        vertical-align: top;\n",
       "    }\n",
       "\n",
       "    .dataframe thead th {\n",
       "        text-align: right;\n",
       "    }\n",
       "</style>\n",
       "<table border=\"1\" class=\"dataframe\">\n",
       "  <thead>\n",
       "    <tr style=\"text-align: right;\">\n",
       "      <th></th>\n",
       "      <th>total_count</th>\n",
       "      <th>only_count</th>\n",
       "    </tr>\n",
       "  </thead>\n",
       "  <tbody>\n",
       "    <tr>\n",
       "      <th>DS</th>\n",
       "      <td>3988</td>\n",
       "      <td>369</td>\n",
       "    </tr>\n",
       "    <tr>\n",
       "      <th>DA</th>\n",
       "      <td>4024</td>\n",
       "      <td>285</td>\n",
       "    </tr>\n",
       "    <tr>\n",
       "      <th>DE</th>\n",
       "      <td>3738</td>\n",
       "      <td>189</td>\n",
       "    </tr>\n",
       "  </tbody>\n",
       "</table>\n",
       "</div>"
      ],
      "text/plain": [
       "    total_count  only_count\n",
       "DS         3988         369\n",
       "DA         4024         285\n",
       "DE         3738         189"
      ]
     },
     "execution_count": 29,
     "metadata": {},
     "output_type": "execute_result"
    }
   ],
   "source": [
    "df_counts"
   ]
  },
  {
   "cell_type": "code",
   "execution_count": 30,
   "metadata": {},
   "outputs": [
    {
     "data": {
      "text/plain": [
       "DS    0.907472\n",
       "DA    0.929175\n",
       "DE    0.949438\n",
       "dtype: float64"
      ]
     },
     "execution_count": 30,
     "metadata": {},
     "output_type": "execute_result"
    }
   ],
   "source": [
    "# how often the data role has the other developer duty\n",
    "1 - df_counts['only_count'] / df_counts['total_count']"
   ]
  },
  {
   "cell_type": "code",
   "execution_count": 31,
   "metadata": {},
   "outputs": [
    {
     "data": {
      "text/plain": [
       "<matplotlib.axes._subplots.AxesSubplot at 0x7fbac4199dd0>"
      ]
     },
     "execution_count": 31,
     "metadata": {},
     "output_type": "execute_result"
    },
    {
     "data": {
      "image/png": "[encoded data removed]",
      "text/plain": [
       "<Figure size 576x432 with 1 Axes>"
      ]
     },
     "metadata": {
      "needs_background": "light"
     },
     "output_type": "display_data"
    }
   ],
   "source": [
    "fig, ax = plt.subplots(figsize=(8, 6))\n",
    "\n",
    "df_counts.plot.barh(ax=ax)"
   ]
  },
  {
   "cell_type": "code",
   "execution_count": 41,
   "metadata": {},
   "outputs": [
    {
     "data": {
      "text/html": [
       "<div>\n",
       "<style scoped>\n",
       "    .dataframe tbody tr th:only-of-type {\n",
       "        vertical-align: middle;\n",
       "    }\n",
       "\n",
       "    .dataframe tbody tr th {\n",
       "        vertical-align: top;\n",
       "    }\n",
       "\n",
       "    .dataframe thead th {\n",
       "        text-align: right;\n",
       "    }\n",
       "</style>\n",
       "<table border=\"1\" class=\"dataframe\">\n",
       "  <thead>\n",
       "    <tr style=\"text-align: right;\">\n",
       "      <th></th>\n",
       "      <th>DevType</th>\n",
       "      <th>count</th>\n",
       "      <th>DevType_list</th>\n",
       "      <th>data_related</th>\n",
       "    </tr>\n",
       "  </thead>\n",
       "  <tbody>\n",
       "    <tr>\n",
       "      <th>18</th>\n",
       "      <td>Data or business analyst</td>\n",
       "      <td>285</td>\n",
       "      <td>{Data or business analyst}</td>\n",
       "      <td>True</td>\n",
       "    </tr>\n",
       "  </tbody>\n",
       "</table>\n",
       "</div>"
      ],
      "text/plain": [
       "                     DevType  count                DevType_list  data_related\n",
       "18  Data or business analyst    285  {Data or business analyst}          True"
      ]
     },
     "execution_count": 41,
     "metadata": {},
     "output_type": "execute_result"
    }
   ],
   "source": [
    "df_DevType_data[df_DevType_data['DevType'] == 'Data or business analyst']"
   ]
  },
  {
   "cell_type": "code",
   "execution_count": 32,
   "metadata": {},
   "outputs": [
    {
     "data": {
      "text/plain": [
       "<matplotlib.axes._subplots.AxesSubplot at 0x7fbac4395e50>"
      ]
     },
     "execution_count": 32,
     "metadata": {},
     "output_type": "execute_result"
    },
    {
     "data": {
      "image/png": "[encoded data removed]",
      "text/plain": [
       "<Figure size 576x432 with 1 Axes>"
      ]
     },
     "metadata": {
      "needs_background": "light"
     },
     "output_type": "display_data"
    }
   ],
   "source": [
    "fig, ax = plt.subplots(figsize=(8, 6))\n",
    "\n",
    "pd.Series(DS_multiple_roles).sort_values(ascending=True).plot.barh(ax=ax, \n",
    "                                                                   title='Roles Associated with Data Scientist')"
   ]
  },
  {
   "cell_type": "code",
   "execution_count": 55,
   "metadata": {},
   "outputs": [
    {
     "data": {
      "text/plain": [
       "<matplotlib.axes._subplots.AxesSubplot at 0x7fbac71d3650>"
      ]
     },
     "execution_count": 55,
     "metadata": {},
     "output_type": "execute_result"
    },
    {
     "data": {
      "image/png": "[encoded data removed]",
      "text/plain": [
       "<Figure size 576x432 with 1 Axes>"
      ]
     },
     "metadata": {
      "needs_background": "light"
     },
     "output_type": "display_data"
    }
   ],
   "source": [
    "fig, ax = plt.subplots(figsize=(8, 6))\n",
    "\n",
    "pd.Series(DA_multiple_roles).sort_values(ascending=True).plot.barh(ax=ax, \n",
    "                                                                   title='Roles Associated with Data Analyst', color='orange')"
   ]
  },
  {
   "cell_type": "code",
   "execution_count": 56,
   "metadata": {},
   "outputs": [
    {
     "data": {
      "text/plain": [
       "<matplotlib.axes._subplots.AxesSubplot at 0x7fbac710e6d0>"
      ]
     },
     "execution_count": 56,
     "metadata": {},
     "output_type": "execute_result"
    },
    {
     "data": {
      "image/png": "[encoded data removed]",
      "text/plain": [
       "<Figure size 576x432 with 1 Axes>"
      ]
     },
     "metadata": {
      "needs_background": "light"
     },
     "output_type": "display_data"
    }
   ],
   "source": [
    "fig, ax = plt.subplots(figsize=(8, 6))\n",
    "\n",
    "pd.Series(DE_multiple_roles).sort_values(ascending=True).plot.barh(ax=ax, \n",
    "                                                                   title='Roles Associated with Data Engineer', color='green')"
   ]
  },
  {
   "cell_type": "markdown",
   "metadata": {},
   "source": [
    "## 2. Question: which data role earns the most?"
   ]
  },
  {
   "cell_type": "markdown",
   "metadata": {},
   "source": [
    "### 2.1. convert raw data to dataframe with data-related roles"
   ]
  },
  {
   "cell_type": "code",
   "execution_count": 71,
   "metadata": {},
   "outputs": [],
   "source": [
    "df_survey['data_related'] = df_survey['DevType'].\\\n",
    "    str.contains('data(?![a-z])', case=False, regex=True)\n",
    "\n",
    "df_data = df_survey[df_survey['data_related']==True].copy()"
   ]
  },
  {
   "cell_type": "code",
   "execution_count": 72,
   "metadata": {},
   "outputs": [
    {
     "data": {
      "text/plain": [
       "(8726, 62)"
      ]
     },
     "execution_count": 72,
     "metadata": {},
     "output_type": "execute_result"
    }
   ],
   "source": [
    "df_data.shape"
   ]
  },
  {
   "cell_type": "code",
   "execution_count": 73,
   "metadata": {},
   "outputs": [
    {
     "data": {
      "text/plain": [
       "(64461, 62)"
      ]
     },
     "execution_count": 73,
     "metadata": {},
     "output_type": "execute_result"
    }
   ],
   "source": [
    "df_survey.shape"
   ]
  },
  {
   "cell_type": "code",
   "execution_count": 74,
   "metadata": {},
   "outputs": [
    {
     "data": {
      "text/plain": [
       "21                    Developer, full-stack;Engineer, data\n",
       "24       Developer, back-end;Developer, full-stack;DevO...\n",
       "29       Data or business analyst;Database administrato...\n",
       "35       Data or business analyst;Data scientist or mac...\n",
       "43       Data or business analyst;Developer, back-end;P...\n",
       "                               ...                        \n",
       "64432    Data scientist or machine learning specialist;...\n",
       "64437                             Data or business analyst\n",
       "64446    Academic researcher;Data or business analyst;D...\n",
       "64451        Data scientist or machine learning specialist\n",
       "64453    Data or business analyst;Developer, mobile;Sen...\n",
       "Name: DevType, Length: 8726, dtype: object"
      ]
     },
     "execution_count": 74,
     "metadata": {},
     "output_type": "execute_result"
    }
   ],
   "source": [
    "df_data['DevType']"
   ]
  },
  {
   "cell_type": "markdown",
   "metadata": {},
   "source": [
    "**Note**:\n",
    "\n",
    "we can see for responders who have a data professional, there could be more than one role. \n",
    "\n",
    "We convert one row to multiple rows if he/she has the roles as 'Data Scientist'/'Data Engineer'/'Data Analyst'."
   ]
  },
  {
   "cell_type": "code",
   "execution_count": null,
   "metadata": {},
   "outputs": [],
   "source": []
  },
  {
   "cell_type": "code",
   "execution_count": 75,
   "metadata": {},
   "outputs": [],
   "source": [
    "df_data = extract_data_related(df_survey)"
   ]
  },
  {
   "cell_type": "code",
   "execution_count": 76,
   "metadata": {},
   "outputs": [
    {
     "data": {
      "text/plain": [
       "(11750, 65)"
      ]
     },
     "execution_count": 76,
     "metadata": {},
     "output_type": "execute_result"
    }
   ],
   "source": [
    "df_data.shape"
   ]
  },
  {
   "cell_type": "code",
   "execution_count": 77,
   "metadata": {},
   "outputs": [
    {
     "data": {
      "text/html": [
       "<div>\n",
       "<style scoped>\n",
       "    .dataframe tbody tr th:only-of-type {\n",
       "        vertical-align: middle;\n",
       "    }\n",
       "\n",
       "    .dataframe tbody tr th {\n",
       "        vertical-align: top;\n",
       "    }\n",
       "\n",
       "    .dataframe thead th {\n",
       "        text-align: right;\n",
       "    }\n",
       "</style>\n",
       "<table border=\"1\" class=\"dataframe\">\n",
       "  <thead>\n",
       "    <tr style=\"text-align: right;\">\n",
       "      <th></th>\n",
       "      <th>Respondent</th>\n",
       "      <th>MainBranch</th>\n",
       "      <th>Hobbyist</th>\n",
       "      <th>Age</th>\n",
       "      <th>Age1stCode</th>\n",
       "      <th>CompFreq</th>\n",
       "      <th>CompTotal</th>\n",
       "      <th>ConvertedComp</th>\n",
       "      <th>Country</th>\n",
       "      <th>CurrencyDesc</th>\n",
       "      <th>...</th>\n",
       "      <th>WebframeDesireNextYear</th>\n",
       "      <th>WebframeWorkedWith</th>\n",
       "      <th>WelcomeChange</th>\n",
       "      <th>WorkWeekHrs</th>\n",
       "      <th>YearsCode</th>\n",
       "      <th>YearsCodePro</th>\n",
       "      <th>data_related</th>\n",
       "      <th>DevType_list</th>\n",
       "      <th>multiple_roles</th>\n",
       "      <th>data_role</th>\n",
       "    </tr>\n",
       "  </thead>\n",
       "  <tbody>\n",
       "    <tr>\n",
       "      <th>35</th>\n",
       "      <td>36</td>\n",
       "      <td>I am not primarily a developer, but I write co...</td>\n",
       "      <td>Yes</td>\n",
       "      <td>34.0</td>\n",
       "      <td>30</td>\n",
       "      <td>Yearly</td>\n",
       "      <td>60000.0</td>\n",
       "      <td>77556.0</td>\n",
       "      <td>United Kingdom</td>\n",
       "      <td>Pound sterling</td>\n",
       "      <td>...</td>\n",
       "      <td>Express;React.js</td>\n",
       "      <td>Express;React.js</td>\n",
       "      <td>Just as welcome now as I felt last year</td>\n",
       "      <td>40.0</td>\n",
       "      <td>4</td>\n",
       "      <td>3</td>\n",
       "      <td>True</td>\n",
       "      <td>{Data or business analyst, Data scientist or m...</td>\n",
       "      <td>True</td>\n",
       "      <td>DS</td>\n",
       "    </tr>\n",
       "    <tr>\n",
       "      <th>46</th>\n",
       "      <td>47</td>\n",
       "      <td>I am a developer by profession</td>\n",
       "      <td>Yes</td>\n",
       "      <td>53.0</td>\n",
       "      <td>10</td>\n",
       "      <td>Yearly</td>\n",
       "      <td>58000.0</td>\n",
       "      <td>74970.0</td>\n",
       "      <td>United Kingdom</td>\n",
       "      <td>Pound sterling</td>\n",
       "      <td>...</td>\n",
       "      <td>Flask;Spring</td>\n",
       "      <td>Flask;Spring</td>\n",
       "      <td>Just as welcome now as I felt last year</td>\n",
       "      <td>40.0</td>\n",
       "      <td>43</td>\n",
       "      <td>28</td>\n",
       "      <td>True</td>\n",
       "      <td>{Scientist, Engineer_data, Developer_QA or tes...</td>\n",
       "      <td>True</td>\n",
       "      <td>DS</td>\n",
       "    </tr>\n",
       "    <tr>\n",
       "      <th>68</th>\n",
       "      <td>69</td>\n",
       "      <td>I am a developer by profession</td>\n",
       "      <td>Yes</td>\n",
       "      <td>25.0</td>\n",
       "      <td>12</td>\n",
       "      <td>Yearly</td>\n",
       "      <td>550000.0</td>\n",
       "      <td>594539.0</td>\n",
       "      <td>France</td>\n",
       "      <td>European Euro</td>\n",
       "      <td>...</td>\n",
       "      <td>Django;Flask</td>\n",
       "      <td>Django;Flask</td>\n",
       "      <td>Just as welcome now as I felt last year</td>\n",
       "      <td>40.0</td>\n",
       "      <td>13</td>\n",
       "      <td>3</td>\n",
       "      <td>True</td>\n",
       "      <td>{Engineer_data, Database administrator, Develo...</td>\n",
       "      <td>True</td>\n",
       "      <td>DS</td>\n",
       "    </tr>\n",
       "    <tr>\n",
       "      <th>71</th>\n",
       "      <td>72</td>\n",
       "      <td>I am a developer by profession</td>\n",
       "      <td>Yes</td>\n",
       "      <td>25.0</td>\n",
       "      <td>16</td>\n",
       "      <td>NaN</td>\n",
       "      <td>NaN</td>\n",
       "      <td>NaN</td>\n",
       "      <td>United States</td>\n",
       "      <td>NaN</td>\n",
       "      <td>...</td>\n",
       "      <td>NaN</td>\n",
       "      <td>NaN</td>\n",
       "      <td>Just as welcome now as I felt last year</td>\n",
       "      <td>NaN</td>\n",
       "      <td>10</td>\n",
       "      <td>NaN</td>\n",
       "      <td>True</td>\n",
       "      <td>{Data or business analyst, Engineer_data, Data...</td>\n",
       "      <td>True</td>\n",
       "      <td>DS</td>\n",
       "    </tr>\n",
       "    <tr>\n",
       "      <th>76</th>\n",
       "      <td>77</td>\n",
       "      <td>I am not primarily a developer, but I write co...</td>\n",
       "      <td>Yes</td>\n",
       "      <td>NaN</td>\n",
       "      <td>6</td>\n",
       "      <td>NaN</td>\n",
       "      <td>NaN</td>\n",
       "      <td>NaN</td>\n",
       "      <td>United States</td>\n",
       "      <td>United States dollar</td>\n",
       "      <td>...</td>\n",
       "      <td>NaN</td>\n",
       "      <td>NaN</td>\n",
       "      <td>Just as welcome now as I felt last year</td>\n",
       "      <td>60.0</td>\n",
       "      <td>30</td>\n",
       "      <td>16</td>\n",
       "      <td>True</td>\n",
       "      <td>{Academic researcher, Data scientist or machin...</td>\n",
       "      <td>False</td>\n",
       "      <td>DS</td>\n",
       "    </tr>\n",
       "  </tbody>\n",
       "</table>\n",
       "<p>5 rows × 65 columns</p>\n",
       "</div>"
      ],
      "text/plain": [
       "    Respondent                                         MainBranch Hobbyist  \\\n",
       "35          36  I am not primarily a developer, but I write co...      Yes   \n",
       "46          47                     I am a developer by profession      Yes   \n",
       "68          69                     I am a developer by profession      Yes   \n",
       "71          72                     I am a developer by profession      Yes   \n",
       "76          77  I am not primarily a developer, but I write co...      Yes   \n",
       "\n",
       "     Age Age1stCode CompFreq  CompTotal  ConvertedComp         Country  \\\n",
       "35  34.0         30   Yearly    60000.0        77556.0  United Kingdom   \n",
       "46  53.0         10   Yearly    58000.0        74970.0  United Kingdom   \n",
       "68  25.0         12   Yearly   550000.0       594539.0          France   \n",
       "71  25.0         16      NaN        NaN            NaN   United States   \n",
       "76   NaN          6      NaN        NaN            NaN   United States   \n",
       "\n",
       "            CurrencyDesc  ... WebframeDesireNextYear WebframeWorkedWith  \\\n",
       "35        Pound sterling  ...       Express;React.js   Express;React.js   \n",
       "46        Pound sterling  ...           Flask;Spring       Flask;Spring   \n",
       "68         European Euro  ...           Django;Flask       Django;Flask   \n",
       "71                   NaN  ...                    NaN                NaN   \n",
       "76  United States dollar  ...                    NaN                NaN   \n",
       "\n",
       "                              WelcomeChange WorkWeekHrs YearsCode  \\\n",
       "35  Just as welcome now as I felt last year        40.0         4   \n",
       "46  Just as welcome now as I felt last year        40.0        43   \n",
       "68  Just as welcome now as I felt last year        40.0        13   \n",
       "71  Just as welcome now as I felt last year         NaN        10   \n",
       "76  Just as welcome now as I felt last year        60.0        30   \n",
       "\n",
       "   YearsCodePro data_related  \\\n",
       "35            3         True   \n",
       "46           28         True   \n",
       "68            3         True   \n",
       "71          NaN         True   \n",
       "76           16         True   \n",
       "\n",
       "                                         DevType_list multiple_roles data_role  \n",
       "35  {Data or business analyst, Data scientist or m...           True        DS  \n",
       "46  {Scientist, Engineer_data, Developer_QA or tes...           True        DS  \n",
       "68  {Engineer_data, Database administrator, Develo...           True        DS  \n",
       "71  {Data or business analyst, Engineer_data, Data...           True        DS  \n",
       "76  {Academic researcher, Data scientist or machin...          False        DS  \n",
       "\n",
       "[5 rows x 65 columns]"
      ]
     },
     "execution_count": 77,
     "metadata": {},
     "output_type": "execute_result"
    }
   ],
   "source": [
    "df_data.head(5)"
   ]
  },
  {
   "cell_type": "code",
   "execution_count": 41,
   "metadata": {},
   "outputs": [
    {
     "data": {
      "text/plain": [
       "1378"
      ]
     },
     "execution_count": 41,
     "metadata": {},
     "output_type": "execute_result"
    }
   ],
   "source": [
    "df_data['JobSat'].isnull().sum()"
   ]
  },
  {
   "cell_type": "code",
   "execution_count": 80,
   "metadata": {},
   "outputs": [
    {
     "data": {
      "text/plain": [
       "Index(['Respondent', 'MainBranch', 'Hobbyist', 'Age', 'Age1stCode', 'CompFreq',\n",
       "       'CompTotal', 'ConvertedComp', 'Country', 'CurrencyDesc',\n",
       "       'CurrencySymbol', 'DatabaseDesireNextYear', 'DatabaseWorkedWith',\n",
       "       'DevType', 'EdLevel', 'Employment', 'Ethnicity', 'Gender', 'JobFactors',\n",
       "       'JobSat', 'JobSeek', 'LanguageDesireNextYear', 'LanguageWorkedWith',\n",
       "       'MiscTechDesireNextYear', 'MiscTechWorkedWith',\n",
       "       'NEWCollabToolsDesireNextYear', 'NEWCollabToolsWorkedWith', 'NEWDevOps',\n",
       "       'NEWDevOpsImpt', 'NEWEdImpt', 'NEWJobHunt', 'NEWJobHuntResearch',\n",
       "       'NEWLearn', 'NEWOffTopic', 'NEWOnboardGood', 'NEWOtherComms',\n",
       "       'NEWOvertime', 'NEWPurchaseResearch', 'NEWPurpleLink', 'NEWSOSites',\n",
       "       'NEWStuck', 'OpSys', 'OrgSize', 'PlatformDesireNextYear',\n",
       "       'PlatformWorkedWith', 'PurchaseWhat', 'Sexuality', 'SOAccount',\n",
       "       'SOComm', 'SOPartFreq', 'SOVisitFreq', 'SurveyEase', 'SurveyLength',\n",
       "       'Trans', 'UndergradMajor', 'WebframeDesireNextYear',\n",
       "       'WebframeWorkedWith', 'WelcomeChange', 'WorkWeekHrs', 'YearsCode',\n",
       "       'YearsCodePro', 'data_related', 'DevType_list', 'multiple_roles',\n",
       "       'data_role'],\n",
       "      dtype='object')"
      ]
     },
     "execution_count": 80,
     "metadata": {},
     "output_type": "execute_result"
    }
   ],
   "source": [
    "df_data.columns"
   ]
  },
  {
   "cell_type": "markdown",
   "metadata": {},
   "source": [
    "### 2.2. exploratory anaylsis and visulization"
   ]
  },
  {
   "cell_type": "markdown",
   "metadata": {},
   "source": [
    "### **payment v.s. data role**"
   ]
  },
  {
   "cell_type": "code",
   "execution_count": 82,
   "metadata": {},
   "outputs": [
    {
     "data": {
      "text/plain": [
       "DA    4024\n",
       "DS    3988\n",
       "DE    3738\n",
       "Name: data_role, dtype: int64"
      ]
     },
     "execution_count": 82,
     "metadata": {},
     "output_type": "execute_result"
    }
   ],
   "source": [
    "df_data['data_role'].value_counts()"
   ]
  },
  {
   "cell_type": "code",
   "execution_count": 84,
   "metadata": {},
   "outputs": [
    {
     "data": {
      "text/plain": [
       "<seaborn.axisgrid.FacetGrid at 0x7fbacf0fca50>"
      ]
     },
     "execution_count": 84,
     "metadata": {},
     "output_type": "execute_result"
    },
    {
     "data": {
      "image/png": "[encoded data removed]",
      "text/plain": [
       "<Figure size 360x360 with 1 Axes>"
      ]
     },
     "metadata": {
      "needs_background": "light"
     },
     "output_type": "display_data"
    }
   ],
   "source": [
    "sns.catplot(x=\"data_role\", kind='count', data=df_data)"
   ]
  },
  {
   "cell_type": "code",
   "execution_count": 43,
   "metadata": {},
   "outputs": [
    {
     "data": {
      "text/plain": [
       "<seaborn.axisgrid.FacetGrid at 0x7fbac4307d90>"
      ]
     },
     "execution_count": 43,
     "metadata": {},
     "output_type": "execute_result"
    },
    {
     "data": {
      "image/png": "[encoded data removed]",
      "text/plain": [
       "<Figure size 360x360 with 1 Axes>"
      ]
     },
     "metadata": {
      "needs_background": "light"
     },
     "output_type": "display_data"
    }
   ],
   "source": [
    "sns.catplot(x='data_role', y=\"ConvertedComp\", kind=\"violin\", data=df_data)"
   ]
  },
  {
   "cell_type": "code",
   "execution_count": 44,
   "metadata": {},
   "outputs": [
    {
     "data": {
      "text/plain": [
       "<seaborn.axisgrid.FacetGrid at 0x7fbac4fbdb10>"
      ]
     },
     "execution_count": 44,
     "metadata": {},
     "output_type": "execute_result"
    },
    {
     "data": {
      "image/png": "[encoded data removed]",
      "text/plain": [
       "<Figure size 360x360 with 1 Axes>"
      ]
     },
     "metadata": {
      "needs_background": "light"
     },
     "output_type": "display_data"
    }
   ],
   "source": [
    "sns.catplot(x='data_role', y=\"ConvertedComp\", kind='bar', data=df_data)"
   ]
  },
  {
   "cell_type": "markdown",
   "metadata": {},
   "source": [
    "### **payment v.s. data role in different countries**"
   ]
  },
  {
   "cell_type": "code",
   "execution_count": 45,
   "metadata": {},
   "outputs": [
    {
     "data": {
      "text/plain": [
       "United States     2844\n",
       "India             1257\n",
       "Germany            679\n",
       "United Kingdom     663\n",
       "Canada             364\n",
       "Brazil             360\n",
       "France             323\n",
       "Australia          264\n",
       "Netherlands        249\n",
       "Name: Country, dtype: int64"
      ]
     },
     "execution_count": 45,
     "metadata": {},
     "output_type": "execute_result"
    }
   ],
   "source": [
    "# get countries with top 9 counts\n",
    "df_data['Country'].value_counts().iloc[:9]"
   ]
  },
  {
   "cell_type": "code",
   "execution_count": 46,
   "metadata": {},
   "outputs": [
    {
     "data": {
      "text/plain": [
       "<seaborn.axisgrid.FacetGrid at 0x7fbac671af50>"
      ]
     },
     "execution_count": 46,
     "metadata": {},
     "output_type": "execute_result"
    },
    {
     "data": {
      "image/png": "[encoded data removed]",
      "text/plain": [
       "<Figure size 648x648 with 9 Axes>"
      ]
     },
     "metadata": {
      "needs_background": "light"
     },
     "output_type": "display_data"
    }
   ],
   "source": [
    "top_ten_countries = ['United States', 'India', 'Germany', 'United Kingdom', 'Canada', \n",
    "                     'Brazil', 'France', 'Australia', 'Netherlands']\n",
    "\n",
    "g = sns.FacetGrid(df_data[df_data['Country'].isin(top_ten_countries)], \n",
    "                  col='Country', \n",
    "                  col_wrap=3, col_order=top_ten_countries, sharex=False)\n",
    "g.map(sns.barplot, 'data_role', \"ConvertedComp\", order=[\"DS\", \"DA\", \"DE\"])"
   ]
  },
  {
   "cell_type": "markdown",
   "metadata": {},
   "source": [
    "### payment vs. data role for different gender"
   ]
  },
  {
   "cell_type": "code",
   "execution_count": 47,
   "metadata": {},
   "outputs": [
    {
     "data": {
      "text/plain": [
       "Man                                                            9146\n",
       "Woman                                                           774\n",
       "Non-binary, genderqueer, or gender non-conforming                68\n",
       "Man;Non-binary, genderqueer, or gender non-conforming            35\n",
       "Woman;Non-binary, genderqueer, or gender non-conforming          29\n",
       "Woman;Man                                                        22\n",
       "Woman;Man;Non-binary, genderqueer, or gender non-conforming      20\n",
       "Name: Gender, dtype: int64"
      ]
     },
     "execution_count": 47,
     "metadata": {},
     "output_type": "execute_result"
    }
   ],
   "source": [
    "df_data['Gender'].value_counts()"
   ]
  },
  {
   "cell_type": "code",
   "execution_count": 48,
   "metadata": {},
   "outputs": [],
   "source": [
    "df_data['Gender_1'] = df_data['Gender'].apply(\n",
    "    lambda x: x if pd.isna(x) or x == 'Man' or x == 'Woman' else 'others')"
   ]
  },
  {
   "cell_type": "code",
   "execution_count": 49,
   "metadata": {},
   "outputs": [
    {
     "data": {
      "text/plain": [
       "Man       9146\n",
       "Woman      774\n",
       "others     174\n",
       "Name: Gender_1, dtype: int64"
      ]
     },
     "execution_count": 49,
     "metadata": {},
     "output_type": "execute_result"
    }
   ],
   "source": [
    "df_data['Gender_1'].value_counts()"
   ]
  },
  {
   "cell_type": "code",
   "execution_count": 50,
   "metadata": {},
   "outputs": [
    {
     "data": {
      "text/plain": [
       "<seaborn.axisgrid.FacetGrid at 0x7fbac6e7fe90>"
      ]
     },
     "execution_count": 50,
     "metadata": {},
     "output_type": "execute_result"
    },
    {
     "data": {
      "image/png": "[encoded data removed]",
      "text/plain": [
       "<Figure size 463.9x360 with 1 Axes>"
      ]
     },
     "metadata": {
      "needs_background": "light"
     },
     "output_type": "display_data"
    }
   ],
   "source": [
    "gender_types = ['Man', 'Woman', 'others']\n",
    "\n",
    "sns.catplot(x='data_role', kind='count', hue='Gender_1', \n",
    "            data=df_data)"
   ]
  },
  {
   "cell_type": "code",
   "execution_count": 51,
   "metadata": {},
   "outputs": [
    {
     "data": {
      "text/plain": [
       "<seaborn.axisgrid.FacetGrid at 0x7fbac6936f90>"
      ]
     },
     "execution_count": 51,
     "metadata": {},
     "output_type": "execute_result"
    },
    {
     "data": {
      "image/png": "[encoded data removed]",
      "text/plain": [
       "<Figure size 463.9x360 with 1 Axes>"
      ]
     },
     "metadata": {
      "needs_background": "light"
     },
     "output_type": "display_data"
    }
   ],
   "source": [
    "gender_types = ['Man', 'Woman', 'others']\n",
    "\n",
    "sns.catplot(x='data_role', y='ConvertedComp', kind='bar', hue='Gender_1', \n",
    "            data=df_data)"
   ]
  },
  {
   "cell_type": "code",
   "execution_count": 169,
   "metadata": {},
   "outputs": [
    {
     "data": {
      "text/plain": [
       "<seaborn.axisgrid.FacetGrid at 0x7fe5e204c7d0>"
      ]
     },
     "execution_count": 169,
     "metadata": {},
     "output_type": "execute_result"
    },
    {
     "data": {
      "image/png": "[encoded data removed]",
      "text/plain": [
       "<Figure size 463.9x360 with 1 Axes>"
      ]
     },
     "metadata": {
      "needs_background": "light"
     },
     "output_type": "display_data"
    }
   ],
   "source": [
    "sns.catplot(x='data_role', y=\"ConvertedComp\", kind=\"violin\", hue='Gender_1', data=df_data)"
   ]
  },
  {
   "cell_type": "code",
   "execution_count": null,
   "metadata": {},
   "outputs": [],
   "source": []
  },
  {
   "cell_type": "markdown",
   "metadata": {},
   "source": [
    "### job satisfaction v.s. data role"
   ]
  },
  {
   "cell_type": "code",
   "execution_count": 159,
   "metadata": {},
   "outputs": [
    {
     "data": {
      "text/plain": [
       "<seaborn.axisgrid.FacetGrid at 0x7fe5e207b090>"
      ]
     },
     "execution_count": 159,
     "metadata": {},
     "output_type": "execute_result"
    },
    {
     "data": {
      "image/png": "[encoded data removed]",
      "text/plain": [
       "<Figure size 637.9x360 with 1 Axes>"
      ]
     },
     "metadata": {
      "needs_background": "light"
     },
     "output_type": "display_data"
    }
   ],
   "source": [
    "sns.catplot(x='data_role', kind='count', hue='JobSat', \n",
    "            data=df_data, hue_order=['Very satisfied', 'Slightly satisfied', \n",
    "                                      'Slightly dissatisfied', \n",
    "                                      'Neither satisfied nor dissatisfied', \n",
    "                                      'Very dissatisfied'])"
   ]
  },
  {
   "cell_type": "code",
   "execution_count": null,
   "metadata": {},
   "outputs": [],
   "source": [
    "### Trend"
   ]
  },
  {
   "cell_type": "markdown",
   "metadata": {},
   "source": [
    "## 4. Job Satisfation"
   ]
  },
  {
   "cell_type": "markdown",
   "metadata": {},
   "source": [
    "### **job satisfaction v.s. data role**"
   ]
  },
  {
   "cell_type": "code",
   "execution_count": 159,
   "metadata": {},
   "outputs": [
    {
     "data": {
      "text/plain": [
       "<seaborn.axisgrid.FacetGrid at 0x7fe5e207b090>"
      ]
     },
     "execution_count": 159,
     "metadata": {},
     "output_type": "execute_result"
    },
    {
     "data": {
      "image/png": "[encoded data removed]",
      "text/plain": [
       "<Figure size 637.9x360 with 1 Axes>"
      ]
     },
     "metadata": {
      "needs_background": "light"
     },
     "output_type": "display_data"
    }
   ],
   "source": [
    "sns.catplot(x='data_role', kind='count', hue='JobSat', \n",
    "            data=df_data, hue_order=['Very satisfied', 'Slightly satisfied', \n",
    "                                      'Slightly dissatisfied', \n",
    "                                      'Neither satisfied nor dissatisfied', \n",
    "                                      'Very dissatisfied'])"
   ]
  },
  {
   "cell_type": "markdown",
   "metadata": {},
   "source": [
    "### **Job satisfation v.s. Payment**"
   ]
  },
  {
   "cell_type": "code",
   "execution_count": 155,
   "metadata": {},
   "outputs": [
    {
     "data": {
      "text/plain": [
       "<seaborn.axisgrid.FacetGrid at 0x7fe5e10ec310>"
      ]
     },
     "execution_count": 155,
     "metadata": {},
     "output_type": "execute_result"
    },
    {
     "data": {
      "image/png": "[encoded data removed]",
      "text/plain": [
       "<Figure size 360x360 with 1 Axes>"
      ]
     },
     "metadata": {
      "needs_background": "light"
     },
     "output_type": "display_data"
    }
   ],
   "source": [
    "ax = sns.catplot(x='JobSat', y=\"ConvertedComp\", \n",
    "                 kind='bar', \n",
    "                 data=df_data, \n",
    "                 order=['Very satisfied', 'Slightly satisfied',\n",
    "                        'Slightly dissatisfied',\n",
    "                        'Neither satisfied nor dissatisfied',\n",
    "                        'Very dissatisfied'])\n",
    "\n",
    "ax.set_xticklabels(rotation=90)"
   ]
  },
  {
   "cell_type": "markdown",
   "metadata": {},
   "source": [
    "### job satisfaction v.s. overtime"
   ]
  },
  {
   "cell_type": "code",
   "execution_count": null,
   "metadata": {},
   "outputs": [],
   "source": []
  },
  {
   "cell_type": "markdown",
   "metadata": {},
   "source": [
    "### job satisfaction distribution in different countries"
   ]
  },
  {
   "cell_type": "code",
   "execution_count": 145,
   "metadata": {},
   "outputs": [
    {
     "data": {
      "text/plain": [
       "Index(['Very satisfied', 'Slightly satisfied', 'Slightly dissatisfied',\n",
       "       'Neither satisfied nor dissatisfied', 'Very dissatisfied'],\n",
       "      dtype='object')"
      ]
     },
     "execution_count": 145,
     "metadata": {},
     "output_type": "execute_result"
    }
   ],
   "source": [
    "df_data['JobSat'].value_counts().index"
   ]
  },
  {
   "cell_type": "code",
   "execution_count": 150,
   "metadata": {},
   "outputs": [
    {
     "data": {
      "image/png": "[encoded data removed]",
      "text/plain": [
       "<Figure size 648x648 with 9 Axes>"
      ]
     },
     "metadata": {
      "needs_background": "light"
     },
     "output_type": "display_data"
    }
   ],
   "source": [
    "top_ten_countries = ['United States', 'India', 'Germany', 'United Kingdom', 'Canada', \n",
    "                     'Brazil', 'France', 'Australia', 'Netherlands']\n",
    "\n",
    "g = sns.FacetGrid(df_data[df_data['Country'].isin(top_ten_countries)], \n",
    "                  col='Country', \n",
    "                  col_wrap=3, col_order=top_ten_countries, sharex=True, sharey=False)\n",
    "g.map(sns.countplot, 'JobSat', order=['Very satisfied', 'Slightly satisfied', \n",
    "                                      'Slightly dissatisfied', \n",
    "                                      'Neither satisfied nor dissatisfied', \n",
    "                                      'Very dissatisfied'])\n",
    "\n",
    "for ax in g.axes.flat:\n",
    "    for label in ax.get_xticklabels():\n",
    "        label.set_rotation(90)"
   ]
  },
  {
   "cell_type": "code",
   "execution_count": null,
   "metadata": {},
   "outputs": [],
   "source": []
  },
  {
   "cell_type": "markdown",
   "metadata": {},
   "source": [
    "## 3. Modelling"
   ]
  },
  {
   "cell_type": "code",
   "execution_count": 176,
   "metadata": {},
   "outputs": [],
   "source": [
    "from data_process import cal_basic_info"
   ]
  },
  {
   "cell_type": "code",
   "execution_count": 171,
   "metadata": {},
   "outputs": [
    {
     "data": {
      "text/plain": [
       "(11750, 66)"
      ]
     },
     "execution_count": 171,
     "metadata": {},
     "output_type": "execute_result"
    }
   ],
   "source": [
    "df_data.shape"
   ]
  },
  {
   "cell_type": "code",
   "execution_count": 175,
   "metadata": {},
   "outputs": [
    {
     "data": {
      "text/plain": [
       "['Respondent',\n",
       " 'MainBranch',\n",
       " 'Hobbyist',\n",
       " 'Age',\n",
       " 'Age1stCode',\n",
       " 'CompFreq',\n",
       " 'CompTotal',\n",
       " 'ConvertedComp',\n",
       " 'Country',\n",
       " 'CurrencyDesc',\n",
       " 'CurrencySymbol',\n",
       " 'DatabaseDesireNextYear',\n",
       " 'DatabaseWorkedWith',\n",
       " 'DevType',\n",
       " 'EdLevel',\n",
       " 'Employment',\n",
       " 'Ethnicity',\n",
       " 'Gender',\n",
       " 'JobFactors',\n",
       " 'JobSat',\n",
       " 'JobSeek',\n",
       " 'LanguageDesireNextYear',\n",
       " 'LanguageWorkedWith',\n",
       " 'MiscTechDesireNextYear',\n",
       " 'MiscTechWorkedWith',\n",
       " 'NEWCollabToolsDesireNextYear',\n",
       " 'NEWCollabToolsWorkedWith',\n",
       " 'NEWDevOps',\n",
       " 'NEWDevOpsImpt',\n",
       " 'NEWEdImpt',\n",
       " 'NEWJobHunt',\n",
       " 'NEWJobHuntResearch',\n",
       " 'NEWLearn',\n",
       " 'NEWOffTopic',\n",
       " 'NEWOnboardGood',\n",
       " 'NEWOtherComms',\n",
       " 'NEWOvertime',\n",
       " 'NEWPurchaseResearch',\n",
       " 'NEWPurpleLink',\n",
       " 'NEWSOSites',\n",
       " 'NEWStuck',\n",
       " 'OpSys',\n",
       " 'OrgSize',\n",
       " 'PlatformDesireNextYear',\n",
       " 'PlatformWorkedWith',\n",
       " 'PurchaseWhat',\n",
       " 'Sexuality',\n",
       " 'SOAccount',\n",
       " 'SOComm',\n",
       " 'SOPartFreq',\n",
       " 'SOVisitFreq',\n",
       " 'SurveyEase',\n",
       " 'SurveyLength',\n",
       " 'Trans',\n",
       " 'UndergradMajor',\n",
       " 'WebframeDesireNextYear',\n",
       " 'WebframeWorkedWith',\n",
       " 'WelcomeChange',\n",
       " 'WorkWeekHrs',\n",
       " 'YearsCode',\n",
       " 'YearsCodePro',\n",
       " 'data_related',\n",
       " 'DevType_list',\n",
       " 'multiple_roles',\n",
       " 'data_role',\n",
       " 'Gender_1']"
      ]
     },
     "execution_count": 175,
     "metadata": {},
     "output_type": "execute_result"
    }
   ],
   "source": [
    "df_data.columns.tolist()"
   ]
  },
  {
   "cell_type": "code",
   "execution_count": 106,
   "metadata": {},
   "outputs": [
    {
     "data": {
      "text/plain": [
       "Index(['Respondent', 'Age', 'CompTotal', 'ConvertedComp', 'WorkWeekHrs'], dtype='object')"
      ]
     },
     "execution_count": 106,
     "metadata": {},
     "output_type": "execute_result"
    }
   ],
   "source": [
    "df_data.select_dtypes(include='number').columns"
   ]
  },
  {
   "cell_type": "markdown",
   "metadata": {},
   "source": [
    "Note:\n",
    "\n",
    "* only for currently employed responders\n"
   ]
  },
  {
   "cell_type": "code",
   "execution_count": 190,
   "metadata": {},
   "outputs": [],
   "source": [
    "from sklearn.preprocessing import MultiLabelBinarizer"
   ]
  },
  {
   "cell_type": "code",
   "execution_count": 221,
   "metadata": {},
   "outputs": [],
   "source": [
    "from data_process import StringtoListTranformer, ListColumnsEncoder"
   ]
  },
  {
   "cell_type": "code",
   "execution_count": 236,
   "metadata": {},
   "outputs": [
    {
     "data": {
      "text/html": [
       "<div>\n",
       "<style scoped>\n",
       "    .dataframe tbody tr th:only-of-type {\n",
       "        vertical-align: middle;\n",
       "    }\n",
       "\n",
       "    .dataframe tbody tr th {\n",
       "        vertical-align: top;\n",
       "    }\n",
       "\n",
       "    .dataframe thead th {\n",
       "        text-align: right;\n",
       "    }\n",
       "</style>\n",
       "<table border=\"1\" class=\"dataframe\">\n",
       "  <thead>\n",
       "    <tr style=\"text-align: right;\">\n",
       "      <th></th>\n",
       "      <th>LanguageWorkedWith</th>\n",
       "      <th>Ethnicity</th>\n",
       "    </tr>\n",
       "  </thead>\n",
       "  <tbody>\n",
       "    <tr>\n",
       "      <th>35</th>\n",
       "      <td>C#;Go;HTML/CSS;Java;JavaScript;Python;R;SQL</td>\n",
       "      <td>White or of European descent</td>\n",
       "    </tr>\n",
       "    <tr>\n",
       "      <th>46</th>\n",
       "      <td>Bash/Shell/PowerShell;C#;Java;JavaScript;Pytho...</td>\n",
       "      <td>White or of European descent</td>\n",
       "    </tr>\n",
       "    <tr>\n",
       "      <th>68</th>\n",
       "      <td>HTML/CSS;Python</td>\n",
       "      <td>White or of European descent</td>\n",
       "    </tr>\n",
       "    <tr>\n",
       "      <th>71</th>\n",
       "      <td>Bash/Shell/PowerShell;JavaScript;Python;Swift</td>\n",
       "      <td>White or of European descent</td>\n",
       "    </tr>\n",
       "    <tr>\n",
       "      <th>76</th>\n",
       "      <td>C++;HTML/CSS;Java;Python;R</td>\n",
       "      <td>White or of European descent</td>\n",
       "    </tr>\n",
       "    <tr>\n",
       "      <th>...</th>\n",
       "      <td>...</td>\n",
       "      <td>...</td>\n",
       "    </tr>\n",
       "    <tr>\n",
       "      <th>64344</th>\n",
       "      <td>Assembly;Bash/Shell/PowerShell;C;C#;C++;Dart;G...</td>\n",
       "      <td>NaN</td>\n",
       "    </tr>\n",
       "    <tr>\n",
       "      <th>64361</th>\n",
       "      <td>HTML/CSS;JavaScript</td>\n",
       "      <td>NaN</td>\n",
       "    </tr>\n",
       "    <tr>\n",
       "      <th>64368</th>\n",
       "      <td>Bash/Shell/PowerShell;JavaScript;Python;SQL;VBA</td>\n",
       "      <td>Hispanic or Latino/a/x;White or of European de...</td>\n",
       "    </tr>\n",
       "    <tr>\n",
       "      <th>64392</th>\n",
       "      <td>Assembly;Bash/Shell/PowerShell;C;C#;C++;Dart;G...</td>\n",
       "      <td>Black or of African descent;East Asian;Hispani...</td>\n",
       "    </tr>\n",
       "    <tr>\n",
       "      <th>64401</th>\n",
       "      <td>Assembly;Bash/Shell/PowerShell;C;C#;C++;Dart;G...</td>\n",
       "      <td>NaN</td>\n",
       "    </tr>\n",
       "  </tbody>\n",
       "</table>\n",
       "<p>11750 rows × 2 columns</p>\n",
       "</div>"
      ],
      "text/plain": [
       "                                      LanguageWorkedWith  \\\n",
       "35           C#;Go;HTML/CSS;Java;JavaScript;Python;R;SQL   \n",
       "46     Bash/Shell/PowerShell;C#;Java;JavaScript;Pytho...   \n",
       "68                                       HTML/CSS;Python   \n",
       "71         Bash/Shell/PowerShell;JavaScript;Python;Swift   \n",
       "76                            C++;HTML/CSS;Java;Python;R   \n",
       "...                                                  ...   \n",
       "64344  Assembly;Bash/Shell/PowerShell;C;C#;C++;Dart;G...   \n",
       "64361                                HTML/CSS;JavaScript   \n",
       "64368    Bash/Shell/PowerShell;JavaScript;Python;SQL;VBA   \n",
       "64392  Assembly;Bash/Shell/PowerShell;C;C#;C++;Dart;G...   \n",
       "64401  Assembly;Bash/Shell/PowerShell;C;C#;C++;Dart;G...   \n",
       "\n",
       "                                               Ethnicity  \n",
       "35                          White or of European descent  \n",
       "46                          White or of European descent  \n",
       "68                          White or of European descent  \n",
       "71                          White or of European descent  \n",
       "76                          White or of European descent  \n",
       "...                                                  ...  \n",
       "64344                                                NaN  \n",
       "64361                                                NaN  \n",
       "64368  Hispanic or Latino/a/x;White or of European de...  \n",
       "64392  Black or of African descent;East Asian;Hispani...  \n",
       "64401                                                NaN  \n",
       "\n",
       "[11750 rows x 2 columns]"
      ]
     },
     "execution_count": 236,
     "metadata": {},
     "output_type": "execute_result"
    }
   ],
   "source": [
    "df_tmp = df_data[['LanguageWorkedWith', 'Ethnicity']]\n",
    "\n",
    "df_tmp"
   ]
  },
  {
   "cell_type": "code",
   "execution_count": 237,
   "metadata": {},
   "outputs": [],
   "source": [
    "s_to_list = StringtoListTranformer(variables=['LanguageWorkedWith', 'Ethnicity'])"
   ]
  },
  {
   "cell_type": "code",
   "execution_count": 238,
   "metadata": {},
   "outputs": [],
   "source": [
    "df_tmp = s_to_list.fit_transform(df_tmp)"
   ]
  },
  {
   "cell_type": "code",
   "execution_count": 239,
   "metadata": {},
   "outputs": [
    {
     "data": {
      "text/html": [
       "<div>\n",
       "<style scoped>\n",
       "    .dataframe tbody tr th:only-of-type {\n",
       "        vertical-align: middle;\n",
       "    }\n",
       "\n",
       "    .dataframe tbody tr th {\n",
       "        vertical-align: top;\n",
       "    }\n",
       "\n",
       "    .dataframe thead th {\n",
       "        text-align: right;\n",
       "    }\n",
       "</style>\n",
       "<table border=\"1\" class=\"dataframe\">\n",
       "  <thead>\n",
       "    <tr style=\"text-align: right;\">\n",
       "      <th></th>\n",
       "      <th>LanguageWorkedWith</th>\n",
       "      <th>Ethnicity</th>\n",
       "    </tr>\n",
       "  </thead>\n",
       "  <tbody>\n",
       "    <tr>\n",
       "      <th>35</th>\n",
       "      <td>{HTML/CSS, SQL, Go, Java, JavaScript, C#, Pyth...</td>\n",
       "      <td>{White or of European descent}</td>\n",
       "    </tr>\n",
       "    <tr>\n",
       "      <th>46</th>\n",
       "      <td>{SQL, Java, Ruby, Bash/Shell/PowerShell, JavaS...</td>\n",
       "      <td>{White or of European descent}</td>\n",
       "    </tr>\n",
       "    <tr>\n",
       "      <th>68</th>\n",
       "      <td>{Python, HTML/CSS}</td>\n",
       "      <td>{White or of European descent}</td>\n",
       "    </tr>\n",
       "    <tr>\n",
       "      <th>71</th>\n",
       "      <td>{Python, JavaScript, Swift, Bash/Shell/PowerSh...</td>\n",
       "      <td>{White or of European descent}</td>\n",
       "    </tr>\n",
       "    <tr>\n",
       "      <th>76</th>\n",
       "      <td>{C++, HTML/CSS, Java, Python, R}</td>\n",
       "      <td>{White or of European descent}</td>\n",
       "    </tr>\n",
       "    <tr>\n",
       "      <th>...</th>\n",
       "      <td>...</td>\n",
       "      <td>...</td>\n",
       "    </tr>\n",
       "    <tr>\n",
       "      <th>64344</th>\n",
       "      <td>{TypeScript, C++, HTML/CSS, Julia, JavaScript,...</td>\n",
       "      <td>{}</td>\n",
       "    </tr>\n",
       "    <tr>\n",
       "      <th>64361</th>\n",
       "      <td>{JavaScript, HTML/CSS}</td>\n",
       "      <td>{}</td>\n",
       "    </tr>\n",
       "    <tr>\n",
       "      <th>64368</th>\n",
       "      <td>{SQL, Bash/Shell/PowerShell, JavaScript, VBA, ...</td>\n",
       "      <td>{Hispanic or Latino/a/x, White or of European ...</td>\n",
       "    </tr>\n",
       "    <tr>\n",
       "      <th>64392</th>\n",
       "      <td>{TypeScript, C++, HTML/CSS, Julia, JavaScript,...</td>\n",
       "      <td>{Biracial, Hispanic or Latino/a/x, Middle East...</td>\n",
       "    </tr>\n",
       "    <tr>\n",
       "      <th>64401</th>\n",
       "      <td>{TypeScript, C++, HTML/CSS, Julia, JavaScript,...</td>\n",
       "      <td>{}</td>\n",
       "    </tr>\n",
       "  </tbody>\n",
       "</table>\n",
       "<p>11750 rows × 2 columns</p>\n",
       "</div>"
      ],
      "text/plain": [
       "                                      LanguageWorkedWith  \\\n",
       "35     {HTML/CSS, SQL, Go, Java, JavaScript, C#, Pyth...   \n",
       "46     {SQL, Java, Ruby, Bash/Shell/PowerShell, JavaS...   \n",
       "68                                    {Python, HTML/CSS}   \n",
       "71     {Python, JavaScript, Swift, Bash/Shell/PowerSh...   \n",
       "76                      {C++, HTML/CSS, Java, Python, R}   \n",
       "...                                                  ...   \n",
       "64344  {TypeScript, C++, HTML/CSS, Julia, JavaScript,...   \n",
       "64361                             {JavaScript, HTML/CSS}   \n",
       "64368  {SQL, Bash/Shell/PowerShell, JavaScript, VBA, ...   \n",
       "64392  {TypeScript, C++, HTML/CSS, Julia, JavaScript,...   \n",
       "64401  {TypeScript, C++, HTML/CSS, Julia, JavaScript,...   \n",
       "\n",
       "                                               Ethnicity  \n",
       "35                        {White or of European descent}  \n",
       "46                        {White or of European descent}  \n",
       "68                        {White or of European descent}  \n",
       "71                        {White or of European descent}  \n",
       "76                        {White or of European descent}  \n",
       "...                                                  ...  \n",
       "64344                                                 {}  \n",
       "64361                                                 {}  \n",
       "64368  {Hispanic or Latino/a/x, White or of European ...  \n",
       "64392  {Biracial, Hispanic or Latino/a/x, Middle East...  \n",
       "64401                                                 {}  \n",
       "\n",
       "[11750 rows x 2 columns]"
      ]
     },
     "execution_count": 239,
     "metadata": {},
     "output_type": "execute_result"
    }
   ],
   "source": [
    "df_tmp"
   ]
  },
  {
   "cell_type": "code",
   "execution_count": 240,
   "metadata": {},
   "outputs": [],
   "source": [
    "list_to_cols = ListColumnsEncoder(variables=['Ethnicity'])"
   ]
  },
  {
   "cell_type": "code",
   "execution_count": 241,
   "metadata": {},
   "outputs": [
    {
     "data": {
      "text/plain": [
       "ListColumnsEncoder(variables=['Ethnicity'])"
      ]
     },
     "execution_count": 241,
     "metadata": {},
     "output_type": "execute_result"
    }
   ],
   "source": [
    "list_to_cols.fit(df_tmp)"
   ]
  },
  {
   "cell_type": "code",
   "execution_count": 242,
   "metadata": {},
   "outputs": [
    {
     "data": {
      "text/html": [
       "<div>\n",
       "<style scoped>\n",
       "    .dataframe tbody tr th:only-of-type {\n",
       "        vertical-align: middle;\n",
       "    }\n",
       "\n",
       "    .dataframe tbody tr th {\n",
       "        vertical-align: top;\n",
       "    }\n",
       "\n",
       "    .dataframe thead th {\n",
       "        text-align: right;\n",
       "    }\n",
       "</style>\n",
       "<table border=\"1\" class=\"dataframe\">\n",
       "  <thead>\n",
       "    <tr style=\"text-align: right;\">\n",
       "      <th></th>\n",
       "      <th>LanguageWorkedWith</th>\n",
       "      <th>Biracial</th>\n",
       "      <th>Black or of African descent</th>\n",
       "      <th>East Asian</th>\n",
       "      <th>Hispanic or Latino/a/x</th>\n",
       "      <th>Indigenous (such as Native American, Pacific Islander, or Indigenous Australian)</th>\n",
       "      <th>Middle Eastern</th>\n",
       "      <th>Multiracial</th>\n",
       "      <th>South Asian</th>\n",
       "      <th>Southeast Asian</th>\n",
       "      <th>White or of European descent</th>\n",
       "    </tr>\n",
       "  </thead>\n",
       "  <tbody>\n",
       "    <tr>\n",
       "      <th>35</th>\n",
       "      <td>{HTML/CSS, SQL, Go, Java, JavaScript, C#, Pyth...</td>\n",
       "      <td>0</td>\n",
       "      <td>0</td>\n",
       "      <td>0</td>\n",
       "      <td>0</td>\n",
       "      <td>0</td>\n",
       "      <td>0</td>\n",
       "      <td>0</td>\n",
       "      <td>0</td>\n",
       "      <td>0</td>\n",
       "      <td>1</td>\n",
       "    </tr>\n",
       "    <tr>\n",
       "      <th>46</th>\n",
       "      <td>{SQL, Java, Ruby, Bash/Shell/PowerShell, JavaS...</td>\n",
       "      <td>0</td>\n",
       "      <td>0</td>\n",
       "      <td>0</td>\n",
       "      <td>0</td>\n",
       "      <td>0</td>\n",
       "      <td>0</td>\n",
       "      <td>0</td>\n",
       "      <td>0</td>\n",
       "      <td>0</td>\n",
       "      <td>1</td>\n",
       "    </tr>\n",
       "    <tr>\n",
       "      <th>68</th>\n",
       "      <td>{Python, HTML/CSS}</td>\n",
       "      <td>0</td>\n",
       "      <td>0</td>\n",
       "      <td>0</td>\n",
       "      <td>0</td>\n",
       "      <td>0</td>\n",
       "      <td>0</td>\n",
       "      <td>0</td>\n",
       "      <td>0</td>\n",
       "      <td>0</td>\n",
       "      <td>1</td>\n",
       "    </tr>\n",
       "    <tr>\n",
       "      <th>71</th>\n",
       "      <td>{Python, JavaScript, Swift, Bash/Shell/PowerSh...</td>\n",
       "      <td>0</td>\n",
       "      <td>0</td>\n",
       "      <td>0</td>\n",
       "      <td>0</td>\n",
       "      <td>0</td>\n",
       "      <td>0</td>\n",
       "      <td>0</td>\n",
       "      <td>0</td>\n",
       "      <td>0</td>\n",
       "      <td>1</td>\n",
       "    </tr>\n",
       "    <tr>\n",
       "      <th>76</th>\n",
       "      <td>{C++, HTML/CSS, Java, Python, R}</td>\n",
       "      <td>0</td>\n",
       "      <td>0</td>\n",
       "      <td>0</td>\n",
       "      <td>0</td>\n",
       "      <td>0</td>\n",
       "      <td>0</td>\n",
       "      <td>0</td>\n",
       "      <td>0</td>\n",
       "      <td>0</td>\n",
       "      <td>1</td>\n",
       "    </tr>\n",
       "    <tr>\n",
       "      <th>...</th>\n",
       "      <td>...</td>\n",
       "      <td>...</td>\n",
       "      <td>...</td>\n",
       "      <td>...</td>\n",
       "      <td>...</td>\n",
       "      <td>...</td>\n",
       "      <td>...</td>\n",
       "      <td>...</td>\n",
       "      <td>...</td>\n",
       "      <td>...</td>\n",
       "      <td>...</td>\n",
       "    </tr>\n",
       "    <tr>\n",
       "      <th>64344</th>\n",
       "      <td>{TypeScript, C++, HTML/CSS, Julia, JavaScript,...</td>\n",
       "      <td>0</td>\n",
       "      <td>0</td>\n",
       "      <td>0</td>\n",
       "      <td>0</td>\n",
       "      <td>0</td>\n",
       "      <td>0</td>\n",
       "      <td>0</td>\n",
       "      <td>0</td>\n",
       "      <td>0</td>\n",
       "      <td>0</td>\n",
       "    </tr>\n",
       "    <tr>\n",
       "      <th>64361</th>\n",
       "      <td>{JavaScript, HTML/CSS}</td>\n",
       "      <td>0</td>\n",
       "      <td>0</td>\n",
       "      <td>0</td>\n",
       "      <td>0</td>\n",
       "      <td>0</td>\n",
       "      <td>0</td>\n",
       "      <td>0</td>\n",
       "      <td>0</td>\n",
       "      <td>0</td>\n",
       "      <td>0</td>\n",
       "    </tr>\n",
       "    <tr>\n",
       "      <th>64368</th>\n",
       "      <td>{SQL, Bash/Shell/PowerShell, JavaScript, VBA, ...</td>\n",
       "      <td>0</td>\n",
       "      <td>0</td>\n",
       "      <td>0</td>\n",
       "      <td>1</td>\n",
       "      <td>0</td>\n",
       "      <td>0</td>\n",
       "      <td>0</td>\n",
       "      <td>0</td>\n",
       "      <td>0</td>\n",
       "      <td>1</td>\n",
       "    </tr>\n",
       "    <tr>\n",
       "      <th>64392</th>\n",
       "      <td>{TypeScript, C++, HTML/CSS, Julia, JavaScript,...</td>\n",
       "      <td>1</td>\n",
       "      <td>1</td>\n",
       "      <td>1</td>\n",
       "      <td>1</td>\n",
       "      <td>1</td>\n",
       "      <td>1</td>\n",
       "      <td>1</td>\n",
       "      <td>1</td>\n",
       "      <td>1</td>\n",
       "      <td>1</td>\n",
       "    </tr>\n",
       "    <tr>\n",
       "      <th>64401</th>\n",
       "      <td>{TypeScript, C++, HTML/CSS, Julia, JavaScript,...</td>\n",
       "      <td>0</td>\n",
       "      <td>0</td>\n",
       "      <td>0</td>\n",
       "      <td>0</td>\n",
       "      <td>0</td>\n",
       "      <td>0</td>\n",
       "      <td>0</td>\n",
       "      <td>0</td>\n",
       "      <td>0</td>\n",
       "      <td>0</td>\n",
       "    </tr>\n",
       "  </tbody>\n",
       "</table>\n",
       "<p>11750 rows × 11 columns</p>\n",
       "</div>"
      ],
      "text/plain": [
       "                                      LanguageWorkedWith  Biracial  \\\n",
       "35     {HTML/CSS, SQL, Go, Java, JavaScript, C#, Pyth...         0   \n",
       "46     {SQL, Java, Ruby, Bash/Shell/PowerShell, JavaS...         0   \n",
       "68                                    {Python, HTML/CSS}         0   \n",
       "71     {Python, JavaScript, Swift, Bash/Shell/PowerSh...         0   \n",
       "76                      {C++, HTML/CSS, Java, Python, R}         0   \n",
       "...                                                  ...       ...   \n",
       "64344  {TypeScript, C++, HTML/CSS, Julia, JavaScript,...         0   \n",
       "64361                             {JavaScript, HTML/CSS}         0   \n",
       "64368  {SQL, Bash/Shell/PowerShell, JavaScript, VBA, ...         0   \n",
       "64392  {TypeScript, C++, HTML/CSS, Julia, JavaScript,...         1   \n",
       "64401  {TypeScript, C++, HTML/CSS, Julia, JavaScript,...         0   \n",
       "\n",
       "       Black or of African descent  East Asian  Hispanic or Latino/a/x  \\\n",
       "35                               0           0                       0   \n",
       "46                               0           0                       0   \n",
       "68                               0           0                       0   \n",
       "71                               0           0                       0   \n",
       "76                               0           0                       0   \n",
       "...                            ...         ...                     ...   \n",
       "64344                            0           0                       0   \n",
       "64361                            0           0                       0   \n",
       "64368                            0           0                       1   \n",
       "64392                            1           1                       1   \n",
       "64401                            0           0                       0   \n",
       "\n",
       "       Indigenous (such as Native American, Pacific Islander, or Indigenous Australian)  \\\n",
       "35                                                     0                                  \n",
       "46                                                     0                                  \n",
       "68                                                     0                                  \n",
       "71                                                     0                                  \n",
       "76                                                     0                                  \n",
       "...                                                  ...                                  \n",
       "64344                                                  0                                  \n",
       "64361                                                  0                                  \n",
       "64368                                                  0                                  \n",
       "64392                                                  1                                  \n",
       "64401                                                  0                                  \n",
       "\n",
       "       Middle Eastern  Multiracial  South Asian  Southeast Asian  \\\n",
       "35                  0            0            0                0   \n",
       "46                  0            0            0                0   \n",
       "68                  0            0            0                0   \n",
       "71                  0            0            0                0   \n",
       "76                  0            0            0                0   \n",
       "...               ...          ...          ...              ...   \n",
       "64344               0            0            0                0   \n",
       "64361               0            0            0                0   \n",
       "64368               0            0            0                0   \n",
       "64392               1            1            1                1   \n",
       "64401               0            0            0                0   \n",
       "\n",
       "       White or of European descent  \n",
       "35                                1  \n",
       "46                                1  \n",
       "68                                1  \n",
       "71                                1  \n",
       "76                                1  \n",
       "...                             ...  \n",
       "64344                             0  \n",
       "64361                             0  \n",
       "64368                             1  \n",
       "64392                             1  \n",
       "64401                             0  \n",
       "\n",
       "[11750 rows x 11 columns]"
      ]
     },
     "execution_count": 242,
     "metadata": {},
     "output_type": "execute_result"
    }
   ],
   "source": [
    "list_to_cols.transform(df_tmp)"
   ]
  },
  {
   "cell_type": "code",
   "execution_count": 199,
   "metadata": {},
   "outputs": [
    {
     "data": {
      "text/plain": [
       "722"
      ]
     },
     "execution_count": 199,
     "metadata": {},
     "output_type": "execute_result"
    }
   ],
   "source": [
    "df_data['LanguageWorkedWith'].isnull().sum()"
   ]
  },
  {
   "cell_type": "code",
   "execution_count": 206,
   "metadata": {},
   "outputs": [],
   "source": [
    "s_language = df_data['LanguageWorkedWith'].str.split(';').apply(lambda x: {} if x is np.nan else set(x))"
   ]
  },
  {
   "cell_type": "code",
   "execution_count": 207,
   "metadata": {},
   "outputs": [],
   "source": [
    "mlb = MultiLabelBinarizer()\n",
    "\n",
    "s_language_encoded = mlb.fit_transform(s_language)"
   ]
  },
  {
   "cell_type": "code",
   "execution_count": 208,
   "metadata": {},
   "outputs": [
    {
     "data": {
      "text/plain": [
       "(11750, 25)"
      ]
     },
     "execution_count": 208,
     "metadata": {},
     "output_type": "execute_result"
    }
   ],
   "source": [
    "s_language_encoded.shape"
   ]
  },
  {
   "cell_type": "code",
   "execution_count": 209,
   "metadata": {},
   "outputs": [
    {
     "data": {
      "text/plain": [
       "array(['Assembly', 'Bash/Shell/PowerShell', 'C', 'C#', 'C++', 'Dart',\n",
       "       'Go', 'HTML/CSS', 'Haskell', 'Java', 'JavaScript', 'Julia',\n",
       "       'Kotlin', 'Objective-C', 'PHP', 'Perl', 'Python', 'R', 'Ruby',\n",
       "       'Rust', 'SQL', 'Scala', 'Swift', 'TypeScript', 'VBA'], dtype=object)"
      ]
     },
     "execution_count": 209,
     "metadata": {},
     "output_type": "execute_result"
    }
   ],
   "source": [
    "mlb.classes_"
   ]
  },
  {
   "cell_type": "markdown",
   "metadata": {},
   "source": [
    "### 3.1. remove some trivial columns by human investigation"
   ]
  },
  {
   "cell_type": "code",
   "execution_count": 179,
   "metadata": {},
   "outputs": [],
   "source": [
    "df_data_info = cal_basic_info(df_data.drop(columns=['DevType_list']))"
   ]
  },
  {
   "cell_type": "code",
   "execution_count": 182,
   "metadata": {},
   "outputs": [],
   "source": [
    "pd.set_option('display.max_rows', 100)"
   ]
  },
  {
   "cell_type": "code",
   "execution_count": 183,
   "metadata": {
    "collapsed": true,
    "jupyter": {
     "outputs_hidden": true
    }
   },
   "outputs": [
    {
     "data": {
      "text/html": [
       "<div>\n",
       "<style scoped>\n",
       "    .dataframe tbody tr th:only-of-type {\n",
       "        vertical-align: middle;\n",
       "    }\n",
       "\n",
       "    .dataframe tbody tr th {\n",
       "        vertical-align: top;\n",
       "    }\n",
       "\n",
       "    .dataframe thead th {\n",
       "        text-align: right;\n",
       "    }\n",
       "</style>\n",
       "<table border=\"1\" class=\"dataframe\">\n",
       "  <thead>\n",
       "    <tr style=\"text-align: right;\">\n",
       "      <th></th>\n",
       "      <th>dtypes</th>\n",
       "      <th>null counts</th>\n",
       "      <th>null percent</th>\n",
       "      <th>mean</th>\n",
       "      <th>std</th>\n",
       "      <th>min</th>\n",
       "      <th>max</th>\n",
       "      <th>nunique</th>\n",
       "    </tr>\n",
       "  </thead>\n",
       "  <tbody>\n",
       "    <tr>\n",
       "      <th>Respondent</th>\n",
       "      <td>int64</td>\n",
       "      <td>0</td>\n",
       "      <td>0.000000</td>\n",
       "      <td>3.089389e+04</td>\n",
       "      <td>1.894739e+04</td>\n",
       "      <td>22.0</td>\n",
       "      <td>6.560200e+04</td>\n",
       "      <td>NaN</td>\n",
       "    </tr>\n",
       "    <tr>\n",
       "      <th>MainBranch</th>\n",
       "      <td>object</td>\n",
       "      <td>46</td>\n",
       "      <td>0.391489</td>\n",
       "      <td>NaN</td>\n",
       "      <td>NaN</td>\n",
       "      <td>NaN</td>\n",
       "      <td>NaN</td>\n",
       "      <td>6.0</td>\n",
       "    </tr>\n",
       "    <tr>\n",
       "      <th>Hobbyist</th>\n",
       "      <td>object</td>\n",
       "      <td>0</td>\n",
       "      <td>0.000000</td>\n",
       "      <td>NaN</td>\n",
       "      <td>NaN</td>\n",
       "      <td>NaN</td>\n",
       "      <td>NaN</td>\n",
       "      <td>2.0</td>\n",
       "    </tr>\n",
       "    <tr>\n",
       "      <th>Age</th>\n",
       "      <td>float64</td>\n",
       "      <td>2707</td>\n",
       "      <td>23.038298</td>\n",
       "      <td>3.281809e+01</td>\n",
       "      <td>9.390893e+00</td>\n",
       "      <td>1.0</td>\n",
       "      <td>9.900000e+01</td>\n",
       "      <td>NaN</td>\n",
       "    </tr>\n",
       "    <tr>\n",
       "      <th>Age1stCode</th>\n",
       "      <td>object</td>\n",
       "      <td>80</td>\n",
       "      <td>0.680851</td>\n",
       "      <td>NaN</td>\n",
       "      <td>NaN</td>\n",
       "      <td>NaN</td>\n",
       "      <td>NaN</td>\n",
       "      <td>52.0</td>\n",
       "    </tr>\n",
       "    <tr>\n",
       "      <th>CompFreq</th>\n",
       "      <td>object</td>\n",
       "      <td>2612</td>\n",
       "      <td>22.229787</td>\n",
       "      <td>NaN</td>\n",
       "      <td>NaN</td>\n",
       "      <td>NaN</td>\n",
       "      <td>NaN</td>\n",
       "      <td>4.0</td>\n",
       "    </tr>\n",
       "    <tr>\n",
       "      <th>CompTotal</th>\n",
       "      <td>float64</td>\n",
       "      <td>3956</td>\n",
       "      <td>33.668085</td>\n",
       "      <td>2.566076e+146</td>\n",
       "      <td>1.601795e+148</td>\n",
       "      <td>0.0</td>\n",
       "      <td>1.000000e+150</td>\n",
       "      <td>NaN</td>\n",
       "    </tr>\n",
       "    <tr>\n",
       "      <th>ConvertedComp</th>\n",
       "      <td>float64</td>\n",
       "      <td>3974</td>\n",
       "      <td>33.821277</td>\n",
       "      <td>1.221882e+05</td>\n",
       "      <td>2.759070e+05</td>\n",
       "      <td>0.0</td>\n",
       "      <td>2.000000e+06</td>\n",
       "      <td>NaN</td>\n",
       "    </tr>\n",
       "    <tr>\n",
       "      <th>Country</th>\n",
       "      <td>object</td>\n",
       "      <td>0</td>\n",
       "      <td>0.000000</td>\n",
       "      <td>NaN</td>\n",
       "      <td>NaN</td>\n",
       "      <td>NaN</td>\n",
       "      <td>NaN</td>\n",
       "      <td>149.0</td>\n",
       "    </tr>\n",
       "    <tr>\n",
       "      <th>CurrencyDesc</th>\n",
       "      <td>object</td>\n",
       "      <td>1357</td>\n",
       "      <td>11.548936</td>\n",
       "      <td>NaN</td>\n",
       "      <td>NaN</td>\n",
       "      <td>NaN</td>\n",
       "      <td>NaN</td>\n",
       "      <td>118.0</td>\n",
       "    </tr>\n",
       "    <tr>\n",
       "      <th>CurrencySymbol</th>\n",
       "      <td>object</td>\n",
       "      <td>1357</td>\n",
       "      <td>11.548936</td>\n",
       "      <td>NaN</td>\n",
       "      <td>NaN</td>\n",
       "      <td>NaN</td>\n",
       "      <td>NaN</td>\n",
       "      <td>118.0</td>\n",
       "    </tr>\n",
       "    <tr>\n",
       "      <th>DatabaseDesireNextYear</th>\n",
       "      <td>object</td>\n",
       "      <td>2834</td>\n",
       "      <td>24.119149</td>\n",
       "      <td>NaN</td>\n",
       "      <td>NaN</td>\n",
       "      <td>NaN</td>\n",
       "      <td>NaN</td>\n",
       "      <td>1424.0</td>\n",
       "    </tr>\n",
       "    <tr>\n",
       "      <th>DatabaseWorkedWith</th>\n",
       "      <td>object</td>\n",
       "      <td>1796</td>\n",
       "      <td>15.285106</td>\n",
       "      <td>NaN</td>\n",
       "      <td>NaN</td>\n",
       "      <td>NaN</td>\n",
       "      <td>NaN</td>\n",
       "      <td>1291.0</td>\n",
       "    </tr>\n",
       "    <tr>\n",
       "      <th>DevType</th>\n",
       "      <td>object</td>\n",
       "      <td>0</td>\n",
       "      <td>0.000000</td>\n",
       "      <td>NaN</td>\n",
       "      <td>NaN</td>\n",
       "      <td>NaN</td>\n",
       "      <td>NaN</td>\n",
       "      <td>3889.0</td>\n",
       "    </tr>\n",
       "    <tr>\n",
       "      <th>EdLevel</th>\n",
       "      <td>object</td>\n",
       "      <td>203</td>\n",
       "      <td>1.727660</td>\n",
       "      <td>NaN</td>\n",
       "      <td>NaN</td>\n",
       "      <td>NaN</td>\n",
       "      <td>NaN</td>\n",
       "      <td>10.0</td>\n",
       "    </tr>\n",
       "    <tr>\n",
       "      <th>Employment</th>\n",
       "      <td>object</td>\n",
       "      <td>0</td>\n",
       "      <td>0.000000</td>\n",
       "      <td>NaN</td>\n",
       "      <td>NaN</td>\n",
       "      <td>NaN</td>\n",
       "      <td>NaN</td>\n",
       "      <td>4.0</td>\n",
       "    </tr>\n",
       "    <tr>\n",
       "      <th>Ethnicity</th>\n",
       "      <td>object</td>\n",
       "      <td>2498</td>\n",
       "      <td>21.259574</td>\n",
       "      <td>NaN</td>\n",
       "      <td>NaN</td>\n",
       "      <td>NaN</td>\n",
       "      <td>NaN</td>\n",
       "      <td>98.0</td>\n",
       "    </tr>\n",
       "    <tr>\n",
       "      <th>Gender</th>\n",
       "      <td>object</td>\n",
       "      <td>1656</td>\n",
       "      <td>14.093617</td>\n",
       "      <td>NaN</td>\n",
       "      <td>NaN</td>\n",
       "      <td>NaN</td>\n",
       "      <td>NaN</td>\n",
       "      <td>8.0</td>\n",
       "    </tr>\n",
       "    <tr>\n",
       "      <th>JobFactors</th>\n",
       "      <td>object</td>\n",
       "      <td>1585</td>\n",
       "      <td>13.489362</td>\n",
       "      <td>NaN</td>\n",
       "      <td>NaN</td>\n",
       "      <td>NaN</td>\n",
       "      <td>NaN</td>\n",
       "      <td>219.0</td>\n",
       "    </tr>\n",
       "    <tr>\n",
       "      <th>JobSat</th>\n",
       "      <td>object</td>\n",
       "      <td>1378</td>\n",
       "      <td>11.727660</td>\n",
       "      <td>NaN</td>\n",
       "      <td>NaN</td>\n",
       "      <td>NaN</td>\n",
       "      <td>NaN</td>\n",
       "      <td>6.0</td>\n",
       "    </tr>\n",
       "    <tr>\n",
       "      <th>JobSeek</th>\n",
       "      <td>object</td>\n",
       "      <td>1159</td>\n",
       "      <td>9.863830</td>\n",
       "      <td>NaN</td>\n",
       "      <td>NaN</td>\n",
       "      <td>NaN</td>\n",
       "      <td>NaN</td>\n",
       "      <td>4.0</td>\n",
       "    </tr>\n",
       "    <tr>\n",
       "      <th>LanguageDesireNextYear</th>\n",
       "      <td>object</td>\n",
       "      <td>1294</td>\n",
       "      <td>11.012766</td>\n",
       "      <td>NaN</td>\n",
       "      <td>NaN</td>\n",
       "      <td>NaN</td>\n",
       "      <td>NaN</td>\n",
       "      <td>3965.0</td>\n",
       "    </tr>\n",
       "    <tr>\n",
       "      <th>LanguageWorkedWith</th>\n",
       "      <td>object</td>\n",
       "      <td>722</td>\n",
       "      <td>6.144681</td>\n",
       "      <td>NaN</td>\n",
       "      <td>NaN</td>\n",
       "      <td>NaN</td>\n",
       "      <td>NaN</td>\n",
       "      <td>3615.0</td>\n",
       "    </tr>\n",
       "    <tr>\n",
       "      <th>MiscTechDesireNextYear</th>\n",
       "      <td>object</td>\n",
       "      <td>2679</td>\n",
       "      <td>22.800000</td>\n",
       "      <td>NaN</td>\n",
       "      <td>NaN</td>\n",
       "      <td>NaN</td>\n",
       "      <td>NaN</td>\n",
       "      <td>1917.0</td>\n",
       "    </tr>\n",
       "    <tr>\n",
       "      <th>MiscTechWorkedWith</th>\n",
       "      <td>object</td>\n",
       "      <td>2806</td>\n",
       "      <td>23.880851</td>\n",
       "      <td>NaN</td>\n",
       "      <td>NaN</td>\n",
       "      <td>NaN</td>\n",
       "      <td>NaN</td>\n",
       "      <td>1221.0</td>\n",
       "    </tr>\n",
       "    <tr>\n",
       "      <th>NEWCollabToolsDesireNextYear</th>\n",
       "      <td>object</td>\n",
       "      <td>2337</td>\n",
       "      <td>19.889362</td>\n",
       "      <td>NaN</td>\n",
       "      <td>NaN</td>\n",
       "      <td>NaN</td>\n",
       "      <td>NaN</td>\n",
       "      <td>746.0</td>\n",
       "    </tr>\n",
       "    <tr>\n",
       "      <th>NEWCollabToolsWorkedWith</th>\n",
       "      <td>object</td>\n",
       "      <td>1378</td>\n",
       "      <td>11.727660</td>\n",
       "      <td>NaN</td>\n",
       "      <td>NaN</td>\n",
       "      <td>NaN</td>\n",
       "      <td>NaN</td>\n",
       "      <td>702.0</td>\n",
       "    </tr>\n",
       "    <tr>\n",
       "      <th>NEWDevOps</th>\n",
       "      <td>object</td>\n",
       "      <td>1939</td>\n",
       "      <td>16.502128</td>\n",
       "      <td>NaN</td>\n",
       "      <td>NaN</td>\n",
       "      <td>NaN</td>\n",
       "      <td>NaN</td>\n",
       "      <td>4.0</td>\n",
       "    </tr>\n",
       "    <tr>\n",
       "      <th>NEWDevOpsImpt</th>\n",
       "      <td>object</td>\n",
       "      <td>2176</td>\n",
       "      <td>18.519149</td>\n",
       "      <td>NaN</td>\n",
       "      <td>NaN</td>\n",
       "      <td>NaN</td>\n",
       "      <td>NaN</td>\n",
       "      <td>6.0</td>\n",
       "    </tr>\n",
       "    <tr>\n",
       "      <th>NEWEdImpt</th>\n",
       "      <td>object</td>\n",
       "      <td>718</td>\n",
       "      <td>6.110638</td>\n",
       "      <td>NaN</td>\n",
       "      <td>NaN</td>\n",
       "      <td>NaN</td>\n",
       "      <td>NaN</td>\n",
       "      <td>6.0</td>\n",
       "    </tr>\n",
       "    <tr>\n",
       "      <th>NEWJobHunt</th>\n",
       "      <td>object</td>\n",
       "      <td>2213</td>\n",
       "      <td>18.834043</td>\n",
       "      <td>NaN</td>\n",
       "      <td>NaN</td>\n",
       "      <td>NaN</td>\n",
       "      <td>NaN</td>\n",
       "      <td>1202.0</td>\n",
       "    </tr>\n",
       "    <tr>\n",
       "      <th>NEWJobHuntResearch</th>\n",
       "      <td>object</td>\n",
       "      <td>2447</td>\n",
       "      <td>20.825532</td>\n",
       "      <td>NaN</td>\n",
       "      <td>NaN</td>\n",
       "      <td>NaN</td>\n",
       "      <td>NaN</td>\n",
       "      <td>64.0</td>\n",
       "    </tr>\n",
       "    <tr>\n",
       "      <th>NEWLearn</th>\n",
       "      <td>object</td>\n",
       "      <td>1027</td>\n",
       "      <td>8.740426</td>\n",
       "      <td>NaN</td>\n",
       "      <td>NaN</td>\n",
       "      <td>NaN</td>\n",
       "      <td>NaN</td>\n",
       "      <td>5.0</td>\n",
       "    </tr>\n",
       "    <tr>\n",
       "      <th>NEWOffTopic</th>\n",
       "      <td>object</td>\n",
       "      <td>1624</td>\n",
       "      <td>13.821277</td>\n",
       "      <td>NaN</td>\n",
       "      <td>NaN</td>\n",
       "      <td>NaN</td>\n",
       "      <td>NaN</td>\n",
       "      <td>4.0</td>\n",
       "    </tr>\n",
       "    <tr>\n",
       "      <th>NEWOnboardGood</th>\n",
       "      <td>object</td>\n",
       "      <td>1947</td>\n",
       "      <td>16.570213</td>\n",
       "      <td>NaN</td>\n",
       "      <td>NaN</td>\n",
       "      <td>NaN</td>\n",
       "      <td>NaN</td>\n",
       "      <td>4.0</td>\n",
       "    </tr>\n",
       "    <tr>\n",
       "      <th>NEWOtherComms</th>\n",
       "      <td>object</td>\n",
       "      <td>765</td>\n",
       "      <td>6.510638</td>\n",
       "      <td>NaN</td>\n",
       "      <td>NaN</td>\n",
       "      <td>NaN</td>\n",
       "      <td>NaN</td>\n",
       "      <td>3.0</td>\n",
       "    </tr>\n",
       "    <tr>\n",
       "      <th>NEWOvertime</th>\n",
       "      <td>object</td>\n",
       "      <td>1821</td>\n",
       "      <td>15.497872</td>\n",
       "      <td>NaN</td>\n",
       "      <td>NaN</td>\n",
       "      <td>NaN</td>\n",
       "      <td>NaN</td>\n",
       "      <td>6.0</td>\n",
       "    </tr>\n",
       "    <tr>\n",
       "      <th>NEWPurchaseResearch</th>\n",
       "      <td>object</td>\n",
       "      <td>4104</td>\n",
       "      <td>34.927660</td>\n",
       "      <td>NaN</td>\n",
       "      <td>NaN</td>\n",
       "      <td>NaN</td>\n",
       "      <td>NaN</td>\n",
       "      <td>64.0</td>\n",
       "    </tr>\n",
       "    <tr>\n",
       "      <th>NEWPurpleLink</th>\n",
       "      <td>object</td>\n",
       "      <td>952</td>\n",
       "      <td>8.102128</td>\n",
       "      <td>NaN</td>\n",
       "      <td>NaN</td>\n",
       "      <td>NaN</td>\n",
       "      <td>NaN</td>\n",
       "      <td>5.0</td>\n",
       "    </tr>\n",
       "    <tr>\n",
       "      <th>NEWSOSites</th>\n",
       "      <td>object</td>\n",
       "      <td>656</td>\n",
       "      <td>5.582979</td>\n",
       "      <td>NaN</td>\n",
       "      <td>NaN</td>\n",
       "      <td>NaN</td>\n",
       "      <td>NaN</td>\n",
       "      <td>57.0</td>\n",
       "    </tr>\n",
       "    <tr>\n",
       "      <th>NEWStuck</th>\n",
       "      <td>object</td>\n",
       "      <td>939</td>\n",
       "      <td>7.991489</td>\n",
       "      <td>NaN</td>\n",
       "      <td>NaN</td>\n",
       "      <td>NaN</td>\n",
       "      <td>NaN</td>\n",
       "      <td>326.0</td>\n",
       "    </tr>\n",
       "    <tr>\n",
       "      <th>OpSys</th>\n",
       "      <td>object</td>\n",
       "      <td>838</td>\n",
       "      <td>7.131915</td>\n",
       "      <td>NaN</td>\n",
       "      <td>NaN</td>\n",
       "      <td>NaN</td>\n",
       "      <td>NaN</td>\n",
       "      <td>5.0</td>\n",
       "    </tr>\n",
       "    <tr>\n",
       "      <th>OrgSize</th>\n",
       "      <td>object</td>\n",
       "      <td>1581</td>\n",
       "      <td>13.455319</td>\n",
       "      <td>NaN</td>\n",
       "      <td>NaN</td>\n",
       "      <td>NaN</td>\n",
       "      <td>NaN</td>\n",
       "      <td>10.0</td>\n",
       "    </tr>\n",
       "    <tr>\n",
       "      <th>PlatformDesireNextYear</th>\n",
       "      <td>object</td>\n",
       "      <td>1847</td>\n",
       "      <td>15.719149</td>\n",
       "      <td>NaN</td>\n",
       "      <td>NaN</td>\n",
       "      <td>NaN</td>\n",
       "      <td>NaN</td>\n",
       "      <td>2421.0</td>\n",
       "    </tr>\n",
       "    <tr>\n",
       "      <th>PlatformWorkedWith</th>\n",
       "      <td>object</td>\n",
       "      <td>1235</td>\n",
       "      <td>10.510638</td>\n",
       "      <td>NaN</td>\n",
       "      <td>NaN</td>\n",
       "      <td>NaN</td>\n",
       "      <td>NaN</td>\n",
       "      <td>2230.0</td>\n",
       "    </tr>\n",
       "    <tr>\n",
       "      <th>PurchaseWhat</th>\n",
       "      <td>object</td>\n",
       "      <td>3234</td>\n",
       "      <td>27.523404</td>\n",
       "      <td>NaN</td>\n",
       "      <td>NaN</td>\n",
       "      <td>NaN</td>\n",
       "      <td>NaN</td>\n",
       "      <td>4.0</td>\n",
       "    </tr>\n",
       "    <tr>\n",
       "      <th>Sexuality</th>\n",
       "      <td>object</td>\n",
       "      <td>2922</td>\n",
       "      <td>24.868085</td>\n",
       "      <td>NaN</td>\n",
       "      <td>NaN</td>\n",
       "      <td>NaN</td>\n",
       "      <td>NaN</td>\n",
       "      <td>15.0</td>\n",
       "    </tr>\n",
       "    <tr>\n",
       "      <th>SOAccount</th>\n",
       "      <td>object</td>\n",
       "      <td>969</td>\n",
       "      <td>8.246809</td>\n",
       "      <td>NaN</td>\n",
       "      <td>NaN</td>\n",
       "      <td>NaN</td>\n",
       "      <td>NaN</td>\n",
       "      <td>4.0</td>\n",
       "    </tr>\n",
       "    <tr>\n",
       "      <th>SOComm</th>\n",
       "      <td>object</td>\n",
       "      <td>962</td>\n",
       "      <td>8.187234</td>\n",
       "      <td>NaN</td>\n",
       "      <td>NaN</td>\n",
       "      <td>NaN</td>\n",
       "      <td>NaN</td>\n",
       "      <td>7.0</td>\n",
       "    </tr>\n",
       "    <tr>\n",
       "      <th>SOPartFreq</th>\n",
       "      <td>object</td>\n",
       "      <td>2827</td>\n",
       "      <td>24.059574</td>\n",
       "      <td>NaN</td>\n",
       "      <td>NaN</td>\n",
       "      <td>NaN</td>\n",
       "      <td>NaN</td>\n",
       "      <td>7.0</td>\n",
       "    </tr>\n",
       "    <tr>\n",
       "      <th>SOVisitFreq</th>\n",
       "      <td>object</td>\n",
       "      <td>921</td>\n",
       "      <td>7.838298</td>\n",
       "      <td>NaN</td>\n",
       "      <td>NaN</td>\n",
       "      <td>NaN</td>\n",
       "      <td>NaN</td>\n",
       "      <td>7.0</td>\n",
       "    </tr>\n",
       "    <tr>\n",
       "      <th>SurveyEase</th>\n",
       "      <td>object</td>\n",
       "      <td>1314</td>\n",
       "      <td>11.182979</td>\n",
       "      <td>NaN</td>\n",
       "      <td>NaN</td>\n",
       "      <td>NaN</td>\n",
       "      <td>NaN</td>\n",
       "      <td>4.0</td>\n",
       "    </tr>\n",
       "    <tr>\n",
       "      <th>SurveyLength</th>\n",
       "      <td>object</td>\n",
       "      <td>1319</td>\n",
       "      <td>11.225532</td>\n",
       "      <td>NaN</td>\n",
       "      <td>NaN</td>\n",
       "      <td>NaN</td>\n",
       "      <td>NaN</td>\n",
       "      <td>4.0</td>\n",
       "    </tr>\n",
       "    <tr>\n",
       "      <th>Trans</th>\n",
       "      <td>object</td>\n",
       "      <td>1877</td>\n",
       "      <td>15.974468</td>\n",
       "      <td>NaN</td>\n",
       "      <td>NaN</td>\n",
       "      <td>NaN</td>\n",
       "      <td>NaN</td>\n",
       "      <td>3.0</td>\n",
       "    </tr>\n",
       "    <tr>\n",
       "      <th>UndergradMajor</th>\n",
       "      <td>object</td>\n",
       "      <td>929</td>\n",
       "      <td>7.906383</td>\n",
       "      <td>NaN</td>\n",
       "      <td>NaN</td>\n",
       "      <td>NaN</td>\n",
       "      <td>NaN</td>\n",
       "      <td>13.0</td>\n",
       "    </tr>\n",
       "    <tr>\n",
       "      <th>WebframeDesireNextYear</th>\n",
       "      <td>object</td>\n",
       "      <td>4535</td>\n",
       "      <td>38.595745</td>\n",
       "      <td>NaN</td>\n",
       "      <td>NaN</td>\n",
       "      <td>NaN</td>\n",
       "      <td>NaN</td>\n",
       "      <td>1302.0</td>\n",
       "    </tr>\n",
       "    <tr>\n",
       "      <th>WebframeWorkedWith</th>\n",
       "      <td>object</td>\n",
       "      <td>4112</td>\n",
       "      <td>34.995745</td>\n",
       "      <td>NaN</td>\n",
       "      <td>NaN</td>\n",
       "      <td>NaN</td>\n",
       "      <td>NaN</td>\n",
       "      <td>1290.0</td>\n",
       "    </tr>\n",
       "    <tr>\n",
       "      <th>WelcomeChange</th>\n",
       "      <td>object</td>\n",
       "      <td>1464</td>\n",
       "      <td>12.459574</td>\n",
       "      <td>NaN</td>\n",
       "      <td>NaN</td>\n",
       "      <td>NaN</td>\n",
       "      <td>NaN</td>\n",
       "      <td>7.0</td>\n",
       "    </tr>\n",
       "    <tr>\n",
       "      <th>WorkWeekHrs</th>\n",
       "      <td>float64</td>\n",
       "      <td>2411</td>\n",
       "      <td>20.519149</td>\n",
       "      <td>4.191812e+01</td>\n",
       "      <td>1.700593e+01</td>\n",
       "      <td>1.0</td>\n",
       "      <td>3.750000e+02</td>\n",
       "      <td>NaN</td>\n",
       "    </tr>\n",
       "    <tr>\n",
       "      <th>YearsCode</th>\n",
       "      <td>object</td>\n",
       "      <td>112</td>\n",
       "      <td>0.953191</td>\n",
       "      <td>NaN</td>\n",
       "      <td>NaN</td>\n",
       "      <td>NaN</td>\n",
       "      <td>NaN</td>\n",
       "      <td>53.0</td>\n",
       "    </tr>\n",
       "    <tr>\n",
       "      <th>YearsCodePro</th>\n",
       "      <td>object</td>\n",
       "      <td>1158</td>\n",
       "      <td>9.855319</td>\n",
       "      <td>NaN</td>\n",
       "      <td>NaN</td>\n",
       "      <td>NaN</td>\n",
       "      <td>NaN</td>\n",
       "      <td>52.0</td>\n",
       "    </tr>\n",
       "    <tr>\n",
       "      <th>data_related</th>\n",
       "      <td>object</td>\n",
       "      <td>0</td>\n",
       "      <td>0.000000</td>\n",
       "      <td>NaN</td>\n",
       "      <td>NaN</td>\n",
       "      <td>NaN</td>\n",
       "      <td>NaN</td>\n",
       "      <td>1.0</td>\n",
       "    </tr>\n",
       "    <tr>\n",
       "      <th>multiple_roles</th>\n",
       "      <td>bool</td>\n",
       "      <td>0</td>\n",
       "      <td>0.000000</td>\n",
       "      <td>NaN</td>\n",
       "      <td>NaN</td>\n",
       "      <td>NaN</td>\n",
       "      <td>NaN</td>\n",
       "      <td>2.0</td>\n",
       "    </tr>\n",
       "    <tr>\n",
       "      <th>data_role</th>\n",
       "      <td>object</td>\n",
       "      <td>0</td>\n",
       "      <td>0.000000</td>\n",
       "      <td>NaN</td>\n",
       "      <td>NaN</td>\n",
       "      <td>NaN</td>\n",
       "      <td>NaN</td>\n",
       "      <td>3.0</td>\n",
       "    </tr>\n",
       "    <tr>\n",
       "      <th>Gender_1</th>\n",
       "      <td>object</td>\n",
       "      <td>1656</td>\n",
       "      <td>14.093617</td>\n",
       "      <td>NaN</td>\n",
       "      <td>NaN</td>\n",
       "      <td>NaN</td>\n",
       "      <td>NaN</td>\n",
       "      <td>4.0</td>\n",
       "    </tr>\n",
       "  </tbody>\n",
       "</table>\n",
       "</div>"
      ],
      "text/plain": [
       "                               dtypes  null counts  null percent  \\\n",
       "Respondent                      int64            0      0.000000   \n",
       "MainBranch                     object           46      0.391489   \n",
       "Hobbyist                       object            0      0.000000   \n",
       "Age                           float64         2707     23.038298   \n",
       "Age1stCode                     object           80      0.680851   \n",
       "CompFreq                       object         2612     22.229787   \n",
       "CompTotal                     float64         3956     33.668085   \n",
       "ConvertedComp                 float64         3974     33.821277   \n",
       "Country                        object            0      0.000000   \n",
       "CurrencyDesc                   object         1357     11.548936   \n",
       "CurrencySymbol                 object         1357     11.548936   \n",
       "DatabaseDesireNextYear         object         2834     24.119149   \n",
       "DatabaseWorkedWith             object         1796     15.285106   \n",
       "DevType                        object            0      0.000000   \n",
       "EdLevel                        object          203      1.727660   \n",
       "Employment                     object            0      0.000000   \n",
       "Ethnicity                      object         2498     21.259574   \n",
       "Gender                         object         1656     14.093617   \n",
       "JobFactors                     object         1585     13.489362   \n",
       "JobSat                         object         1378     11.727660   \n",
       "JobSeek                        object         1159      9.863830   \n",
       "LanguageDesireNextYear         object         1294     11.012766   \n",
       "LanguageWorkedWith             object          722      6.144681   \n",
       "MiscTechDesireNextYear         object         2679     22.800000   \n",
       "MiscTechWorkedWith             object         2806     23.880851   \n",
       "NEWCollabToolsDesireNextYear   object         2337     19.889362   \n",
       "NEWCollabToolsWorkedWith       object         1378     11.727660   \n",
       "NEWDevOps                      object         1939     16.502128   \n",
       "NEWDevOpsImpt                  object         2176     18.519149   \n",
       "NEWEdImpt                      object          718      6.110638   \n",
       "NEWJobHunt                     object         2213     18.834043   \n",
       "NEWJobHuntResearch             object         2447     20.825532   \n",
       "NEWLearn                       object         1027      8.740426   \n",
       "NEWOffTopic                    object         1624     13.821277   \n",
       "NEWOnboardGood                 object         1947     16.570213   \n",
       "NEWOtherComms                  object          765      6.510638   \n",
       "NEWOvertime                    object         1821     15.497872   \n",
       "NEWPurchaseResearch            object         4104     34.927660   \n",
       "NEWPurpleLink                  object          952      8.102128   \n",
       "NEWSOSites                     object          656      5.582979   \n",
       "NEWStuck                       object          939      7.991489   \n",
       "OpSys                          object          838      7.131915   \n",
       "OrgSize                        object         1581     13.455319   \n",
       "PlatformDesireNextYear         object         1847     15.719149   \n",
       "PlatformWorkedWith             object         1235     10.510638   \n",
       "PurchaseWhat                   object         3234     27.523404   \n",
       "Sexuality                      object         2922     24.868085   \n",
       "SOAccount                      object          969      8.246809   \n",
       "SOComm                         object          962      8.187234   \n",
       "SOPartFreq                     object         2827     24.059574   \n",
       "SOVisitFreq                    object          921      7.838298   \n",
       "SurveyEase                     object         1314     11.182979   \n",
       "SurveyLength                   object         1319     11.225532   \n",
       "Trans                          object         1877     15.974468   \n",
       "UndergradMajor                 object          929      7.906383   \n",
       "WebframeDesireNextYear         object         4535     38.595745   \n",
       "WebframeWorkedWith             object         4112     34.995745   \n",
       "WelcomeChange                  object         1464     12.459574   \n",
       "WorkWeekHrs                   float64         2411     20.519149   \n",
       "YearsCode                      object          112      0.953191   \n",
       "YearsCodePro                   object         1158      9.855319   \n",
       "data_related                   object            0      0.000000   \n",
       "multiple_roles                   bool            0      0.000000   \n",
       "data_role                      object            0      0.000000   \n",
       "Gender_1                       object         1656     14.093617   \n",
       "\n",
       "                                       mean            std   min  \\\n",
       "Respondent                     3.089389e+04   1.894739e+04  22.0   \n",
       "MainBranch                              NaN            NaN   NaN   \n",
       "Hobbyist                                NaN            NaN   NaN   \n",
       "Age                            3.281809e+01   9.390893e+00   1.0   \n",
       "Age1stCode                              NaN            NaN   NaN   \n",
       "CompFreq                                NaN            NaN   NaN   \n",
       "CompTotal                     2.566076e+146  1.601795e+148   0.0   \n",
       "ConvertedComp                  1.221882e+05   2.759070e+05   0.0   \n",
       "Country                                 NaN            NaN   NaN   \n",
       "CurrencyDesc                            NaN            NaN   NaN   \n",
       "CurrencySymbol                          NaN            NaN   NaN   \n",
       "DatabaseDesireNextYear                  NaN            NaN   NaN   \n",
       "DatabaseWorkedWith                      NaN            NaN   NaN   \n",
       "DevType                                 NaN            NaN   NaN   \n",
       "EdLevel                                 NaN            NaN   NaN   \n",
       "Employment                              NaN            NaN   NaN   \n",
       "Ethnicity                               NaN            NaN   NaN   \n",
       "Gender                                  NaN            NaN   NaN   \n",
       "JobFactors                              NaN            NaN   NaN   \n",
       "JobSat                                  NaN            NaN   NaN   \n",
       "JobSeek                                 NaN            NaN   NaN   \n",
       "LanguageDesireNextYear                  NaN            NaN   NaN   \n",
       "LanguageWorkedWith                      NaN            NaN   NaN   \n",
       "MiscTechDesireNextYear                  NaN            NaN   NaN   \n",
       "MiscTechWorkedWith                      NaN            NaN   NaN   \n",
       "NEWCollabToolsDesireNextYear            NaN            NaN   NaN   \n",
       "NEWCollabToolsWorkedWith                NaN            NaN   NaN   \n",
       "NEWDevOps                               NaN            NaN   NaN   \n",
       "NEWDevOpsImpt                           NaN            NaN   NaN   \n",
       "NEWEdImpt                               NaN            NaN   NaN   \n",
       "NEWJobHunt                              NaN            NaN   NaN   \n",
       "NEWJobHuntResearch                      NaN            NaN   NaN   \n",
       "NEWLearn                                NaN            NaN   NaN   \n",
       "NEWOffTopic                             NaN            NaN   NaN   \n",
       "NEWOnboardGood                          NaN            NaN   NaN   \n",
       "NEWOtherComms                           NaN            NaN   NaN   \n",
       "NEWOvertime                             NaN            NaN   NaN   \n",
       "NEWPurchaseResearch                     NaN            NaN   NaN   \n",
       "NEWPurpleLink                           NaN            NaN   NaN   \n",
       "NEWSOSites                              NaN            NaN   NaN   \n",
       "NEWStuck                                NaN            NaN   NaN   \n",
       "OpSys                                   NaN            NaN   NaN   \n",
       "OrgSize                                 NaN            NaN   NaN   \n",
       "PlatformDesireNextYear                  NaN            NaN   NaN   \n",
       "PlatformWorkedWith                      NaN            NaN   NaN   \n",
       "PurchaseWhat                            NaN            NaN   NaN   \n",
       "Sexuality                               NaN            NaN   NaN   \n",
       "SOAccount                               NaN            NaN   NaN   \n",
       "SOComm                                  NaN            NaN   NaN   \n",
       "SOPartFreq                              NaN            NaN   NaN   \n",
       "SOVisitFreq                             NaN            NaN   NaN   \n",
       "SurveyEase                              NaN            NaN   NaN   \n",
       "SurveyLength                            NaN            NaN   NaN   \n",
       "Trans                                   NaN            NaN   NaN   \n",
       "UndergradMajor                          NaN            NaN   NaN   \n",
       "WebframeDesireNextYear                  NaN            NaN   NaN   \n",
       "WebframeWorkedWith                      NaN            NaN   NaN   \n",
       "WelcomeChange                           NaN            NaN   NaN   \n",
       "WorkWeekHrs                    4.191812e+01   1.700593e+01   1.0   \n",
       "YearsCode                               NaN            NaN   NaN   \n",
       "YearsCodePro                            NaN            NaN   NaN   \n",
       "data_related                            NaN            NaN   NaN   \n",
       "multiple_roles                          NaN            NaN   NaN   \n",
       "data_role                               NaN            NaN   NaN   \n",
       "Gender_1                                NaN            NaN   NaN   \n",
       "\n",
       "                                        max  nunique  \n",
       "Respondent                     6.560200e+04      NaN  \n",
       "MainBranch                              NaN      6.0  \n",
       "Hobbyist                                NaN      2.0  \n",
       "Age                            9.900000e+01      NaN  \n",
       "Age1stCode                              NaN     52.0  \n",
       "CompFreq                                NaN      4.0  \n",
       "CompTotal                     1.000000e+150      NaN  \n",
       "ConvertedComp                  2.000000e+06      NaN  \n",
       "Country                                 NaN    149.0  \n",
       "CurrencyDesc                            NaN    118.0  \n",
       "CurrencySymbol                          NaN    118.0  \n",
       "DatabaseDesireNextYear                  NaN   1424.0  \n",
       "DatabaseWorkedWith                      NaN   1291.0  \n",
       "DevType                                 NaN   3889.0  \n",
       "EdLevel                                 NaN     10.0  \n",
       "Employment                              NaN      4.0  \n",
       "Ethnicity                               NaN     98.0  \n",
       "Gender                                  NaN      8.0  \n",
       "JobFactors                              NaN    219.0  \n",
       "JobSat                                  NaN      6.0  \n",
       "JobSeek                                 NaN      4.0  \n",
       "LanguageDesireNextYear                  NaN   3965.0  \n",
       "LanguageWorkedWith                      NaN   3615.0  \n",
       "MiscTechDesireNextYear                  NaN   1917.0  \n",
       "MiscTechWorkedWith                      NaN   1221.0  \n",
       "NEWCollabToolsDesireNextYear            NaN    746.0  \n",
       "NEWCollabToolsWorkedWith                NaN    702.0  \n",
       "NEWDevOps                               NaN      4.0  \n",
       "NEWDevOpsImpt                           NaN      6.0  \n",
       "NEWEdImpt                               NaN      6.0  \n",
       "NEWJobHunt                              NaN   1202.0  \n",
       "NEWJobHuntResearch                      NaN     64.0  \n",
       "NEWLearn                                NaN      5.0  \n",
       "NEWOffTopic                             NaN      4.0  \n",
       "NEWOnboardGood                          NaN      4.0  \n",
       "NEWOtherComms                           NaN      3.0  \n",
       "NEWOvertime                             NaN      6.0  \n",
       "NEWPurchaseResearch                     NaN     64.0  \n",
       "NEWPurpleLink                           NaN      5.0  \n",
       "NEWSOSites                              NaN     57.0  \n",
       "NEWStuck                                NaN    326.0  \n",
       "OpSys                                   NaN      5.0  \n",
       "OrgSize                                 NaN     10.0  \n",
       "PlatformDesireNextYear                  NaN   2421.0  \n",
       "PlatformWorkedWith                      NaN   2230.0  \n",
       "PurchaseWhat                            NaN      4.0  \n",
       "Sexuality                               NaN     15.0  \n",
       "SOAccount                               NaN      4.0  \n",
       "SOComm                                  NaN      7.0  \n",
       "SOPartFreq                              NaN      7.0  \n",
       "SOVisitFreq                             NaN      7.0  \n",
       "SurveyEase                              NaN      4.0  \n",
       "SurveyLength                            NaN      4.0  \n",
       "Trans                                   NaN      3.0  \n",
       "UndergradMajor                          NaN     13.0  \n",
       "WebframeDesireNextYear                  NaN   1302.0  \n",
       "WebframeWorkedWith                      NaN   1290.0  \n",
       "WelcomeChange                           NaN      7.0  \n",
       "WorkWeekHrs                    3.750000e+02      NaN  \n",
       "YearsCode                               NaN     53.0  \n",
       "YearsCodePro                            NaN     52.0  \n",
       "data_related                            NaN      1.0  \n",
       "multiple_roles                          NaN      2.0  \n",
       "data_role                               NaN      3.0  \n",
       "Gender_1                                NaN      4.0  "
      ]
     },
     "execution_count": 183,
     "metadata": {},
     "output_type": "execute_result"
    }
   ],
   "source": [
    "df_data_info"
   ]
  },
  {
   "cell_type": "code",
   "execution_count": 186,
   "metadata": {
    "collapsed": true,
    "jupyter": {
     "outputs_hidden": true
    }
   },
   "outputs": [
    {
     "data": {
      "text/plain": [
       "['Age1stCode',\n",
       " 'Country',\n",
       " 'CurrencyDesc',\n",
       " 'CurrencySymbol',\n",
       " 'DatabaseDesireNextYear',\n",
       " 'DatabaseWorkedWith',\n",
       " 'DevType',\n",
       " 'Ethnicity',\n",
       " 'JobFactors',\n",
       " 'LanguageDesireNextYear',\n",
       " 'LanguageWorkedWith',\n",
       " 'MiscTechDesireNextYear',\n",
       " 'MiscTechWorkedWith',\n",
       " 'NEWCollabToolsDesireNextYear',\n",
       " 'NEWCollabToolsWorkedWith',\n",
       " 'NEWJobHunt',\n",
       " 'NEWJobHuntResearch',\n",
       " 'NEWPurchaseResearch',\n",
       " 'NEWSOSites',\n",
       " 'NEWStuck',\n",
       " 'PlatformDesireNextYear',\n",
       " 'PlatformWorkedWith',\n",
       " 'WebframeDesireNextYear',\n",
       " 'WebframeWorkedWith',\n",
       " 'YearsCode',\n",
       " 'YearsCodePro']"
      ]
     },
     "execution_count": 186,
     "metadata": {},
     "output_type": "execute_result"
    }
   ],
   "source": [
    "# object columns that have unique values more than 50\n",
    "df_data_info[df_data_info['nunique'] > 50].index.tolist()"
   ]
  },
  {
   "cell_type": "code",
   "execution_count": 184,
   "metadata": {},
   "outputs": [
    {
     "data": {
      "text/html": [
       "<div>\n",
       "<style scoped>\n",
       "    .dataframe tbody tr th:only-of-type {\n",
       "        vertical-align: middle;\n",
       "    }\n",
       "\n",
       "    .dataframe tbody tr th {\n",
       "        vertical-align: top;\n",
       "    }\n",
       "\n",
       "    .dataframe thead th {\n",
       "        text-align: right;\n",
       "    }\n",
       "</style>\n",
       "<table border=\"1\" class=\"dataframe\">\n",
       "  <thead>\n",
       "    <tr style=\"text-align: right;\">\n",
       "      <th></th>\n",
       "      <th>dtypes</th>\n",
       "      <th>null counts</th>\n",
       "      <th>null percent</th>\n",
       "      <th>mean</th>\n",
       "      <th>std</th>\n",
       "      <th>min</th>\n",
       "      <th>max</th>\n",
       "      <th>nunique</th>\n",
       "    </tr>\n",
       "  </thead>\n",
       "  <tbody>\n",
       "    <tr>\n",
       "      <th>Age1stCode</th>\n",
       "      <td>object</td>\n",
       "      <td>80</td>\n",
       "      <td>0.680851</td>\n",
       "      <td>NaN</td>\n",
       "      <td>NaN</td>\n",
       "      <td>NaN</td>\n",
       "      <td>NaN</td>\n",
       "      <td>52.0</td>\n",
       "    </tr>\n",
       "    <tr>\n",
       "      <th>Country</th>\n",
       "      <td>object</td>\n",
       "      <td>0</td>\n",
       "      <td>0.000000</td>\n",
       "      <td>NaN</td>\n",
       "      <td>NaN</td>\n",
       "      <td>NaN</td>\n",
       "      <td>NaN</td>\n",
       "      <td>149.0</td>\n",
       "    </tr>\n",
       "    <tr>\n",
       "      <th>CurrencyDesc</th>\n",
       "      <td>object</td>\n",
       "      <td>1357</td>\n",
       "      <td>11.548936</td>\n",
       "      <td>NaN</td>\n",
       "      <td>NaN</td>\n",
       "      <td>NaN</td>\n",
       "      <td>NaN</td>\n",
       "      <td>118.0</td>\n",
       "    </tr>\n",
       "    <tr>\n",
       "      <th>CurrencySymbol</th>\n",
       "      <td>object</td>\n",
       "      <td>1357</td>\n",
       "      <td>11.548936</td>\n",
       "      <td>NaN</td>\n",
       "      <td>NaN</td>\n",
       "      <td>NaN</td>\n",
       "      <td>NaN</td>\n",
       "      <td>118.0</td>\n",
       "    </tr>\n",
       "    <tr>\n",
       "      <th>DatabaseDesireNextYear</th>\n",
       "      <td>object</td>\n",
       "      <td>2834</td>\n",
       "      <td>24.119149</td>\n",
       "      <td>NaN</td>\n",
       "      <td>NaN</td>\n",
       "      <td>NaN</td>\n",
       "      <td>NaN</td>\n",
       "      <td>1424.0</td>\n",
       "    </tr>\n",
       "    <tr>\n",
       "      <th>DatabaseWorkedWith</th>\n",
       "      <td>object</td>\n",
       "      <td>1796</td>\n",
       "      <td>15.285106</td>\n",
       "      <td>NaN</td>\n",
       "      <td>NaN</td>\n",
       "      <td>NaN</td>\n",
       "      <td>NaN</td>\n",
       "      <td>1291.0</td>\n",
       "    </tr>\n",
       "    <tr>\n",
       "      <th>DevType</th>\n",
       "      <td>object</td>\n",
       "      <td>0</td>\n",
       "      <td>0.000000</td>\n",
       "      <td>NaN</td>\n",
       "      <td>NaN</td>\n",
       "      <td>NaN</td>\n",
       "      <td>NaN</td>\n",
       "      <td>3889.0</td>\n",
       "    </tr>\n",
       "    <tr>\n",
       "      <th>Ethnicity</th>\n",
       "      <td>object</td>\n",
       "      <td>2498</td>\n",
       "      <td>21.259574</td>\n",
       "      <td>NaN</td>\n",
       "      <td>NaN</td>\n",
       "      <td>NaN</td>\n",
       "      <td>NaN</td>\n",
       "      <td>98.0</td>\n",
       "    </tr>\n",
       "    <tr>\n",
       "      <th>JobFactors</th>\n",
       "      <td>object</td>\n",
       "      <td>1585</td>\n",
       "      <td>13.489362</td>\n",
       "      <td>NaN</td>\n",
       "      <td>NaN</td>\n",
       "      <td>NaN</td>\n",
       "      <td>NaN</td>\n",
       "      <td>219.0</td>\n",
       "    </tr>\n",
       "    <tr>\n",
       "      <th>LanguageDesireNextYear</th>\n",
       "      <td>object</td>\n",
       "      <td>1294</td>\n",
       "      <td>11.012766</td>\n",
       "      <td>NaN</td>\n",
       "      <td>NaN</td>\n",
       "      <td>NaN</td>\n",
       "      <td>NaN</td>\n",
       "      <td>3965.0</td>\n",
       "    </tr>\n",
       "    <tr>\n",
       "      <th>LanguageWorkedWith</th>\n",
       "      <td>object</td>\n",
       "      <td>722</td>\n",
       "      <td>6.144681</td>\n",
       "      <td>NaN</td>\n",
       "      <td>NaN</td>\n",
       "      <td>NaN</td>\n",
       "      <td>NaN</td>\n",
       "      <td>3615.0</td>\n",
       "    </tr>\n",
       "    <tr>\n",
       "      <th>MiscTechDesireNextYear</th>\n",
       "      <td>object</td>\n",
       "      <td>2679</td>\n",
       "      <td>22.800000</td>\n",
       "      <td>NaN</td>\n",
       "      <td>NaN</td>\n",
       "      <td>NaN</td>\n",
       "      <td>NaN</td>\n",
       "      <td>1917.0</td>\n",
       "    </tr>\n",
       "    <tr>\n",
       "      <th>MiscTechWorkedWith</th>\n",
       "      <td>object</td>\n",
       "      <td>2806</td>\n",
       "      <td>23.880851</td>\n",
       "      <td>NaN</td>\n",
       "      <td>NaN</td>\n",
       "      <td>NaN</td>\n",
       "      <td>NaN</td>\n",
       "      <td>1221.0</td>\n",
       "    </tr>\n",
       "    <tr>\n",
       "      <th>NEWCollabToolsDesireNextYear</th>\n",
       "      <td>object</td>\n",
       "      <td>2337</td>\n",
       "      <td>19.889362</td>\n",
       "      <td>NaN</td>\n",
       "      <td>NaN</td>\n",
       "      <td>NaN</td>\n",
       "      <td>NaN</td>\n",
       "      <td>746.0</td>\n",
       "    </tr>\n",
       "    <tr>\n",
       "      <th>NEWCollabToolsWorkedWith</th>\n",
       "      <td>object</td>\n",
       "      <td>1378</td>\n",
       "      <td>11.727660</td>\n",
       "      <td>NaN</td>\n",
       "      <td>NaN</td>\n",
       "      <td>NaN</td>\n",
       "      <td>NaN</td>\n",
       "      <td>702.0</td>\n",
       "    </tr>\n",
       "    <tr>\n",
       "      <th>NEWJobHunt</th>\n",
       "      <td>object</td>\n",
       "      <td>2213</td>\n",
       "      <td>18.834043</td>\n",
       "      <td>NaN</td>\n",
       "      <td>NaN</td>\n",
       "      <td>NaN</td>\n",
       "      <td>NaN</td>\n",
       "      <td>1202.0</td>\n",
       "    </tr>\n",
       "    <tr>\n",
       "      <th>NEWJobHuntResearch</th>\n",
       "      <td>object</td>\n",
       "      <td>2447</td>\n",
       "      <td>20.825532</td>\n",
       "      <td>NaN</td>\n",
       "      <td>NaN</td>\n",
       "      <td>NaN</td>\n",
       "      <td>NaN</td>\n",
       "      <td>64.0</td>\n",
       "    </tr>\n",
       "    <tr>\n",
       "      <th>NEWPurchaseResearch</th>\n",
       "      <td>object</td>\n",
       "      <td>4104</td>\n",
       "      <td>34.927660</td>\n",
       "      <td>NaN</td>\n",
       "      <td>NaN</td>\n",
       "      <td>NaN</td>\n",
       "      <td>NaN</td>\n",
       "      <td>64.0</td>\n",
       "    </tr>\n",
       "    <tr>\n",
       "      <th>NEWSOSites</th>\n",
       "      <td>object</td>\n",
       "      <td>656</td>\n",
       "      <td>5.582979</td>\n",
       "      <td>NaN</td>\n",
       "      <td>NaN</td>\n",
       "      <td>NaN</td>\n",
       "      <td>NaN</td>\n",
       "      <td>57.0</td>\n",
       "    </tr>\n",
       "    <tr>\n",
       "      <th>NEWStuck</th>\n",
       "      <td>object</td>\n",
       "      <td>939</td>\n",
       "      <td>7.991489</td>\n",
       "      <td>NaN</td>\n",
       "      <td>NaN</td>\n",
       "      <td>NaN</td>\n",
       "      <td>NaN</td>\n",
       "      <td>326.0</td>\n",
       "    </tr>\n",
       "    <tr>\n",
       "      <th>PlatformDesireNextYear</th>\n",
       "      <td>object</td>\n",
       "      <td>1847</td>\n",
       "      <td>15.719149</td>\n",
       "      <td>NaN</td>\n",
       "      <td>NaN</td>\n",
       "      <td>NaN</td>\n",
       "      <td>NaN</td>\n",
       "      <td>2421.0</td>\n",
       "    </tr>\n",
       "    <tr>\n",
       "      <th>PlatformWorkedWith</th>\n",
       "      <td>object</td>\n",
       "      <td>1235</td>\n",
       "      <td>10.510638</td>\n",
       "      <td>NaN</td>\n",
       "      <td>NaN</td>\n",
       "      <td>NaN</td>\n",
       "      <td>NaN</td>\n",
       "      <td>2230.0</td>\n",
       "    </tr>\n",
       "    <tr>\n",
       "      <th>WebframeDesireNextYear</th>\n",
       "      <td>object</td>\n",
       "      <td>4535</td>\n",
       "      <td>38.595745</td>\n",
       "      <td>NaN</td>\n",
       "      <td>NaN</td>\n",
       "      <td>NaN</td>\n",
       "      <td>NaN</td>\n",
       "      <td>1302.0</td>\n",
       "    </tr>\n",
       "    <tr>\n",
       "      <th>WebframeWorkedWith</th>\n",
       "      <td>object</td>\n",
       "      <td>4112</td>\n",
       "      <td>34.995745</td>\n",
       "      <td>NaN</td>\n",
       "      <td>NaN</td>\n",
       "      <td>NaN</td>\n",
       "      <td>NaN</td>\n",
       "      <td>1290.0</td>\n",
       "    </tr>\n",
       "    <tr>\n",
       "      <th>YearsCode</th>\n",
       "      <td>object</td>\n",
       "      <td>112</td>\n",
       "      <td>0.953191</td>\n",
       "      <td>NaN</td>\n",
       "      <td>NaN</td>\n",
       "      <td>NaN</td>\n",
       "      <td>NaN</td>\n",
       "      <td>53.0</td>\n",
       "    </tr>\n",
       "    <tr>\n",
       "      <th>YearsCodePro</th>\n",
       "      <td>object</td>\n",
       "      <td>1158</td>\n",
       "      <td>9.855319</td>\n",
       "      <td>NaN</td>\n",
       "      <td>NaN</td>\n",
       "      <td>NaN</td>\n",
       "      <td>NaN</td>\n",
       "      <td>52.0</td>\n",
       "    </tr>\n",
       "  </tbody>\n",
       "</table>\n",
       "</div>"
      ],
      "text/plain": [
       "                              dtypes  null counts  null percent  mean  std  \\\n",
       "Age1stCode                    object           80      0.680851   NaN  NaN   \n",
       "Country                       object            0      0.000000   NaN  NaN   \n",
       "CurrencyDesc                  object         1357     11.548936   NaN  NaN   \n",
       "CurrencySymbol                object         1357     11.548936   NaN  NaN   \n",
       "DatabaseDesireNextYear        object         2834     24.119149   NaN  NaN   \n",
       "DatabaseWorkedWith            object         1796     15.285106   NaN  NaN   \n",
       "DevType                       object            0      0.000000   NaN  NaN   \n",
       "Ethnicity                     object         2498     21.259574   NaN  NaN   \n",
       "JobFactors                    object         1585     13.489362   NaN  NaN   \n",
       "LanguageDesireNextYear        object         1294     11.012766   NaN  NaN   \n",
       "LanguageWorkedWith            object          722      6.144681   NaN  NaN   \n",
       "MiscTechDesireNextYear        object         2679     22.800000   NaN  NaN   \n",
       "MiscTechWorkedWith            object         2806     23.880851   NaN  NaN   \n",
       "NEWCollabToolsDesireNextYear  object         2337     19.889362   NaN  NaN   \n",
       "NEWCollabToolsWorkedWith      object         1378     11.727660   NaN  NaN   \n",
       "NEWJobHunt                    object         2213     18.834043   NaN  NaN   \n",
       "NEWJobHuntResearch            object         2447     20.825532   NaN  NaN   \n",
       "NEWPurchaseResearch           object         4104     34.927660   NaN  NaN   \n",
       "NEWSOSites                    object          656      5.582979   NaN  NaN   \n",
       "NEWStuck                      object          939      7.991489   NaN  NaN   \n",
       "PlatformDesireNextYear        object         1847     15.719149   NaN  NaN   \n",
       "PlatformWorkedWith            object         1235     10.510638   NaN  NaN   \n",
       "WebframeDesireNextYear        object         4535     38.595745   NaN  NaN   \n",
       "WebframeWorkedWith            object         4112     34.995745   NaN  NaN   \n",
       "YearsCode                     object          112      0.953191   NaN  NaN   \n",
       "YearsCodePro                  object         1158      9.855319   NaN  NaN   \n",
       "\n",
       "                              min  max  nunique  \n",
       "Age1stCode                    NaN  NaN     52.0  \n",
       "Country                       NaN  NaN    149.0  \n",
       "CurrencyDesc                  NaN  NaN    118.0  \n",
       "CurrencySymbol                NaN  NaN    118.0  \n",
       "DatabaseDesireNextYear        NaN  NaN   1424.0  \n",
       "DatabaseWorkedWith            NaN  NaN   1291.0  \n",
       "DevType                       NaN  NaN   3889.0  \n",
       "Ethnicity                     NaN  NaN     98.0  \n",
       "JobFactors                    NaN  NaN    219.0  \n",
       "LanguageDesireNextYear        NaN  NaN   3965.0  \n",
       "LanguageWorkedWith            NaN  NaN   3615.0  \n",
       "MiscTechDesireNextYear        NaN  NaN   1917.0  \n",
       "MiscTechWorkedWith            NaN  NaN   1221.0  \n",
       "NEWCollabToolsDesireNextYear  NaN  NaN    746.0  \n",
       "NEWCollabToolsWorkedWith      NaN  NaN    702.0  \n",
       "NEWJobHunt                    NaN  NaN   1202.0  \n",
       "NEWJobHuntResearch            NaN  NaN     64.0  \n",
       "NEWPurchaseResearch           NaN  NaN     64.0  \n",
       "NEWSOSites                    NaN  NaN     57.0  \n",
       "NEWStuck                      NaN  NaN    326.0  \n",
       "PlatformDesireNextYear        NaN  NaN   2421.0  \n",
       "PlatformWorkedWith            NaN  NaN   2230.0  \n",
       "WebframeDesireNextYear        NaN  NaN   1302.0  \n",
       "WebframeWorkedWith            NaN  NaN   1290.0  \n",
       "YearsCode                     NaN  NaN     53.0  \n",
       "YearsCodePro                  NaN  NaN     52.0  "
      ]
     },
     "execution_count": 184,
     "metadata": {},
     "output_type": "execute_result"
    }
   ],
   "source": [
    "df_data_info[df_data_info['nunique'] > 50]"
   ]
  },
  {
   "cell_type": "code",
   "execution_count": 249,
   "metadata": {},
   "outputs": [],
   "source": [
    "# trivial columns for modelling\n",
    "\n",
    "trivial_cols = ['Respondent', 'DevType_list', \n",
    "                'CompFreq', 'CompTotal', \n",
    "                'CurrencyDesc', 'CurrencySymbol', \n",
    "                'DatabaseDesireNextYear', 'DatabaseWorkedWith', \n",
    "                'DevType', \n",
    "                'Gender', 'JobFactors', 'JobSeek',\n",
    "                # --\n",
    "                'LanguageDesireNextYear',\n",
    "                # 'LanguageWorkedWith',   # to use\n",
    "                'MiscTechDesireNextYear', \n",
    "                'MiscTechWorkedWith',\n",
    "                'NEWCollabToolsDesireNextYear',\n",
    "                # 'NEWCollabToolsWorkedWith',  # to use\n",
    "                'NEWJobHunt',  \n",
    "                'NEWJobHuntResearch',\n",
    "                'NEWPurchaseResearch',\n",
    "                'NEWSOSites',\n",
    "                'NEWStuck',\n",
    "                'PlatformDesireNextYear',\n",
    "                # 'PlatformWorkedWith',  # to use\n",
    "                'WebframeDesireNextYear',\n",
    "                'WebframeWorkedWith', \n",
    "                ## \n",
    "                'NEWOffTopic', 'NEWOtherComms', 'Sexuality', \n",
    "                'SOAccount', 'SOComm', \n",
    "                'SurveyEase', 'SurveyLength', \n",
    "                'Trans', 'WelcomeChange', \n",
    "                'PurchaseWhat', \n",
    "                'data_related']"
   ]
  },
  {
   "cell_type": "code",
   "execution_count": 250,
   "metadata": {},
   "outputs": [
    {
     "data": {
      "text/html": [
       "<div>\n",
       "<style scoped>\n",
       "    .dataframe tbody tr th:only-of-type {\n",
       "        vertical-align: middle;\n",
       "    }\n",
       "\n",
       "    .dataframe tbody tr th {\n",
       "        vertical-align: top;\n",
       "    }\n",
       "\n",
       "    .dataframe thead th {\n",
       "        text-align: right;\n",
       "    }\n",
       "</style>\n",
       "<table border=\"1\" class=\"dataframe\">\n",
       "  <thead>\n",
       "    <tr style=\"text-align: right;\">\n",
       "      <th></th>\n",
       "      <th>dtypes</th>\n",
       "      <th>null counts</th>\n",
       "      <th>null percent</th>\n",
       "      <th>mean</th>\n",
       "      <th>std</th>\n",
       "      <th>min</th>\n",
       "      <th>max</th>\n",
       "      <th>nunique</th>\n",
       "    </tr>\n",
       "  </thead>\n",
       "  <tbody>\n",
       "    <tr>\n",
       "      <th>MainBranch</th>\n",
       "      <td>object</td>\n",
       "      <td>46</td>\n",
       "      <td>0.391489</td>\n",
       "      <td>NaN</td>\n",
       "      <td>NaN</td>\n",
       "      <td>NaN</td>\n",
       "      <td>NaN</td>\n",
       "      <td>6.0</td>\n",
       "    </tr>\n",
       "    <tr>\n",
       "      <th>Hobbyist</th>\n",
       "      <td>object</td>\n",
       "      <td>0</td>\n",
       "      <td>0.000000</td>\n",
       "      <td>NaN</td>\n",
       "      <td>NaN</td>\n",
       "      <td>NaN</td>\n",
       "      <td>NaN</td>\n",
       "      <td>2.0</td>\n",
       "    </tr>\n",
       "    <tr>\n",
       "      <th>Age</th>\n",
       "      <td>float64</td>\n",
       "      <td>2707</td>\n",
       "      <td>23.038298</td>\n",
       "      <td>32.818091</td>\n",
       "      <td>9.390893</td>\n",
       "      <td>1.0</td>\n",
       "      <td>99.0</td>\n",
       "      <td>NaN</td>\n",
       "    </tr>\n",
       "    <tr>\n",
       "      <th>Age1stCode</th>\n",
       "      <td>object</td>\n",
       "      <td>80</td>\n",
       "      <td>0.680851</td>\n",
       "      <td>NaN</td>\n",
       "      <td>NaN</td>\n",
       "      <td>NaN</td>\n",
       "      <td>NaN</td>\n",
       "      <td>52.0</td>\n",
       "    </tr>\n",
       "    <tr>\n",
       "      <th>ConvertedComp</th>\n",
       "      <td>float64</td>\n",
       "      <td>3974</td>\n",
       "      <td>33.821277</td>\n",
       "      <td>122188.221836</td>\n",
       "      <td>275906.999945</td>\n",
       "      <td>0.0</td>\n",
       "      <td>2000000.0</td>\n",
       "      <td>NaN</td>\n",
       "    </tr>\n",
       "    <tr>\n",
       "      <th>Country</th>\n",
       "      <td>object</td>\n",
       "      <td>0</td>\n",
       "      <td>0.000000</td>\n",
       "      <td>NaN</td>\n",
       "      <td>NaN</td>\n",
       "      <td>NaN</td>\n",
       "      <td>NaN</td>\n",
       "      <td>149.0</td>\n",
       "    </tr>\n",
       "    <tr>\n",
       "      <th>EdLevel</th>\n",
       "      <td>object</td>\n",
       "      <td>203</td>\n",
       "      <td>1.727660</td>\n",
       "      <td>NaN</td>\n",
       "      <td>NaN</td>\n",
       "      <td>NaN</td>\n",
       "      <td>NaN</td>\n",
       "      <td>10.0</td>\n",
       "    </tr>\n",
       "    <tr>\n",
       "      <th>Employment</th>\n",
       "      <td>object</td>\n",
       "      <td>0</td>\n",
       "      <td>0.000000</td>\n",
       "      <td>NaN</td>\n",
       "      <td>NaN</td>\n",
       "      <td>NaN</td>\n",
       "      <td>NaN</td>\n",
       "      <td>4.0</td>\n",
       "    </tr>\n",
       "    <tr>\n",
       "      <th>Ethnicity</th>\n",
       "      <td>object</td>\n",
       "      <td>2498</td>\n",
       "      <td>21.259574</td>\n",
       "      <td>NaN</td>\n",
       "      <td>NaN</td>\n",
       "      <td>NaN</td>\n",
       "      <td>NaN</td>\n",
       "      <td>98.0</td>\n",
       "    </tr>\n",
       "    <tr>\n",
       "      <th>JobSat</th>\n",
       "      <td>object</td>\n",
       "      <td>1378</td>\n",
       "      <td>11.727660</td>\n",
       "      <td>NaN</td>\n",
       "      <td>NaN</td>\n",
       "      <td>NaN</td>\n",
       "      <td>NaN</td>\n",
       "      <td>6.0</td>\n",
       "    </tr>\n",
       "    <tr>\n",
       "      <th>LanguageWorkedWith</th>\n",
       "      <td>object</td>\n",
       "      <td>722</td>\n",
       "      <td>6.144681</td>\n",
       "      <td>NaN</td>\n",
       "      <td>NaN</td>\n",
       "      <td>NaN</td>\n",
       "      <td>NaN</td>\n",
       "      <td>3615.0</td>\n",
       "    </tr>\n",
       "    <tr>\n",
       "      <th>NEWCollabToolsWorkedWith</th>\n",
       "      <td>object</td>\n",
       "      <td>1378</td>\n",
       "      <td>11.727660</td>\n",
       "      <td>NaN</td>\n",
       "      <td>NaN</td>\n",
       "      <td>NaN</td>\n",
       "      <td>NaN</td>\n",
       "      <td>702.0</td>\n",
       "    </tr>\n",
       "    <tr>\n",
       "      <th>NEWDevOps</th>\n",
       "      <td>object</td>\n",
       "      <td>1939</td>\n",
       "      <td>16.502128</td>\n",
       "      <td>NaN</td>\n",
       "      <td>NaN</td>\n",
       "      <td>NaN</td>\n",
       "      <td>NaN</td>\n",
       "      <td>4.0</td>\n",
       "    </tr>\n",
       "    <tr>\n",
       "      <th>NEWDevOpsImpt</th>\n",
       "      <td>object</td>\n",
       "      <td>2176</td>\n",
       "      <td>18.519149</td>\n",
       "      <td>NaN</td>\n",
       "      <td>NaN</td>\n",
       "      <td>NaN</td>\n",
       "      <td>NaN</td>\n",
       "      <td>6.0</td>\n",
       "    </tr>\n",
       "    <tr>\n",
       "      <th>NEWEdImpt</th>\n",
       "      <td>object</td>\n",
       "      <td>718</td>\n",
       "      <td>6.110638</td>\n",
       "      <td>NaN</td>\n",
       "      <td>NaN</td>\n",
       "      <td>NaN</td>\n",
       "      <td>NaN</td>\n",
       "      <td>6.0</td>\n",
       "    </tr>\n",
       "    <tr>\n",
       "      <th>NEWLearn</th>\n",
       "      <td>object</td>\n",
       "      <td>1027</td>\n",
       "      <td>8.740426</td>\n",
       "      <td>NaN</td>\n",
       "      <td>NaN</td>\n",
       "      <td>NaN</td>\n",
       "      <td>NaN</td>\n",
       "      <td>5.0</td>\n",
       "    </tr>\n",
       "    <tr>\n",
       "      <th>NEWOnboardGood</th>\n",
       "      <td>object</td>\n",
       "      <td>1947</td>\n",
       "      <td>16.570213</td>\n",
       "      <td>NaN</td>\n",
       "      <td>NaN</td>\n",
       "      <td>NaN</td>\n",
       "      <td>NaN</td>\n",
       "      <td>4.0</td>\n",
       "    </tr>\n",
       "    <tr>\n",
       "      <th>NEWOvertime</th>\n",
       "      <td>object</td>\n",
       "      <td>1821</td>\n",
       "      <td>15.497872</td>\n",
       "      <td>NaN</td>\n",
       "      <td>NaN</td>\n",
       "      <td>NaN</td>\n",
       "      <td>NaN</td>\n",
       "      <td>6.0</td>\n",
       "    </tr>\n",
       "    <tr>\n",
       "      <th>NEWPurpleLink</th>\n",
       "      <td>object</td>\n",
       "      <td>952</td>\n",
       "      <td>8.102128</td>\n",
       "      <td>NaN</td>\n",
       "      <td>NaN</td>\n",
       "      <td>NaN</td>\n",
       "      <td>NaN</td>\n",
       "      <td>5.0</td>\n",
       "    </tr>\n",
       "    <tr>\n",
       "      <th>OpSys</th>\n",
       "      <td>object</td>\n",
       "      <td>838</td>\n",
       "      <td>7.131915</td>\n",
       "      <td>NaN</td>\n",
       "      <td>NaN</td>\n",
       "      <td>NaN</td>\n",
       "      <td>NaN</td>\n",
       "      <td>5.0</td>\n",
       "    </tr>\n",
       "    <tr>\n",
       "      <th>OrgSize</th>\n",
       "      <td>object</td>\n",
       "      <td>1581</td>\n",
       "      <td>13.455319</td>\n",
       "      <td>NaN</td>\n",
       "      <td>NaN</td>\n",
       "      <td>NaN</td>\n",
       "      <td>NaN</td>\n",
       "      <td>10.0</td>\n",
       "    </tr>\n",
       "    <tr>\n",
       "      <th>PlatformWorkedWith</th>\n",
       "      <td>object</td>\n",
       "      <td>1235</td>\n",
       "      <td>10.510638</td>\n",
       "      <td>NaN</td>\n",
       "      <td>NaN</td>\n",
       "      <td>NaN</td>\n",
       "      <td>NaN</td>\n",
       "      <td>2230.0</td>\n",
       "    </tr>\n",
       "    <tr>\n",
       "      <th>SOPartFreq</th>\n",
       "      <td>object</td>\n",
       "      <td>2827</td>\n",
       "      <td>24.059574</td>\n",
       "      <td>NaN</td>\n",
       "      <td>NaN</td>\n",
       "      <td>NaN</td>\n",
       "      <td>NaN</td>\n",
       "      <td>7.0</td>\n",
       "    </tr>\n",
       "    <tr>\n",
       "      <th>SOVisitFreq</th>\n",
       "      <td>object</td>\n",
       "      <td>921</td>\n",
       "      <td>7.838298</td>\n",
       "      <td>NaN</td>\n",
       "      <td>NaN</td>\n",
       "      <td>NaN</td>\n",
       "      <td>NaN</td>\n",
       "      <td>7.0</td>\n",
       "    </tr>\n",
       "    <tr>\n",
       "      <th>UndergradMajor</th>\n",
       "      <td>object</td>\n",
       "      <td>929</td>\n",
       "      <td>7.906383</td>\n",
       "      <td>NaN</td>\n",
       "      <td>NaN</td>\n",
       "      <td>NaN</td>\n",
       "      <td>NaN</td>\n",
       "      <td>13.0</td>\n",
       "    </tr>\n",
       "    <tr>\n",
       "      <th>WorkWeekHrs</th>\n",
       "      <td>float64</td>\n",
       "      <td>2411</td>\n",
       "      <td>20.519149</td>\n",
       "      <td>41.918119</td>\n",
       "      <td>17.005929</td>\n",
       "      <td>1.0</td>\n",
       "      <td>375.0</td>\n",
       "      <td>NaN</td>\n",
       "    </tr>\n",
       "    <tr>\n",
       "      <th>YearsCode</th>\n",
       "      <td>object</td>\n",
       "      <td>112</td>\n",
       "      <td>0.953191</td>\n",
       "      <td>NaN</td>\n",
       "      <td>NaN</td>\n",
       "      <td>NaN</td>\n",
       "      <td>NaN</td>\n",
       "      <td>53.0</td>\n",
       "    </tr>\n",
       "    <tr>\n",
       "      <th>YearsCodePro</th>\n",
       "      <td>object</td>\n",
       "      <td>1158</td>\n",
       "      <td>9.855319</td>\n",
       "      <td>NaN</td>\n",
       "      <td>NaN</td>\n",
       "      <td>NaN</td>\n",
       "      <td>NaN</td>\n",
       "      <td>52.0</td>\n",
       "    </tr>\n",
       "    <tr>\n",
       "      <th>multiple_roles</th>\n",
       "      <td>bool</td>\n",
       "      <td>0</td>\n",
       "      <td>0.000000</td>\n",
       "      <td>NaN</td>\n",
       "      <td>NaN</td>\n",
       "      <td>NaN</td>\n",
       "      <td>NaN</td>\n",
       "      <td>2.0</td>\n",
       "    </tr>\n",
       "    <tr>\n",
       "      <th>data_role</th>\n",
       "      <td>object</td>\n",
       "      <td>0</td>\n",
       "      <td>0.000000</td>\n",
       "      <td>NaN</td>\n",
       "      <td>NaN</td>\n",
       "      <td>NaN</td>\n",
       "      <td>NaN</td>\n",
       "      <td>3.0</td>\n",
       "    </tr>\n",
       "    <tr>\n",
       "      <th>Gender_1</th>\n",
       "      <td>object</td>\n",
       "      <td>1656</td>\n",
       "      <td>14.093617</td>\n",
       "      <td>NaN</td>\n",
       "      <td>NaN</td>\n",
       "      <td>NaN</td>\n",
       "      <td>NaN</td>\n",
       "      <td>4.0</td>\n",
       "    </tr>\n",
       "  </tbody>\n",
       "</table>\n",
       "</div>"
      ],
      "text/plain": [
       "                           dtypes  null counts  null percent           mean  \\\n",
       "MainBranch                 object           46      0.391489            NaN   \n",
       "Hobbyist                   object            0      0.000000            NaN   \n",
       "Age                       float64         2707     23.038298      32.818091   \n",
       "Age1stCode                 object           80      0.680851            NaN   \n",
       "ConvertedComp             float64         3974     33.821277  122188.221836   \n",
       "Country                    object            0      0.000000            NaN   \n",
       "EdLevel                    object          203      1.727660            NaN   \n",
       "Employment                 object            0      0.000000            NaN   \n",
       "Ethnicity                  object         2498     21.259574            NaN   \n",
       "JobSat                     object         1378     11.727660            NaN   \n",
       "LanguageWorkedWith         object          722      6.144681            NaN   \n",
       "NEWCollabToolsWorkedWith   object         1378     11.727660            NaN   \n",
       "NEWDevOps                  object         1939     16.502128            NaN   \n",
       "NEWDevOpsImpt              object         2176     18.519149            NaN   \n",
       "NEWEdImpt                  object          718      6.110638            NaN   \n",
       "NEWLearn                   object         1027      8.740426            NaN   \n",
       "NEWOnboardGood             object         1947     16.570213            NaN   \n",
       "NEWOvertime                object         1821     15.497872            NaN   \n",
       "NEWPurpleLink              object          952      8.102128            NaN   \n",
       "OpSys                      object          838      7.131915            NaN   \n",
       "OrgSize                    object         1581     13.455319            NaN   \n",
       "PlatformWorkedWith         object         1235     10.510638            NaN   \n",
       "SOPartFreq                 object         2827     24.059574            NaN   \n",
       "SOVisitFreq                object          921      7.838298            NaN   \n",
       "UndergradMajor             object          929      7.906383            NaN   \n",
       "WorkWeekHrs               float64         2411     20.519149      41.918119   \n",
       "YearsCode                  object          112      0.953191            NaN   \n",
       "YearsCodePro               object         1158      9.855319            NaN   \n",
       "multiple_roles               bool            0      0.000000            NaN   \n",
       "data_role                  object            0      0.000000            NaN   \n",
       "Gender_1                   object         1656     14.093617            NaN   \n",
       "\n",
       "                                    std  min        max  nunique  \n",
       "MainBranch                          NaN  NaN        NaN      6.0  \n",
       "Hobbyist                            NaN  NaN        NaN      2.0  \n",
       "Age                            9.390893  1.0       99.0      NaN  \n",
       "Age1stCode                          NaN  NaN        NaN     52.0  \n",
       "ConvertedComp             275906.999945  0.0  2000000.0      NaN  \n",
       "Country                             NaN  NaN        NaN    149.0  \n",
       "EdLevel                             NaN  NaN        NaN     10.0  \n",
       "Employment                          NaN  NaN        NaN      4.0  \n",
       "Ethnicity                           NaN  NaN        NaN     98.0  \n",
       "JobSat                              NaN  NaN        NaN      6.0  \n",
       "LanguageWorkedWith                  NaN  NaN        NaN   3615.0  \n",
       "NEWCollabToolsWorkedWith            NaN  NaN        NaN    702.0  \n",
       "NEWDevOps                           NaN  NaN        NaN      4.0  \n",
       "NEWDevOpsImpt                       NaN  NaN        NaN      6.0  \n",
       "NEWEdImpt                           NaN  NaN        NaN      6.0  \n",
       "NEWLearn                            NaN  NaN        NaN      5.0  \n",
       "NEWOnboardGood                      NaN  NaN        NaN      4.0  \n",
       "NEWOvertime                         NaN  NaN        NaN      6.0  \n",
       "NEWPurpleLink                       NaN  NaN        NaN      5.0  \n",
       "OpSys                               NaN  NaN        NaN      5.0  \n",
       "OrgSize                             NaN  NaN        NaN     10.0  \n",
       "PlatformWorkedWith                  NaN  NaN        NaN   2230.0  \n",
       "SOPartFreq                          NaN  NaN        NaN      7.0  \n",
       "SOVisitFreq                         NaN  NaN        NaN      7.0  \n",
       "UndergradMajor                      NaN  NaN        NaN     13.0  \n",
       "WorkWeekHrs                   17.005929  1.0      375.0      NaN  \n",
       "YearsCode                           NaN  NaN        NaN     53.0  \n",
       "YearsCodePro                        NaN  NaN        NaN     52.0  \n",
       "multiple_roles                      NaN  NaN        NaN      2.0  \n",
       "data_role                           NaN  NaN        NaN      3.0  \n",
       "Gender_1                            NaN  NaN        NaN      4.0  "
      ]
     },
     "execution_count": 250,
     "metadata": {},
     "output_type": "execute_result"
    }
   ],
   "source": [
    "cal_basic_info(df_data.drop(columns=trivial_cols))"
   ]
  },
  {
   "cell_type": "code",
   "execution_count": 270,
   "metadata": {},
   "outputs": [],
   "source": [
    "from data_process import parse_age_year"
   ]
  },
  {
   "cell_type": "code",
   "execution_count": 274,
   "metadata": {},
   "outputs": [],
   "source": [
    "df_data = parse_age_year(df_data)"
   ]
  },
  {
   "cell_type": "code",
   "execution_count": 278,
   "metadata": {},
   "outputs": [],
   "source": [
    "df_data.drop(columns=trivial_cols, inplace=True)"
   ]
  },
  {
   "cell_type": "code",
   "execution_count": 279,
   "metadata": {},
   "outputs": [
    {
     "data": {
      "text/plain": [
       "(11750, 31)"
      ]
     },
     "execution_count": 279,
     "metadata": {},
     "output_type": "execute_result"
    }
   ],
   "source": [
    "df_data.shape"
   ]
  },
  {
   "cell_type": "code",
   "execution_count": 281,
   "metadata": {
    "collapsed": true,
    "jupyter": {
     "outputs_hidden": true
    }
   },
   "outputs": [
    {
     "data": {
      "text/html": [
       "<div>\n",
       "<style scoped>\n",
       "    .dataframe tbody tr th:only-of-type {\n",
       "        vertical-align: middle;\n",
       "    }\n",
       "\n",
       "    .dataframe tbody tr th {\n",
       "        vertical-align: top;\n",
       "    }\n",
       "\n",
       "    .dataframe thead th {\n",
       "        text-align: right;\n",
       "    }\n",
       "</style>\n",
       "<table border=\"1\" class=\"dataframe\">\n",
       "  <thead>\n",
       "    <tr style=\"text-align: right;\">\n",
       "      <th></th>\n",
       "      <th>dtypes</th>\n",
       "      <th>null counts</th>\n",
       "      <th>null percent</th>\n",
       "      <th>mean</th>\n",
       "      <th>std</th>\n",
       "      <th>min</th>\n",
       "      <th>max</th>\n",
       "      <th>nunique</th>\n",
       "    </tr>\n",
       "  </thead>\n",
       "  <tbody>\n",
       "    <tr>\n",
       "      <th>MainBranch</th>\n",
       "      <td>object</td>\n",
       "      <td>46</td>\n",
       "      <td>0.391489</td>\n",
       "      <td>NaN</td>\n",
       "      <td>NaN</td>\n",
       "      <td>NaN</td>\n",
       "      <td>NaN</td>\n",
       "      <td>6.0</td>\n",
       "    </tr>\n",
       "    <tr>\n",
       "      <th>Hobbyist</th>\n",
       "      <td>object</td>\n",
       "      <td>0</td>\n",
       "      <td>0.000000</td>\n",
       "      <td>NaN</td>\n",
       "      <td>NaN</td>\n",
       "      <td>NaN</td>\n",
       "      <td>NaN</td>\n",
       "      <td>2.0</td>\n",
       "    </tr>\n",
       "    <tr>\n",
       "      <th>Age</th>\n",
       "      <td>float64</td>\n",
       "      <td>2707</td>\n",
       "      <td>23.038298</td>\n",
       "      <td>32.818091</td>\n",
       "      <td>9.390893</td>\n",
       "      <td>1.0</td>\n",
       "      <td>99.0</td>\n",
       "      <td>NaN</td>\n",
       "    </tr>\n",
       "    <tr>\n",
       "      <th>Age1stCode</th>\n",
       "      <td>float64</td>\n",
       "      <td>80</td>\n",
       "      <td>0.680851</td>\n",
       "      <td>15.502999</td>\n",
       "      <td>5.999124</td>\n",
       "      <td>4.0</td>\n",
       "      <td>86.0</td>\n",
       "      <td>NaN</td>\n",
       "    </tr>\n",
       "    <tr>\n",
       "      <th>ConvertedComp</th>\n",
       "      <td>float64</td>\n",
       "      <td>3974</td>\n",
       "      <td>33.821277</td>\n",
       "      <td>122188.221836</td>\n",
       "      <td>275906.999945</td>\n",
       "      <td>0.0</td>\n",
       "      <td>2000000.0</td>\n",
       "      <td>NaN</td>\n",
       "    </tr>\n",
       "    <tr>\n",
       "      <th>Country</th>\n",
       "      <td>object</td>\n",
       "      <td>0</td>\n",
       "      <td>0.000000</td>\n",
       "      <td>NaN</td>\n",
       "      <td>NaN</td>\n",
       "      <td>NaN</td>\n",
       "      <td>NaN</td>\n",
       "      <td>149.0</td>\n",
       "    </tr>\n",
       "    <tr>\n",
       "      <th>EdLevel</th>\n",
       "      <td>object</td>\n",
       "      <td>203</td>\n",
       "      <td>1.727660</td>\n",
       "      <td>NaN</td>\n",
       "      <td>NaN</td>\n",
       "      <td>NaN</td>\n",
       "      <td>NaN</td>\n",
       "      <td>10.0</td>\n",
       "    </tr>\n",
       "    <tr>\n",
       "      <th>Employment</th>\n",
       "      <td>object</td>\n",
       "      <td>0</td>\n",
       "      <td>0.000000</td>\n",
       "      <td>NaN</td>\n",
       "      <td>NaN</td>\n",
       "      <td>NaN</td>\n",
       "      <td>NaN</td>\n",
       "      <td>4.0</td>\n",
       "    </tr>\n",
       "    <tr>\n",
       "      <th>Ethnicity</th>\n",
       "      <td>object</td>\n",
       "      <td>2498</td>\n",
       "      <td>21.259574</td>\n",
       "      <td>NaN</td>\n",
       "      <td>NaN</td>\n",
       "      <td>NaN</td>\n",
       "      <td>NaN</td>\n",
       "      <td>98.0</td>\n",
       "    </tr>\n",
       "    <tr>\n",
       "      <th>JobSat</th>\n",
       "      <td>object</td>\n",
       "      <td>1378</td>\n",
       "      <td>11.727660</td>\n",
       "      <td>NaN</td>\n",
       "      <td>NaN</td>\n",
       "      <td>NaN</td>\n",
       "      <td>NaN</td>\n",
       "      <td>6.0</td>\n",
       "    </tr>\n",
       "    <tr>\n",
       "      <th>LanguageWorkedWith</th>\n",
       "      <td>object</td>\n",
       "      <td>722</td>\n",
       "      <td>6.144681</td>\n",
       "      <td>NaN</td>\n",
       "      <td>NaN</td>\n",
       "      <td>NaN</td>\n",
       "      <td>NaN</td>\n",
       "      <td>3615.0</td>\n",
       "    </tr>\n",
       "    <tr>\n",
       "      <th>NEWCollabToolsWorkedWith</th>\n",
       "      <td>object</td>\n",
       "      <td>1378</td>\n",
       "      <td>11.727660</td>\n",
       "      <td>NaN</td>\n",
       "      <td>NaN</td>\n",
       "      <td>NaN</td>\n",
       "      <td>NaN</td>\n",
       "      <td>702.0</td>\n",
       "    </tr>\n",
       "    <tr>\n",
       "      <th>NEWDevOps</th>\n",
       "      <td>object</td>\n",
       "      <td>1939</td>\n",
       "      <td>16.502128</td>\n",
       "      <td>NaN</td>\n",
       "      <td>NaN</td>\n",
       "      <td>NaN</td>\n",
       "      <td>NaN</td>\n",
       "      <td>4.0</td>\n",
       "    </tr>\n",
       "    <tr>\n",
       "      <th>NEWDevOpsImpt</th>\n",
       "      <td>object</td>\n",
       "      <td>2176</td>\n",
       "      <td>18.519149</td>\n",
       "      <td>NaN</td>\n",
       "      <td>NaN</td>\n",
       "      <td>NaN</td>\n",
       "      <td>NaN</td>\n",
       "      <td>6.0</td>\n",
       "    </tr>\n",
       "    <tr>\n",
       "      <th>NEWEdImpt</th>\n",
       "      <td>object</td>\n",
       "      <td>718</td>\n",
       "      <td>6.110638</td>\n",
       "      <td>NaN</td>\n",
       "      <td>NaN</td>\n",
       "      <td>NaN</td>\n",
       "      <td>NaN</td>\n",
       "      <td>6.0</td>\n",
       "    </tr>\n",
       "    <tr>\n",
       "      <th>NEWLearn</th>\n",
       "      <td>object</td>\n",
       "      <td>1027</td>\n",
       "      <td>8.740426</td>\n",
       "      <td>NaN</td>\n",
       "      <td>NaN</td>\n",
       "      <td>NaN</td>\n",
       "      <td>NaN</td>\n",
       "      <td>5.0</td>\n",
       "    </tr>\n",
       "    <tr>\n",
       "      <th>NEWOnboardGood</th>\n",
       "      <td>object</td>\n",
       "      <td>1947</td>\n",
       "      <td>16.570213</td>\n",
       "      <td>NaN</td>\n",
       "      <td>NaN</td>\n",
       "      <td>NaN</td>\n",
       "      <td>NaN</td>\n",
       "      <td>4.0</td>\n",
       "    </tr>\n",
       "    <tr>\n",
       "      <th>NEWOvertime</th>\n",
       "      <td>object</td>\n",
       "      <td>1821</td>\n",
       "      <td>15.497872</td>\n",
       "      <td>NaN</td>\n",
       "      <td>NaN</td>\n",
       "      <td>NaN</td>\n",
       "      <td>NaN</td>\n",
       "      <td>6.0</td>\n",
       "    </tr>\n",
       "    <tr>\n",
       "      <th>NEWPurpleLink</th>\n",
       "      <td>object</td>\n",
       "      <td>952</td>\n",
       "      <td>8.102128</td>\n",
       "      <td>NaN</td>\n",
       "      <td>NaN</td>\n",
       "      <td>NaN</td>\n",
       "      <td>NaN</td>\n",
       "      <td>5.0</td>\n",
       "    </tr>\n",
       "    <tr>\n",
       "      <th>OpSys</th>\n",
       "      <td>object</td>\n",
       "      <td>838</td>\n",
       "      <td>7.131915</td>\n",
       "      <td>NaN</td>\n",
       "      <td>NaN</td>\n",
       "      <td>NaN</td>\n",
       "      <td>NaN</td>\n",
       "      <td>5.0</td>\n",
       "    </tr>\n",
       "    <tr>\n",
       "      <th>OrgSize</th>\n",
       "      <td>object</td>\n",
       "      <td>1581</td>\n",
       "      <td>13.455319</td>\n",
       "      <td>NaN</td>\n",
       "      <td>NaN</td>\n",
       "      <td>NaN</td>\n",
       "      <td>NaN</td>\n",
       "      <td>10.0</td>\n",
       "    </tr>\n",
       "    <tr>\n",
       "      <th>PlatformWorkedWith</th>\n",
       "      <td>object</td>\n",
       "      <td>1235</td>\n",
       "      <td>10.510638</td>\n",
       "      <td>NaN</td>\n",
       "      <td>NaN</td>\n",
       "      <td>NaN</td>\n",
       "      <td>NaN</td>\n",
       "      <td>2230.0</td>\n",
       "    </tr>\n",
       "    <tr>\n",
       "      <th>SOPartFreq</th>\n",
       "      <td>object</td>\n",
       "      <td>2827</td>\n",
       "      <td>24.059574</td>\n",
       "      <td>NaN</td>\n",
       "      <td>NaN</td>\n",
       "      <td>NaN</td>\n",
       "      <td>NaN</td>\n",
       "      <td>7.0</td>\n",
       "    </tr>\n",
       "    <tr>\n",
       "      <th>SOVisitFreq</th>\n",
       "      <td>object</td>\n",
       "      <td>921</td>\n",
       "      <td>7.838298</td>\n",
       "      <td>NaN</td>\n",
       "      <td>NaN</td>\n",
       "      <td>NaN</td>\n",
       "      <td>NaN</td>\n",
       "      <td>7.0</td>\n",
       "    </tr>\n",
       "    <tr>\n",
       "      <th>UndergradMajor</th>\n",
       "      <td>object</td>\n",
       "      <td>929</td>\n",
       "      <td>7.906383</td>\n",
       "      <td>NaN</td>\n",
       "      <td>NaN</td>\n",
       "      <td>NaN</td>\n",
       "      <td>NaN</td>\n",
       "      <td>13.0</td>\n",
       "    </tr>\n",
       "    <tr>\n",
       "      <th>WorkWeekHrs</th>\n",
       "      <td>float64</td>\n",
       "      <td>2411</td>\n",
       "      <td>20.519149</td>\n",
       "      <td>41.918119</td>\n",
       "      <td>17.005929</td>\n",
       "      <td>1.0</td>\n",
       "      <td>375.0</td>\n",
       "      <td>NaN</td>\n",
       "    </tr>\n",
       "    <tr>\n",
       "      <th>YearsCode</th>\n",
       "      <td>float64</td>\n",
       "      <td>112</td>\n",
       "      <td>0.953191</td>\n",
       "      <td>14.323939</td>\n",
       "      <td>10.382364</td>\n",
       "      <td>0.0</td>\n",
       "      <td>51.0</td>\n",
       "      <td>NaN</td>\n",
       "    </tr>\n",
       "    <tr>\n",
       "      <th>YearsCodePro</th>\n",
       "      <td>float64</td>\n",
       "      <td>1158</td>\n",
       "      <td>9.855319</td>\n",
       "      <td>9.089785</td>\n",
       "      <td>8.715012</td>\n",
       "      <td>0.0</td>\n",
       "      <td>51.0</td>\n",
       "      <td>NaN</td>\n",
       "    </tr>\n",
       "    <tr>\n",
       "      <th>multiple_roles</th>\n",
       "      <td>bool</td>\n",
       "      <td>0</td>\n",
       "      <td>0.000000</td>\n",
       "      <td>NaN</td>\n",
       "      <td>NaN</td>\n",
       "      <td>NaN</td>\n",
       "      <td>NaN</td>\n",
       "      <td>2.0</td>\n",
       "    </tr>\n",
       "    <tr>\n",
       "      <th>data_role</th>\n",
       "      <td>object</td>\n",
       "      <td>0</td>\n",
       "      <td>0.000000</td>\n",
       "      <td>NaN</td>\n",
       "      <td>NaN</td>\n",
       "      <td>NaN</td>\n",
       "      <td>NaN</td>\n",
       "      <td>3.0</td>\n",
       "    </tr>\n",
       "    <tr>\n",
       "      <th>Gender_1</th>\n",
       "      <td>object</td>\n",
       "      <td>1656</td>\n",
       "      <td>14.093617</td>\n",
       "      <td>NaN</td>\n",
       "      <td>NaN</td>\n",
       "      <td>NaN</td>\n",
       "      <td>NaN</td>\n",
       "      <td>4.0</td>\n",
       "    </tr>\n",
       "  </tbody>\n",
       "</table>\n",
       "</div>"
      ],
      "text/plain": [
       "                           dtypes  null counts  null percent           mean  \\\n",
       "MainBranch                 object           46      0.391489            NaN   \n",
       "Hobbyist                   object            0      0.000000            NaN   \n",
       "Age                       float64         2707     23.038298      32.818091   \n",
       "Age1stCode                float64           80      0.680851      15.502999   \n",
       "ConvertedComp             float64         3974     33.821277  122188.221836   \n",
       "Country                    object            0      0.000000            NaN   \n",
       "EdLevel                    object          203      1.727660            NaN   \n",
       "Employment                 object            0      0.000000            NaN   \n",
       "Ethnicity                  object         2498     21.259574            NaN   \n",
       "JobSat                     object         1378     11.727660            NaN   \n",
       "LanguageWorkedWith         object          722      6.144681            NaN   \n",
       "NEWCollabToolsWorkedWith   object         1378     11.727660            NaN   \n",
       "NEWDevOps                  object         1939     16.502128            NaN   \n",
       "NEWDevOpsImpt              object         2176     18.519149            NaN   \n",
       "NEWEdImpt                  object          718      6.110638            NaN   \n",
       "NEWLearn                   object         1027      8.740426            NaN   \n",
       "NEWOnboardGood             object         1947     16.570213            NaN   \n",
       "NEWOvertime                object         1821     15.497872            NaN   \n",
       "NEWPurpleLink              object          952      8.102128            NaN   \n",
       "OpSys                      object          838      7.131915            NaN   \n",
       "OrgSize                    object         1581     13.455319            NaN   \n",
       "PlatformWorkedWith         object         1235     10.510638            NaN   \n",
       "SOPartFreq                 object         2827     24.059574            NaN   \n",
       "SOVisitFreq                object          921      7.838298            NaN   \n",
       "UndergradMajor             object          929      7.906383            NaN   \n",
       "WorkWeekHrs               float64         2411     20.519149      41.918119   \n",
       "YearsCode                 float64          112      0.953191      14.323939   \n",
       "YearsCodePro              float64         1158      9.855319       9.089785   \n",
       "multiple_roles               bool            0      0.000000            NaN   \n",
       "data_role                  object            0      0.000000            NaN   \n",
       "Gender_1                   object         1656     14.093617            NaN   \n",
       "\n",
       "                                    std  min        max  nunique  \n",
       "MainBranch                          NaN  NaN        NaN      6.0  \n",
       "Hobbyist                            NaN  NaN        NaN      2.0  \n",
       "Age                            9.390893  1.0       99.0      NaN  \n",
       "Age1stCode                     5.999124  4.0       86.0      NaN  \n",
       "ConvertedComp             275906.999945  0.0  2000000.0      NaN  \n",
       "Country                             NaN  NaN        NaN    149.0  \n",
       "EdLevel                             NaN  NaN        NaN     10.0  \n",
       "Employment                          NaN  NaN        NaN      4.0  \n",
       "Ethnicity                           NaN  NaN        NaN     98.0  \n",
       "JobSat                              NaN  NaN        NaN      6.0  \n",
       "LanguageWorkedWith                  NaN  NaN        NaN   3615.0  \n",
       "NEWCollabToolsWorkedWith            NaN  NaN        NaN    702.0  \n",
       "NEWDevOps                           NaN  NaN        NaN      4.0  \n",
       "NEWDevOpsImpt                       NaN  NaN        NaN      6.0  \n",
       "NEWEdImpt                           NaN  NaN        NaN      6.0  \n",
       "NEWLearn                            NaN  NaN        NaN      5.0  \n",
       "NEWOnboardGood                      NaN  NaN        NaN      4.0  \n",
       "NEWOvertime                         NaN  NaN        NaN      6.0  \n",
       "NEWPurpleLink                       NaN  NaN        NaN      5.0  \n",
       "OpSys                               NaN  NaN        NaN      5.0  \n",
       "OrgSize                             NaN  NaN        NaN     10.0  \n",
       "PlatformWorkedWith                  NaN  NaN        NaN   2230.0  \n",
       "SOPartFreq                          NaN  NaN        NaN      7.0  \n",
       "SOVisitFreq                         NaN  NaN        NaN      7.0  \n",
       "UndergradMajor                      NaN  NaN        NaN     13.0  \n",
       "WorkWeekHrs                   17.005929  1.0      375.0      NaN  \n",
       "YearsCode                     10.382364  0.0       51.0      NaN  \n",
       "YearsCodePro                   8.715012  0.0       51.0      NaN  \n",
       "multiple_roles                      NaN  NaN        NaN      2.0  \n",
       "data_role                           NaN  NaN        NaN      3.0  \n",
       "Gender_1                            NaN  NaN        NaN      4.0  "
      ]
     },
     "execution_count": 281,
     "metadata": {},
     "output_type": "execute_result"
    }
   ],
   "source": [
    "df_data_info = cal_basic_info(df_data)\n",
    "\n",
    "df_data_info"
   ]
  },
  {
   "cell_type": "code",
   "execution_count": null,
   "metadata": {},
   "outputs": [],
   "source": []
  },
  {
   "cell_type": "markdown",
   "metadata": {},
   "source": [
    "### 3.2 only consider valid data\n",
    "\n",
    "1. only currently employed;\n",
    "2. not-null JobSat"
   ]
  },
  {
   "cell_type": "code",
   "execution_count": 294,
   "metadata": {},
   "outputs": [
    {
     "data": {
      "text/plain": [
       "(11750, 31)"
      ]
     },
     "execution_count": 294,
     "metadata": {},
     "output_type": "execute_result"
    }
   ],
   "source": [
    "df_data.shape"
   ]
  },
  {
   "cell_type": "code",
   "execution_count": 286,
   "metadata": {},
   "outputs": [
    {
     "data": {
      "text/plain": [
       "Employed full-time                                      9236\n",
       "Independent contractor, freelancer, or self-employed    1481\n",
       "Not employed, but looking for work                       564\n",
       "Employed part-time                                       469\n",
       "Name: Employment, dtype: int64"
      ]
     },
     "execution_count": 286,
     "metadata": {},
     "output_type": "execute_result"
    }
   ],
   "source": [
    "df_data['Employment'].value_counts()"
   ]
  },
  {
   "cell_type": "code",
   "execution_count": 291,
   "metadata": {},
   "outputs": [],
   "source": [
    "valid_employed = ['Employed full-time', 'Employed part-time', \n",
    "                  'Independent contractor, freelancer, or self-employed']\n",
    "valid_employed_cond = df_data['Employment'].isin(valid_employed)\n",
    "\n",
    "valid_jobsat = ~df_data['JobSat'].isnull()"
   ]
  },
  {
   "cell_type": "code",
   "execution_count": 295,
   "metadata": {},
   "outputs": [],
   "source": [
    "df_data = df_data[valid_employed_cond & valid_jobsat]"
   ]
  },
  {
   "cell_type": "code",
   "execution_count": null,
   "metadata": {},
   "outputs": [],
   "source": []
  },
  {
   "cell_type": "code",
   "execution_count": 252,
   "metadata": {},
   "outputs": [
    {
     "data": {
      "text/html": [
       "<div>\n",
       "<style scoped>\n",
       "    .dataframe tbody tr th:only-of-type {\n",
       "        vertical-align: middle;\n",
       "    }\n",
       "\n",
       "    .dataframe tbody tr th {\n",
       "        vertical-align: top;\n",
       "    }\n",
       "\n",
       "    .dataframe thead th {\n",
       "        text-align: right;\n",
       "    }\n",
       "</style>\n",
       "<table border=\"1\" class=\"dataframe\">\n",
       "  <thead>\n",
       "    <tr style=\"text-align: right;\">\n",
       "      <th></th>\n",
       "      <th>Age1stCode</th>\n",
       "      <th>YearsCode</th>\n",
       "      <th>YearsCodePro</th>\n",
       "    </tr>\n",
       "  </thead>\n",
       "  <tbody>\n",
       "    <tr>\n",
       "      <th>35</th>\n",
       "      <td>30</td>\n",
       "      <td>4</td>\n",
       "      <td>3</td>\n",
       "    </tr>\n",
       "    <tr>\n",
       "      <th>46</th>\n",
       "      <td>10</td>\n",
       "      <td>43</td>\n",
       "      <td>28</td>\n",
       "    </tr>\n",
       "    <tr>\n",
       "      <th>68</th>\n",
       "      <td>12</td>\n",
       "      <td>13</td>\n",
       "      <td>3</td>\n",
       "    </tr>\n",
       "    <tr>\n",
       "      <th>71</th>\n",
       "      <td>16</td>\n",
       "      <td>10</td>\n",
       "      <td>NaN</td>\n",
       "    </tr>\n",
       "    <tr>\n",
       "      <th>76</th>\n",
       "      <td>6</td>\n",
       "      <td>30</td>\n",
       "      <td>16</td>\n",
       "    </tr>\n",
       "    <tr>\n",
       "      <th>...</th>\n",
       "      <td>...</td>\n",
       "      <td>...</td>\n",
       "      <td>...</td>\n",
       "    </tr>\n",
       "    <tr>\n",
       "      <th>64344</th>\n",
       "      <td>Younger than 5 years</td>\n",
       "      <td>Less than 1 year</td>\n",
       "      <td>Less than 1 year</td>\n",
       "    </tr>\n",
       "    <tr>\n",
       "      <th>64361</th>\n",
       "      <td>35</td>\n",
       "      <td>1</td>\n",
       "      <td>NaN</td>\n",
       "    </tr>\n",
       "    <tr>\n",
       "      <th>64368</th>\n",
       "      <td>16</td>\n",
       "      <td>14</td>\n",
       "      <td>10</td>\n",
       "    </tr>\n",
       "    <tr>\n",
       "      <th>64392</th>\n",
       "      <td>35</td>\n",
       "      <td>Less than 1 year</td>\n",
       "      <td>12</td>\n",
       "    </tr>\n",
       "    <tr>\n",
       "      <th>64401</th>\n",
       "      <td>Younger than 5 years</td>\n",
       "      <td>Less than 1 year</td>\n",
       "      <td>NaN</td>\n",
       "    </tr>\n",
       "  </tbody>\n",
       "</table>\n",
       "<p>11750 rows × 3 columns</p>\n",
       "</div>"
      ],
      "text/plain": [
       "                 Age1stCode         YearsCode      YearsCodePro\n",
       "35                       30                 4                 3\n",
       "46                       10                43                28\n",
       "68                       12                13                 3\n",
       "71                       16                10               NaN\n",
       "76                        6                30                16\n",
       "...                     ...               ...               ...\n",
       "64344  Younger than 5 years  Less than 1 year  Less than 1 year\n",
       "64361                    35                 1               NaN\n",
       "64368                    16                14                10\n",
       "64392                    35  Less than 1 year                12\n",
       "64401  Younger than 5 years  Less than 1 year               NaN\n",
       "\n",
       "[11750 rows x 3 columns]"
      ]
     },
     "execution_count": 252,
     "metadata": {},
     "output_type": "execute_result"
    }
   ],
   "source": [
    "df_data[['Age1stCode', 'YearsCode', 'YearsCodePro']]"
   ]
  },
  {
   "cell_type": "code",
   "execution_count": 253,
   "metadata": {
    "collapsed": true,
    "jupyter": {
     "outputs_hidden": true
    }
   },
   "outputs": [
    {
     "data": {
      "text/plain": [
       "18                      1072\n",
       "15                      1035\n",
       "16                      1000\n",
       "14                       969\n",
       "12                       964\n",
       "10                       803\n",
       "13                       748\n",
       "17                       734\n",
       "19                       690\n",
       "20                       521\n",
       "11                       453\n",
       "8                        372\n",
       "21                       292\n",
       "9                        254\n",
       "22                       238\n",
       "7                        231\n",
       "23                       181\n",
       "24                       154\n",
       "25                       151\n",
       "Younger than 5 years     139\n",
       "6                        126\n",
       "5                        107\n",
       "26                        81\n",
       "28                        51\n",
       "30                        48\n",
       "27                        45\n",
       "29                        35\n",
       "32                        24\n",
       "35                        23\n",
       "31                        16\n",
       "34                        15\n",
       "Older than 85             12\n",
       "33                        12\n",
       "38                         9\n",
       "40                         9\n",
       "36                         8\n",
       "42                         8\n",
       "45                         6\n",
       "39                         5\n",
       "52                         4\n",
       "44                         3\n",
       "41                         3\n",
       "85                         3\n",
       "37                         3\n",
       "46                         3\n",
       "48                         2\n",
       "43                         2\n",
       "64                         2\n",
       "55                         2\n",
       "53                         1\n",
       "50                         1\n",
       "Name: Age1stCode, dtype: int64"
      ]
     },
     "execution_count": 253,
     "metadata": {},
     "output_type": "execute_result"
    }
   ],
   "source": [
    "# {'Younger than 5 years': 4, 'Older than 85': 86}\n",
    "\n",
    "df_data['Age1stCode'].value_counts()"
   ]
  },
  {
   "cell_type": "code",
   "execution_count": 268,
   "metadata": {},
   "outputs": [
    {
     "ename": "ValueError",
     "evalue": "cannot convert float NaN to integer",
     "output_type": "error",
     "traceback": [
      "\u001b[0;31m---------------------------------------------------------------------------\u001b[0m",
      "\u001b[0;31mValueError\u001b[0m                                Traceback (most recent call last)",
      "\u001b[0;32m<ipython-input-268-0290c0f0d7ba>\u001b[0m in \u001b[0;36m<module>\u001b[0;34m\u001b[0m\n\u001b[1;32m      1\u001b[0m \u001b[0mdf_data\u001b[0m\u001b[0;34m[\u001b[0m\u001b[0;34m'Age1stCode'\u001b[0m\u001b[0;34m]\u001b[0m\u001b[0;34m.\u001b[0m\u001b[0mstr\u001b[0m\u001b[0;34m.\u001b[0m\u001b[0;31m\\\u001b[0m\u001b[0;34m\u001b[0m\u001b[0;34m\u001b[0m\u001b[0m\n\u001b[1;32m      2\u001b[0m \u001b[0mreplace\u001b[0m\u001b[0;34m(\u001b[0m\u001b[0;34m'Younger than 5 years'\u001b[0m\u001b[0;34m,\u001b[0m \u001b[0;34m'4'\u001b[0m\u001b[0;34m)\u001b[0m\u001b[0;34m.\u001b[0m\u001b[0;31m\\\u001b[0m\u001b[0;34m\u001b[0m\u001b[0;34m\u001b[0m\u001b[0m\n\u001b[0;32m----> 3\u001b[0;31m \u001b[0mstr\u001b[0m\u001b[0;34m.\u001b[0m\u001b[0mreplace\u001b[0m\u001b[0;34m(\u001b[0m\u001b[0;34m'Older than 85'\u001b[0m\u001b[0;34m,\u001b[0m \u001b[0;34m'86'\u001b[0m\u001b[0;34m)\u001b[0m\u001b[0;34m.\u001b[0m\u001b[0mastype\u001b[0m\u001b[0;34m(\u001b[0m\u001b[0;34m'int'\u001b[0m\u001b[0;34m)\u001b[0m\u001b[0;34m\u001b[0m\u001b[0;34m\u001b[0m\u001b[0m\n\u001b[0m",
      "\u001b[0;32m~/anaconda3/envs/ML_py37/lib/python3.7/site-packages/pandas/core/generic.py\u001b[0m in \u001b[0;36mastype\u001b[0;34m(self, dtype, copy, errors)\u001b[0m\n\u001b[1;32m   5696\u001b[0m         \u001b[0;32melse\u001b[0m\u001b[0;34m:\u001b[0m\u001b[0;34m\u001b[0m\u001b[0;34m\u001b[0m\u001b[0m\n\u001b[1;32m   5697\u001b[0m             \u001b[0;31m# else, only a single dtype is given\u001b[0m\u001b[0;34m\u001b[0m\u001b[0;34m\u001b[0m\u001b[0;34m\u001b[0m\u001b[0m\n\u001b[0;32m-> 5698\u001b[0;31m             \u001b[0mnew_data\u001b[0m \u001b[0;34m=\u001b[0m \u001b[0mself\u001b[0m\u001b[0;34m.\u001b[0m\u001b[0m_data\u001b[0m\u001b[0;34m.\u001b[0m\u001b[0mastype\u001b[0m\u001b[0;34m(\u001b[0m\u001b[0mdtype\u001b[0m\u001b[0;34m=\u001b[0m\u001b[0mdtype\u001b[0m\u001b[0;34m,\u001b[0m \u001b[0mcopy\u001b[0m\u001b[0;34m=\u001b[0m\u001b[0mcopy\u001b[0m\u001b[0;34m,\u001b[0m \u001b[0merrors\u001b[0m\u001b[0;34m=\u001b[0m\u001b[0merrors\u001b[0m\u001b[0;34m)\u001b[0m\u001b[0;34m\u001b[0m\u001b[0;34m\u001b[0m\u001b[0m\n\u001b[0m\u001b[1;32m   5699\u001b[0m             \u001b[0;32mreturn\u001b[0m \u001b[0mself\u001b[0m\u001b[0;34m.\u001b[0m\u001b[0m_constructor\u001b[0m\u001b[0;34m(\u001b[0m\u001b[0mnew_data\u001b[0m\u001b[0;34m)\u001b[0m\u001b[0;34m.\u001b[0m\u001b[0m__finalize__\u001b[0m\u001b[0;34m(\u001b[0m\u001b[0mself\u001b[0m\u001b[0;34m)\u001b[0m\u001b[0;34m\u001b[0m\u001b[0;34m\u001b[0m\u001b[0m\n\u001b[1;32m   5700\u001b[0m \u001b[0;34m\u001b[0m\u001b[0m\n",
      "\u001b[0;32m~/anaconda3/envs/ML_py37/lib/python3.7/site-packages/pandas/core/internals/managers.py\u001b[0m in \u001b[0;36mastype\u001b[0;34m(self, dtype, copy, errors)\u001b[0m\n\u001b[1;32m    580\u001b[0m \u001b[0;34m\u001b[0m\u001b[0m\n\u001b[1;32m    581\u001b[0m     \u001b[0;32mdef\u001b[0m \u001b[0mastype\u001b[0m\u001b[0;34m(\u001b[0m\u001b[0mself\u001b[0m\u001b[0;34m,\u001b[0m \u001b[0mdtype\u001b[0m\u001b[0;34m,\u001b[0m \u001b[0mcopy\u001b[0m\u001b[0;34m:\u001b[0m \u001b[0mbool\u001b[0m \u001b[0;34m=\u001b[0m \u001b[0;32mFalse\u001b[0m\u001b[0;34m,\u001b[0m \u001b[0merrors\u001b[0m\u001b[0;34m:\u001b[0m \u001b[0mstr\u001b[0m \u001b[0;34m=\u001b[0m \u001b[0;34m\"raise\"\u001b[0m\u001b[0;34m)\u001b[0m\u001b[0;34m:\u001b[0m\u001b[0;34m\u001b[0m\u001b[0;34m\u001b[0m\u001b[0m\n\u001b[0;32m--> 582\u001b[0;31m         \u001b[0;32mreturn\u001b[0m \u001b[0mself\u001b[0m\u001b[0;34m.\u001b[0m\u001b[0mapply\u001b[0m\u001b[0;34m(\u001b[0m\u001b[0;34m\"astype\"\u001b[0m\u001b[0;34m,\u001b[0m \u001b[0mdtype\u001b[0m\u001b[0;34m=\u001b[0m\u001b[0mdtype\u001b[0m\u001b[0;34m,\u001b[0m \u001b[0mcopy\u001b[0m\u001b[0;34m=\u001b[0m\u001b[0mcopy\u001b[0m\u001b[0;34m,\u001b[0m \u001b[0merrors\u001b[0m\u001b[0;34m=\u001b[0m\u001b[0merrors\u001b[0m\u001b[0;34m)\u001b[0m\u001b[0;34m\u001b[0m\u001b[0;34m\u001b[0m\u001b[0m\n\u001b[0m\u001b[1;32m    583\u001b[0m \u001b[0;34m\u001b[0m\u001b[0m\n\u001b[1;32m    584\u001b[0m     \u001b[0;32mdef\u001b[0m \u001b[0mconvert\u001b[0m\u001b[0;34m(\u001b[0m\u001b[0mself\u001b[0m\u001b[0;34m,\u001b[0m \u001b[0;34m**\u001b[0m\u001b[0mkwargs\u001b[0m\u001b[0;34m)\u001b[0m\u001b[0;34m:\u001b[0m\u001b[0;34m\u001b[0m\u001b[0;34m\u001b[0m\u001b[0m\n",
      "\u001b[0;32m~/anaconda3/envs/ML_py37/lib/python3.7/site-packages/pandas/core/internals/managers.py\u001b[0m in \u001b[0;36mapply\u001b[0;34m(self, f, filter, **kwargs)\u001b[0m\n\u001b[1;32m    440\u001b[0m                 \u001b[0mapplied\u001b[0m \u001b[0;34m=\u001b[0m \u001b[0mb\u001b[0m\u001b[0;34m.\u001b[0m\u001b[0mapply\u001b[0m\u001b[0;34m(\u001b[0m\u001b[0mf\u001b[0m\u001b[0;34m,\u001b[0m \u001b[0;34m**\u001b[0m\u001b[0mkwargs\u001b[0m\u001b[0;34m)\u001b[0m\u001b[0;34m\u001b[0m\u001b[0;34m\u001b[0m\u001b[0m\n\u001b[1;32m    441\u001b[0m             \u001b[0;32melse\u001b[0m\u001b[0;34m:\u001b[0m\u001b[0;34m\u001b[0m\u001b[0;34m\u001b[0m\u001b[0m\n\u001b[0;32m--> 442\u001b[0;31m                 \u001b[0mapplied\u001b[0m \u001b[0;34m=\u001b[0m \u001b[0mgetattr\u001b[0m\u001b[0;34m(\u001b[0m\u001b[0mb\u001b[0m\u001b[0;34m,\u001b[0m \u001b[0mf\u001b[0m\u001b[0;34m)\u001b[0m\u001b[0;34m(\u001b[0m\u001b[0;34m**\u001b[0m\u001b[0mkwargs\u001b[0m\u001b[0;34m)\u001b[0m\u001b[0;34m\u001b[0m\u001b[0;34m\u001b[0m\u001b[0m\n\u001b[0m\u001b[1;32m    443\u001b[0m             \u001b[0mresult_blocks\u001b[0m \u001b[0;34m=\u001b[0m \u001b[0m_extend_blocks\u001b[0m\u001b[0;34m(\u001b[0m\u001b[0mapplied\u001b[0m\u001b[0;34m,\u001b[0m \u001b[0mresult_blocks\u001b[0m\u001b[0;34m)\u001b[0m\u001b[0;34m\u001b[0m\u001b[0;34m\u001b[0m\u001b[0m\n\u001b[1;32m    444\u001b[0m \u001b[0;34m\u001b[0m\u001b[0m\n",
      "\u001b[0;32m~/anaconda3/envs/ML_py37/lib/python3.7/site-packages/pandas/core/internals/blocks.py\u001b[0m in \u001b[0;36mastype\u001b[0;34m(self, dtype, copy, errors)\u001b[0m\n\u001b[1;32m    623\u001b[0m             \u001b[0mvals1d\u001b[0m \u001b[0;34m=\u001b[0m \u001b[0mvalues\u001b[0m\u001b[0;34m.\u001b[0m\u001b[0mravel\u001b[0m\u001b[0;34m(\u001b[0m\u001b[0;34m)\u001b[0m\u001b[0;34m\u001b[0m\u001b[0;34m\u001b[0m\u001b[0m\n\u001b[1;32m    624\u001b[0m             \u001b[0;32mtry\u001b[0m\u001b[0;34m:\u001b[0m\u001b[0;34m\u001b[0m\u001b[0;34m\u001b[0m\u001b[0m\n\u001b[0;32m--> 625\u001b[0;31m                 \u001b[0mvalues\u001b[0m \u001b[0;34m=\u001b[0m \u001b[0mastype_nansafe\u001b[0m\u001b[0;34m(\u001b[0m\u001b[0mvals1d\u001b[0m\u001b[0;34m,\u001b[0m \u001b[0mdtype\u001b[0m\u001b[0;34m,\u001b[0m \u001b[0mcopy\u001b[0m\u001b[0;34m=\u001b[0m\u001b[0;32mTrue\u001b[0m\u001b[0;34m)\u001b[0m\u001b[0;34m\u001b[0m\u001b[0;34m\u001b[0m\u001b[0m\n\u001b[0m\u001b[1;32m    626\u001b[0m             \u001b[0;32mexcept\u001b[0m \u001b[0;34m(\u001b[0m\u001b[0mValueError\u001b[0m\u001b[0;34m,\u001b[0m \u001b[0mTypeError\u001b[0m\u001b[0;34m)\u001b[0m\u001b[0;34m:\u001b[0m\u001b[0;34m\u001b[0m\u001b[0;34m\u001b[0m\u001b[0m\n\u001b[1;32m    627\u001b[0m                 \u001b[0;31m# e.g. astype_nansafe can fail on object-dtype of strings\u001b[0m\u001b[0;34m\u001b[0m\u001b[0;34m\u001b[0m\u001b[0;34m\u001b[0m\u001b[0m\n",
      "\u001b[0;32m~/anaconda3/envs/ML_py37/lib/python3.7/site-packages/pandas/core/dtypes/cast.py\u001b[0m in \u001b[0;36mastype_nansafe\u001b[0;34m(arr, dtype, copy, skipna)\u001b[0m\n\u001b[1;32m    872\u001b[0m         \u001b[0;31m# work around NumPy brokenness, #1987\u001b[0m\u001b[0;34m\u001b[0m\u001b[0;34m\u001b[0m\u001b[0;34m\u001b[0m\u001b[0m\n\u001b[1;32m    873\u001b[0m         \u001b[0;32mif\u001b[0m \u001b[0mnp\u001b[0m\u001b[0;34m.\u001b[0m\u001b[0missubdtype\u001b[0m\u001b[0;34m(\u001b[0m\u001b[0mdtype\u001b[0m\u001b[0;34m.\u001b[0m\u001b[0mtype\u001b[0m\u001b[0;34m,\u001b[0m \u001b[0mnp\u001b[0m\u001b[0;34m.\u001b[0m\u001b[0minteger\u001b[0m\u001b[0;34m)\u001b[0m\u001b[0;34m:\u001b[0m\u001b[0;34m\u001b[0m\u001b[0;34m\u001b[0m\u001b[0m\n\u001b[0;32m--> 874\u001b[0;31m             \u001b[0;32mreturn\u001b[0m \u001b[0mlib\u001b[0m\u001b[0;34m.\u001b[0m\u001b[0mastype_intsafe\u001b[0m\u001b[0;34m(\u001b[0m\u001b[0marr\u001b[0m\u001b[0;34m.\u001b[0m\u001b[0mravel\u001b[0m\u001b[0;34m(\u001b[0m\u001b[0;34m)\u001b[0m\u001b[0;34m,\u001b[0m \u001b[0mdtype\u001b[0m\u001b[0;34m)\u001b[0m\u001b[0;34m.\u001b[0m\u001b[0mreshape\u001b[0m\u001b[0;34m(\u001b[0m\u001b[0marr\u001b[0m\u001b[0;34m.\u001b[0m\u001b[0mshape\u001b[0m\u001b[0;34m)\u001b[0m\u001b[0;34m\u001b[0m\u001b[0;34m\u001b[0m\u001b[0m\n\u001b[0m\u001b[1;32m    875\u001b[0m \u001b[0;34m\u001b[0m\u001b[0m\n\u001b[1;32m    876\u001b[0m         \u001b[0;31m# if we have a datetime/timedelta array of objects\u001b[0m\u001b[0;34m\u001b[0m\u001b[0;34m\u001b[0m\u001b[0;34m\u001b[0m\u001b[0m\n",
      "\u001b[0;32mpandas/_libs/lib.pyx\u001b[0m in \u001b[0;36mpandas._libs.lib.astype_intsafe\u001b[0;34m()\u001b[0m\n",
      "\u001b[0;31mValueError\u001b[0m: cannot convert float NaN to integer"
     ]
    }
   ],
   "source": [
    "pd.to_numeric(df_data['Age1stCode'].str.\\\n",
    "replace('Younger than 5 years', '4').\\\n",
    "str.replace('Older than 85', '86'), downcast='integer')"
   ]
  },
  {
   "cell_type": "code",
   "execution_count": null,
   "metadata": {},
   "outputs": [],
   "source": []
  },
  {
   "cell_type": "code",
   "execution_count": 255,
   "metadata": {
    "collapsed": true,
    "jupyter": {
     "outputs_hidden": true
    }
   },
   "outputs": [
    {
     "data": {
      "text/plain": [
       "10                    987\n",
       "6                     713\n",
       "8                     669\n",
       "5                     662\n",
       "7                     650\n",
       "15                    597\n",
       "20                    566\n",
       "4                     548\n",
       "12                    501\n",
       "3                     446\n",
       "9                     419\n",
       "11                    345\n",
       "14                    336\n",
       "30                    316\n",
       "13                    298\n",
       "25                    296\n",
       "17                    261\n",
       "16                    259\n",
       "18                    242\n",
       "2                     216\n",
       "35                    185\n",
       "40                    174\n",
       "22                    159\n",
       "1                     155\n",
       "19                    149\n",
       "Less than 1 year      128\n",
       "21                    127\n",
       "23                    124\n",
       "24                    101\n",
       "27                     95\n",
       "32                     90\n",
       "26                     83\n",
       "28                     81\n",
       "38                     80\n",
       "34                     63\n",
       "37                     59\n",
       "33                     58\n",
       "36                     54\n",
       "29                     48\n",
       "More than 50 years     44\n",
       "31                     41\n",
       "41                     31\n",
       "42                     31\n",
       "39                     30\n",
       "43                     28\n",
       "45                     24\n",
       "44                     19\n",
       "50                     16\n",
       "48                     11\n",
       "47                     11\n",
       "46                      9\n",
       "49                      3\n",
       "Name: YearsCode, dtype: int64"
      ]
     },
     "execution_count": 255,
     "metadata": {},
     "output_type": "execute_result"
    }
   ],
   "source": [
    "# {'Less than 1 year': 0, 'More than 50 years': 51}\n",
    "df_data['YearsCode'].value_counts()"
   ]
  },
  {
   "cell_type": "code",
   "execution_count": 256,
   "metadata": {
    "collapsed": true,
    "jupyter": {
     "outputs_hidden": true
    }
   },
   "outputs": [
    {
     "data": {
      "text/plain": [
       "2                     1114\n",
       "3                     1085\n",
       "5                      908\n",
       "4                      826\n",
       "1                      666\n",
       "10                     640\n",
       "6                      577\n",
       "8                      499\n",
       "7                      447\n",
       "Less than 1 year       437\n",
       "15                     383\n",
       "20                     369\n",
       "12                     309\n",
       "9                      271\n",
       "13                     195\n",
       "14                     188\n",
       "25                     172\n",
       "11                     159\n",
       "18                     130\n",
       "16                     118\n",
       "30                     117\n",
       "22                     104\n",
       "17                      88\n",
       "23                      82\n",
       "21                      78\n",
       "24                      75\n",
       "19                      73\n",
       "35                      72\n",
       "26                      47\n",
       "28                      43\n",
       "27                      41\n",
       "33                      39\n",
       "32                      38\n",
       "More than 50 years      33\n",
       "40                      33\n",
       "37                      24\n",
       "29                      19\n",
       "38                      15\n",
       "36                      14\n",
       "34                      13\n",
       "39                      12\n",
       "31                      10\n",
       "45                       6\n",
       "41                       4\n",
       "44                       4\n",
       "43                       3\n",
       "42                       3\n",
       "46                       3\n",
       "48                       3\n",
       "47                       2\n",
       "49                       1\n",
       "Name: YearsCodePro, dtype: int64"
      ]
     },
     "execution_count": 256,
     "metadata": {},
     "output_type": "execute_result"
    }
   ],
   "source": [
    "# {'Less than 1 year': 0, 'More than 50 years': 51}\n",
    "df_data['YearsCodePro'].value_counts()"
   ]
  },
  {
   "cell_type": "code",
   "execution_count": null,
   "metadata": {},
   "outputs": [],
   "source": []
  },
  {
   "cell_type": "code",
   "execution_count": 112,
   "metadata": {},
   "outputs": [
    {
     "name": "stdout",
     "output_type": "stream",
     "text": [
      "Respondent: 36\n",
      "MainBranch: I am not primarily a developer, but I write code sometimes as part of my work\n",
      "Hobbyist: Yes\n",
      "Age: 34.0\n",
      "Age1stCode: 30\n",
      "CompFreq: Yearly\n",
      "CompTotal: 60000.0\n",
      "ConvertedComp: 77556.0\n",
      "Country: United Kingdom\n",
      "CurrencyDesc: Pound sterling\n",
      "CurrencySymbol: GBP\n",
      "DatabaseDesireNextYear: Microsoft SQL Server;MongoDB;SQLite\n",
      "DatabaseWorkedWith: IBM DB2;Microsoft SQL Server;MongoDB;SQLite\n",
      "DevType: Data or business analyst;Data scientist or machine learning specialist\n",
      "EdLevel: Some college/university study without earning a degree\n",
      "Employment: Employed full-time\n",
      "Ethnicity: White or of European descent\n",
      "Gender: Man\n",
      "JobFactors: Flex time or a flexible schedule;Office environment or company culture;Opportunities for professional development\n",
      "JobSat: Slightly satisfied\n",
      "JobSeek: I’m not actively looking, but I am open to new opportunities\n",
      "LanguageDesireNextYear: C#;Go;HTML/CSS;JavaScript;Python;SQL\n",
      "LanguageWorkedWith: C#;Go;HTML/CSS;Java;JavaScript;Python;R;SQL\n",
      "MiscTechDesireNextYear: Keras;Node.js;Pandas;TensorFlow\n",
      "MiscTechWorkedWith: Node.js;Pandas\n",
      "NEWCollabToolsDesireNextYear: Confluence;Jira;Github;Slack;Trello\n",
      "NEWCollabToolsWorkedWith: Confluence;Jira;Github;Slack;Trello\n",
      "NEWDevOps: Not sure\n",
      "NEWDevOpsImpt: Neutral\n",
      "NEWEdImpt: Somewhat important\n",
      "NEWJobHunt: Having a bad day (or week or month) at work;Curious about other opportunities;Wanting to work with new technologies;Growth or leadership opportunities\n",
      "NEWJobHuntResearch: nan\n",
      "NEWLearn: Every few months\n",
      "NEWOffTopic: No\n",
      "NEWOnboardGood: Yes\n",
      "NEWOtherComms: No\n",
      "NEWOvertime: Sometimes: 1-2 days per month but less than weekly\n",
      "NEWPurchaseResearch: nan\n",
      "NEWPurpleLink: Hello, old friend\n",
      "NEWSOSites: Stack Overflow (public Q&A for anyone who codes);Stack Exchange (public Q&A for a variety of topics)\n",
      "NEWStuck: Visit Stack Overflow;Go for a walk or other physical activity;Watch help / tutorial videos;Do other work and come back later\n",
      "OpSys: Windows\n",
      "OrgSize: 1,000 to 4,999 employees\n",
      "PlatformDesireNextYear: Linux;MacOS;Windows\n",
      "PlatformWorkedWith: MacOS;Windows\n",
      "PurchaseWhat: I have little or no influence\n",
      "Sexuality: Straight / Heterosexual\n",
      "SOAccount: Yes\n",
      "SOComm: Yes, somewhat\n",
      "SOPartFreq: Less than once per month or monthly\n",
      "SOVisitFreq: Multiple times per day\n",
      "SurveyEase: Easy\n",
      "SurveyLength: Appropriate in length\n",
      "Trans: No\n",
      "UndergradMajor: Computer science, computer engineering, or software engineering\n",
      "WebframeDesireNextYear: Express;React.js\n",
      "WebframeWorkedWith: Express;React.js\n",
      "WelcomeChange: Just as welcome now as I felt last year\n",
      "WorkWeekHrs: 40.0\n",
      "YearsCode: 4\n",
      "YearsCodePro: 3\n",
      "data_related: True\n",
      "DevType_list: {'Data scientist or machine learning specialist', 'Data or business analyst'}\n",
      "multiple_roles: True\n",
      "data_role: DS\n"
     ]
    }
   ],
   "source": [
    "for idx, val in df_data.iloc[0].items():\n",
    "    print(f\"{idx}: {val}\")"
   ]
  },
  {
   "cell_type": "code",
   "execution_count": 243,
   "metadata": {},
   "outputs": [
    {
     "data": {
      "text/plain": [
       "35                                           MacOS;Windows\n",
       "46          Arduino;AWS;Linux;Microsoft Azure;Raspberry Pi\n",
       "68                                   Linux;Microsoft Azure\n",
       "71                                                   MacOS\n",
       "76                 Docker;Linux;MacOS;Raspberry Pi;Windows\n",
       "                               ...                        \n",
       "64344                                                  NaN\n",
       "64361                                                  NaN\n",
       "64368    Docker;Google Cloud Platform;Kubernetes;Linux;...\n",
       "64392    Android;Arduino;AWS;Docker;Google Cloud Platfo...\n",
       "64401    Android;Arduino;AWS;Docker;Google Cloud Platfo...\n",
       "Name: PlatformWorkedWith, Length: 11750, dtype: object"
      ]
     },
     "execution_count": 243,
     "metadata": {},
     "output_type": "execute_result"
    }
   ],
   "source": []
  },
  {
   "cell_type": "code",
   "execution_count": null,
   "metadata": {},
   "outputs": [],
   "source": []
  }
 ],
 "metadata": {
  "kernelspec": {
   "display_name": "Python 3",
   "language": "python",
   "name": "python3"
  },
  "language_info": {
   "codemirror_mode": {
    "name": "ipython",
    "version": 3
   },
   "file_extension": ".py",
   "mimetype": "text/x-python",
   "name": "python",
   "nbconvert_exporter": "python",
   "pygments_lexer": "ipython3",
   "version": "3.7.5"
  }
 },
 "nbformat": 4,
 "nbformat_minor": 4
}
